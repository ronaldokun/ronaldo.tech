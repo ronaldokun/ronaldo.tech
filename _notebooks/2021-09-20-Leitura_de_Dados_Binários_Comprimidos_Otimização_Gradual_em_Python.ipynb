{
 "cells": [
  {
   "cell_type": "markdown",
   "id": "59ffbde7",
   "metadata": {
    "id": "e7268ba0"
   },
   "source": [
    "# Leitura de dados binários comprimidos - um exemplo de otimização gradual em Python\n",
    "> As atividades de monitoramento do espectro de radiofrequência na ANATEL, especificamente aquelas que utilizam estações remotas de monitoramento, geram centenas de GB de dados. Um dos primeiros desafios para a utilização mais eficiente desses dados é a sua leitura eficiente. Nesse artigo é detalhada as iterações realizadas para resolver esse problema, primeiramente tornar essa leitura viável e posteriormente os passos de otimização aplicados no algoritmo para decodificar os dados de arquivos comprimidos \n",
    "\n",
    "- toc: true\n",
    "- branch: master\n",
    "- badges: true\n",
    "- comments: true\n",
    "- categories: [spectrum monitoring, profiling, numpy, cython]\n",
    "- image: images/copied_fom_nb/images/devil.png\n",
    "- hide_binder_badge: true\n",
    "- author: Ronaldo S.A. Batista"
   ]
  },
  {
   "cell_type": "markdown",
   "id": "cfa0cae8",
   "metadata": {
    "id": "024af387"
   },
   "source": [
    "![](images/knuth.png \"Crédito da Imagem: https://twitter.com/lpolovets/status/816117631572807680\")"
   ]
  },
  {
   "cell_type": "markdown",
   "id": "005eef4c",
   "metadata": {
    "id": "3ebae215"
   },
   "source": [
    "O objeto desse artigo são arquivos binários com extensão `.bin` - gerados pela aplicação `Logger` embarcada nas estações de monitoramento do tipo [Rfeye Node 20-6](http://agc.com.br/produto/rfeye-node/).\n",
    "\n",
    "Estes arquivos armazenam diversos metadados sobre a medição e blocos com informação numérica, que são as medidas em si, chamadas aqui de _dados de espectro_ ou _dados espectrais_ ou _dados de nível_. \n",
    "\n",
    "A versão recente da aplicação `Logger` gera dados comprimidos de maneira muito eficiente, o que torna a descompressão desafiadora para arquivos com muitos dados e bastante demorada caso seja feita de maneira \"ingênua\".\n",
    "\n",
    "Mesmo que o problema apresentado aqui pareça obscuro, as técnicas de otimização podem ser aplicadas em outros contextos que sejam relevantes para quem lê."
   ]
  },
  {
   "cell_type": "markdown",
   "id": "ef4b575f",
   "metadata": {
    "id": "457d447f"
   },
   "source": [
    "> Note: Nos parágrafos a seguir irei passar por cima deliberadamente ( por não serem relevantes para a otimização e por pouco conhecimento no assunto ) de explicações sobre a parte de física / engenharia de telecomunicações e irei focar mais no problema específico de decodificação dos arquivos."
   ]
  },
  {
   "cell_type": "markdown",
   "id": "4f2a4c78",
   "metadata": {
    "id": "L5yfIxjUPY88"
   },
   "source": [
    "## Bibliotecas necessárias"
   ]
  },
  {
   "cell_type": "code",
   "execution_count": null,
   "id": "375576b5",
   "metadata": {
    "id": "Dqm4PGxCRLSj"
   },
   "outputs": [],
   "source": [
    "!pip3 install rfpye line_profiler fastprogress -qUU"
   ]
  },
  {
   "cell_type": "markdown",
   "id": "53ab2740",
   "metadata": {
    "id": "_hUZlknWReoE"
   },
   "source": [
    "## Baixando arquivos binários\n",
    "Como primeiro passos precisamos de alguns tipos de arquivos binários como exemplo: Neste repositório é disponibilizado diversos tipos de Arquivos de Espectro: https://github.com/EricMagalhaesDelgado/SpecFiles\n",
    "\n",
    "Para nossos propósitos queremos um arquivo comprimido, cujo nome contém `MaskBroken`"
   ]
  },
  {
   "cell_type": "code",
   "execution_count": null,
   "id": "7ba4d86f",
   "metadata": {
    "colab": {
     "base_uri": "https://localhost:8080/"
    },
    "executionInfo": {
     "elapsed": 2894,
     "status": "ok",
     "timestamp": 1632107809477,
     "user": {
      "displayName": "Ronaldo da Silva Alves Batista",
      "photoUrl": "https://lh3.googleusercontent.com/a/default-user=s64",
      "userId": "01599860855598048438"
     },
     "user_tz": 180
    },
    "id": "X1BKOV3IRvxR",
    "outputId": "71709643-f353-4e8f-da51-0640e31d9960"
   },
   "outputs": [
    {
     "name": "stdout",
     "output_type": "stream",
     "text": [
      "--2021-09-20 03:16:45--  https://drive.google.com/u/2/uc?id=1K-riwTKeP6HuUtnRFuN2wxjRrdRxApdu&export=download\n",
      "Resolving drive.google.com (drive.google.com)... 64.233.189.101, 64.233.189.139, 64.233.189.102, ...\n",
      "Connecting to drive.google.com (drive.google.com)|64.233.189.101|:443... connected.\n",
      "HTTP request sent, awaiting response... 302 Moved Temporarily\n",
      "Location: https://doc-0g-00-docs.googleusercontent.com/docs/securesc/ha0ro937gcuc7l7deffksulhg5h7mbp1/a228g2dpkhdrm9ipevs8oojmqa58dplb/1632107775000/01599860855598048438/*/1K-riwTKeP6HuUtnRFuN2wxjRrdRxApdu?e=download [following]\n",
      "Warning: wildcards not supported in HTTP.\n",
      "--2021-09-20 03:16:47--  https://doc-0g-00-docs.googleusercontent.com/docs/securesc/ha0ro937gcuc7l7deffksulhg5h7mbp1/a228g2dpkhdrm9ipevs8oojmqa58dplb/1632107775000/01599860855598048438/*/1K-riwTKeP6HuUtnRFuN2wxjRrdRxApdu?e=download\n",
      "Resolving doc-0g-00-docs.googleusercontent.com (doc-0g-00-docs.googleusercontent.com)... 74.125.23.132, 2404:6800:4008:c02::84\n",
      "Connecting to doc-0g-00-docs.googleusercontent.com (doc-0g-00-docs.googleusercontent.com)|74.125.23.132|:443... connected.\n",
      "HTTP request sent, awaiting response... 200 OK\n",
      "Length: unspecified [application/octet-stream]\n",
      "Saving to: ‘rfeye002092_210223_T163131_MaskBroken.bin’\n",
      "\n",
      "rfeye002092_210223_     [   <=>              ]  95.37M   193MB/s    in 0.5s    \n",
      "\n",
      "2021-09-20 03:16:48 (193 MB/s) - ‘rfeye002092_210223_T163131_MaskBroken.bin’ saved [100000736]\n",
      "\n"
     ]
    }
   ],
   "source": [
    "!wget 'https://drive.google.com/u/2/uc?id=1K-riwTKeP6HuUtnRFuN2wxjRrdRxApdu&export=download' --output-document 'rfeye002092_210223_T163131_MaskBroken.bin'"
   ]
  },
  {
   "cell_type": "markdown",
   "id": "27e30b20",
   "metadata": {
    "id": "05ba1383"
   },
   "source": [
    "## Explorando o arquivo `.bin`\n",
    "\n",
    "Cada arquivo `.bin` possui dados distintos em um mesmo arquivo, em dois níveis `blocos` e `thread_id`.\n",
    "\n",
    "* Um `bloco` determina o tipo de dado: espectro, gps, dados textuais etc...\n",
    "* O `thread_id` nada mais é que um identificador da faixa específica de varredura armazenada naquele bloco.\n",
    "\n",
    "A função a seguir `parse_bin` encapsula a leitura do arquivo e seus metadados e retorna um dicionário cujas chaves são as diferentes combinações de `blocos` e `thread_id` e os valores são listas com os blocos. \n",
    "\n",
    "> Note: Cada bloco é uma classe python contendo seus atributos. Os detalhes de implementação dessa função podem ser ignorados, o que nos interessa aqui é uma vez que temos os bytes de dados com os valores de níveis como o lemos de maneira eficiente para ponto flutuante.\n",
    "\n",
    "> Tip: A biblioteca `rfpye` criada para o processamento desses arquivos faz amplo uso da biblioteca [fastcore](https://fastcore.fast.ai/). Esta expande as funcionalidades da linguagem python inspirada em atributos muito úteis de outras linguagens. Recomendo fortemente para quem deseja expandir o seu inventário de ferramentas python"
   ]
  },
  {
   "cell_type": "code",
   "execution_count": null,
   "id": "c79d2ad9",
   "metadata": {
    "ExecuteTime": {
     "end_time": "2021-09-12T17:46:51.322543Z",
     "start_time": "2021-09-12T17:46:50.631881Z"
    },
    "id": "40a9d38c"
   },
   "outputs": [],
   "source": [
    "#hide\n",
    "%load_ext line_profiler"
   ]
  },
  {
   "cell_type": "code",
   "execution_count": null,
   "id": "f5984763",
   "metadata": {
    "ExecuteTime": {
     "end_time": "2021-09-12T17:46:53.323281Z",
     "start_time": "2021-09-12T17:46:51.910373Z"
    },
    "id": "b82b0d56"
   },
   "outputs": [],
   "source": [
    "import os\n",
    "from tqdm.notebook import tqdm\n",
    "from time import sleep\n",
    "from fastcore.xtras import Path\n",
    "import gc\n",
    "import warnings\n",
    "with warnings.catch_warnings():\n",
    "    warnings.simplefilter(\"ignore\")\n",
    "from rfpye.parser import parse_bin\n",
    "from rfpye.utils import public_attrs\n",
    "from fastcore.foundation import L\n",
    "import numpy as np\n",
    "import pandas as pd\n",
    "from rich import print\n",
    "from IPython.display import display"
   ]
  },
  {
   "cell_type": "code",
   "execution_count": null,
   "id": "ac91e0ea",
   "metadata": {
    "ExecuteTime": {
     "end_time": "2021-09-12T17:47:14.514763Z",
     "start_time": "2021-09-12T17:46:56.060782Z"
    },
    "colab": {
     "base_uri": "https://localhost:8080/",
     "height": 639
    },
    "executionInfo": {
     "elapsed": 23195,
     "status": "ok",
     "timestamp": 1632107832668,
     "user": {
      "displayName": "Ronaldo da Silva Alves Batista",
      "photoUrl": "https://lh3.googleusercontent.com/a/default-user=s64",
      "userId": "01599860855598048438"
     },
     "user_tz": 180
    },
    "id": "d8cd6611",
    "outputId": "9d0e295f-f449-4685-8a41-20bc14ea8c1f"
   },
   "outputs": [
    {
     "data": {
      "text/html": [
       "<pre style=\"white-space:pre;overflow-x:auto;line-height:normal;font-family:Menlo,'DejaVu Sans Mono',consolas,'Courier New',monospace\">Tipo de Bloco: <span style=\"color: #008080; text-decoration-color: #008080; font-weight: bold\">21</span>, Thread_ID: <span style=\"color: #008080; text-decoration-color: #008080; font-weight: bold\">0</span>, Nº de blocos <span style=\"color: #008080; text-decoration-color: #008080; font-weight: bold\">1</span>, Exemplo de Blocos: <span style=\"font-weight: bold\">&lt;</span><span style=\"color: #ff00ff; text-decoration-color: #ff00ff; font-weight: bold\">rfpye.blocks.DType21</span><span style=\"color: #000000; text-decoration-color: #000000\"> </span>\n",
       "<span style=\"color: #000000; text-decoration-color: #000000\">object at </span><span style=\"color: #008080; text-decoration-color: #008080; font-weight: bold\">0x7f1f7f285390</span><span style=\"font-weight: bold\">&gt;</span>\n",
       "</pre>\n"
      ],
      "text/plain": [
       "Tipo de Bloco: \u001b[1;36m21\u001b[0m, Thread_ID: \u001b[1;36m0\u001b[0m, Nº de blocos \u001b[1;36m1\u001b[0m, Exemplo de Blocos: \u001b[1m<\u001b[0m\u001b[1;95mrfpye.blocks.DType21\u001b[0m\u001b[39m \u001b[0m\n",
       "\u001b[39mobject at \u001b[0m\u001b[1;36m0x7f1f7f285390\u001b[0m\u001b[1m>\u001b[0m\n"
      ]
     },
     "metadata": {},
     "output_type": "display_data"
    },
    {
     "data": {
      "text/html": [
       "<pre style=\"white-space:pre;overflow-x:auto;line-height:normal;font-family:Menlo,'DejaVu Sans Mono',consolas,'Courier New',monospace\">Tipo de Bloco: <span style=\"color: #008080; text-decoration-color: #008080; font-weight: bold\">42</span>, Thread_ID: <span style=\"color: #008080; text-decoration-color: #008080; font-weight: bold\">0</span>, Nº de blocos <span style=\"color: #008080; text-decoration-color: #008080; font-weight: bold\">2</span>, Exemplo de Blocos: <span style=\"font-weight: bold\">&lt;</span><span style=\"color: #ff00ff; text-decoration-color: #ff00ff; font-weight: bold\">rfpye.blocks.DType42</span><span style=\"color: #000000; text-decoration-color: #000000\"> </span>\n",
       "<span style=\"color: #000000; text-decoration-color: #000000\">object at </span><span style=\"color: #008080; text-decoration-color: #008080; font-weight: bold\">0x7f1f7fb72210</span><span style=\"font-weight: bold\">&gt;</span>\n",
       "</pre>\n"
      ],
      "text/plain": [
       "Tipo de Bloco: \u001b[1;36m42\u001b[0m, Thread_ID: \u001b[1;36m0\u001b[0m, Nº de blocos \u001b[1;36m2\u001b[0m, Exemplo de Blocos: \u001b[1m<\u001b[0m\u001b[1;95mrfpye.blocks.DType42\u001b[0m\u001b[39m \u001b[0m\n",
       "\u001b[39mobject at \u001b[0m\u001b[1;36m0x7f1f7fb72210\u001b[0m\u001b[1m>\u001b[0m\n"
      ]
     },
     "metadata": {},
     "output_type": "display_data"
    },
    {
     "data": {
      "text/html": [
       "<pre style=\"white-space:pre;overflow-x:auto;line-height:normal;font-family:Menlo,'DejaVu Sans Mono',consolas,'Courier New',monospace\">Tipo de Bloco: <span style=\"color: #008080; text-decoration-color: #008080; font-weight: bold\">42</span>, Thread_ID: <span style=\"color: #008080; text-decoration-color: #008080; font-weight: bold\">301</span>, Nº de blocos <span style=\"color: #008080; text-decoration-color: #008080; font-weight: bold\">1</span>, Exemplo de Blocos: <span style=\"font-weight: bold\">&lt;</span><span style=\"color: #ff00ff; text-decoration-color: #ff00ff; font-weight: bold\">rfpye.blocks.DType42</span><span style=\"color: #000000; text-decoration-color: #000000\"> </span>\n",
       "<span style=\"color: #000000; text-decoration-color: #000000\">object at </span><span style=\"color: #008080; text-decoration-color: #008080; font-weight: bold\">0x7f1f7838e4d0</span><span style=\"font-weight: bold\">&gt;</span>\n",
       "</pre>\n"
      ],
      "text/plain": [
       "Tipo de Bloco: \u001b[1;36m42\u001b[0m, Thread_ID: \u001b[1;36m301\u001b[0m, Nº de blocos \u001b[1;36m1\u001b[0m, Exemplo de Blocos: \u001b[1m<\u001b[0m\u001b[1;95mrfpye.blocks.DType42\u001b[0m\u001b[39m \u001b[0m\n",
       "\u001b[39mobject at \u001b[0m\u001b[1;36m0x7f1f7838e4d0\u001b[0m\u001b[1m>\u001b[0m\n"
      ]
     },
     "metadata": {},
     "output_type": "display_data"
    },
    {
     "data": {
      "text/html": [
       "<pre style=\"white-space:pre;overflow-x:auto;line-height:normal;font-family:Menlo,'DejaVu Sans Mono',consolas,'Courier New',monospace\">Tipo de Bloco: <span style=\"color: #008080; text-decoration-color: #008080; font-weight: bold\">42</span>, Thread_ID: <span style=\"color: #008080; text-decoration-color: #008080; font-weight: bold\">311</span>, Nº de blocos <span style=\"color: #008080; text-decoration-color: #008080; font-weight: bold\">1</span>, Exemplo de Blocos: <span style=\"font-weight: bold\">&lt;</span><span style=\"color: #ff00ff; text-decoration-color: #ff00ff; font-weight: bold\">rfpye.blocks.DType42</span><span style=\"color: #000000; text-decoration-color: #000000\"> </span>\n",
       "<span style=\"color: #000000; text-decoration-color: #000000\">object at </span><span style=\"color: #008080; text-decoration-color: #008080; font-weight: bold\">0x7f1f7838e550</span><span style=\"font-weight: bold\">&gt;</span>\n",
       "</pre>\n"
      ],
      "text/plain": [
       "Tipo de Bloco: \u001b[1;36m42\u001b[0m, Thread_ID: \u001b[1;36m311\u001b[0m, Nº de blocos \u001b[1;36m1\u001b[0m, Exemplo de Blocos: \u001b[1m<\u001b[0m\u001b[1;95mrfpye.blocks.DType42\u001b[0m\u001b[39m \u001b[0m\n",
       "\u001b[39mobject at \u001b[0m\u001b[1;36m0x7f1f7838e550\u001b[0m\u001b[1m>\u001b[0m\n"
      ]
     },
     "metadata": {},
     "output_type": "display_data"
    },
    {
     "data": {
      "text/html": [
       "<pre style=\"white-space:pre;overflow-x:auto;line-height:normal;font-family:Menlo,'DejaVu Sans Mono',consolas,'Courier New',monospace\">Tipo de Bloco: <span style=\"color: #008080; text-decoration-color: #008080; font-weight: bold\">42</span>, Thread_ID: <span style=\"color: #008080; text-decoration-color: #008080; font-weight: bold\">321</span>, Nº de blocos <span style=\"color: #008080; text-decoration-color: #008080; font-weight: bold\">1</span>, Exemplo de Blocos: <span style=\"font-weight: bold\">&lt;</span><span style=\"color: #ff00ff; text-decoration-color: #ff00ff; font-weight: bold\">rfpye.blocks.DType42</span><span style=\"color: #000000; text-decoration-color: #000000\"> </span>\n",
       "<span style=\"color: #000000; text-decoration-color: #000000\">object at </span><span style=\"color: #008080; text-decoration-color: #008080; font-weight: bold\">0x7f1f7838e610</span><span style=\"font-weight: bold\">&gt;</span>\n",
       "</pre>\n"
      ],
      "text/plain": [
       "Tipo de Bloco: \u001b[1;36m42\u001b[0m, Thread_ID: \u001b[1;36m321\u001b[0m, Nº de blocos \u001b[1;36m1\u001b[0m, Exemplo de Blocos: \u001b[1m<\u001b[0m\u001b[1;95mrfpye.blocks.DType42\u001b[0m\u001b[39m \u001b[0m\n",
       "\u001b[39mobject at \u001b[0m\u001b[1;36m0x7f1f7838e610\u001b[0m\u001b[1m>\u001b[0m\n"
      ]
     },
     "metadata": {},
     "output_type": "display_data"
    },
    {
     "data": {
      "text/html": [
       "<pre style=\"white-space:pre;overflow-x:auto;line-height:normal;font-family:Menlo,'DejaVu Sans Mono',consolas,'Courier New',monospace\">Tipo de Bloco: <span style=\"color: #008080; text-decoration-color: #008080; font-weight: bold\">42</span>, Thread_ID: <span style=\"color: #008080; text-decoration-color: #008080; font-weight: bold\">331</span>, Nº de blocos <span style=\"color: #008080; text-decoration-color: #008080; font-weight: bold\">1</span>, Exemplo de Blocos: <span style=\"font-weight: bold\">&lt;</span><span style=\"color: #ff00ff; text-decoration-color: #ff00ff; font-weight: bold\">rfpye.blocks.DType42</span><span style=\"color: #000000; text-decoration-color: #000000\"> </span>\n",
       "<span style=\"color: #000000; text-decoration-color: #000000\">object at </span><span style=\"color: #008080; text-decoration-color: #008080; font-weight: bold\">0x7f1f7838e6d0</span><span style=\"font-weight: bold\">&gt;</span>\n",
       "</pre>\n"
      ],
      "text/plain": [
       "Tipo de Bloco: \u001b[1;36m42\u001b[0m, Thread_ID: \u001b[1;36m331\u001b[0m, Nº de blocos \u001b[1;36m1\u001b[0m, Exemplo de Blocos: \u001b[1m<\u001b[0m\u001b[1;95mrfpye.blocks.DType42\u001b[0m\u001b[39m \u001b[0m\n",
       "\u001b[39mobject at \u001b[0m\u001b[1;36m0x7f1f7838e6d0\u001b[0m\u001b[1m>\u001b[0m\n"
      ]
     },
     "metadata": {},
     "output_type": "display_data"
    },
    {
     "data": {
      "text/html": [
       "<pre style=\"white-space:pre;overflow-x:auto;line-height:normal;font-family:Menlo,'DejaVu Sans Mono',consolas,'Courier New',monospace\">Tipo de Bloco: <span style=\"color: #008080; text-decoration-color: #008080; font-weight: bold\">68</span>, Thread_ID: <span style=\"color: #008080; text-decoration-color: #008080; font-weight: bold\">331</span>, Nº de blocos <span style=\"color: #008080; text-decoration-color: #008080; font-weight: bold\">734</span>, Exemplo de Blocos: <span style=\"font-weight: bold\">&lt;</span><span style=\"color: #ff00ff; text-decoration-color: #ff00ff; font-weight: bold\">rfpye.blocks.DType68</span>\n",
       "<span style=\"color: #000000; text-decoration-color: #000000\">object at </span><span style=\"color: #008080; text-decoration-color: #008080; font-weight: bold\">0x7f1f7838e790</span><span style=\"font-weight: bold\">&gt;</span>\n",
       "</pre>\n"
      ],
      "text/plain": [
       "Tipo de Bloco: \u001b[1;36m68\u001b[0m, Thread_ID: \u001b[1;36m331\u001b[0m, Nº de blocos \u001b[1;36m734\u001b[0m, Exemplo de Blocos: \u001b[1m<\u001b[0m\u001b[1;95mrfpye.blocks.DType68\u001b[0m\n",
       "\u001b[39mobject at \u001b[0m\u001b[1;36m0x7f1f7838e790\u001b[0m\u001b[1m>\u001b[0m\n"
      ]
     },
     "metadata": {},
     "output_type": "display_data"
    },
    {
     "data": {
      "text/html": [
       "<pre style=\"white-space:pre;overflow-x:auto;line-height:normal;font-family:Menlo,'DejaVu Sans Mono',consolas,'Courier New',monospace\">Tipo de Bloco: <span style=\"color: #008080; text-decoration-color: #008080; font-weight: bold\">42</span>, Thread_ID: <span style=\"color: #008080; text-decoration-color: #008080; font-weight: bold\">341</span>, Nº de blocos <span style=\"color: #008080; text-decoration-color: #008080; font-weight: bold\">1</span>, Exemplo de Blocos: <span style=\"font-weight: bold\">&lt;</span><span style=\"color: #ff00ff; text-decoration-color: #ff00ff; font-weight: bold\">rfpye.blocks.DType42</span><span style=\"color: #000000; text-decoration-color: #000000\"> </span>\n",
       "<span style=\"color: #000000; text-decoration-color: #000000\">object at </span><span style=\"color: #008080; text-decoration-color: #008080; font-weight: bold\">0x7f1f7838ea90</span><span style=\"font-weight: bold\">&gt;</span>\n",
       "</pre>\n"
      ],
      "text/plain": [
       "Tipo de Bloco: \u001b[1;36m42\u001b[0m, Thread_ID: \u001b[1;36m341\u001b[0m, Nº de blocos \u001b[1;36m1\u001b[0m, Exemplo de Blocos: \u001b[1m<\u001b[0m\u001b[1;95mrfpye.blocks.DType42\u001b[0m\u001b[39m \u001b[0m\n",
       "\u001b[39mobject at \u001b[0m\u001b[1;36m0x7f1f7838ea90\u001b[0m\u001b[1m>\u001b[0m\n"
      ]
     },
     "metadata": {},
     "output_type": "display_data"
    },
    {
     "data": {
      "text/html": [
       "<pre style=\"white-space:pre;overflow-x:auto;line-height:normal;font-family:Menlo,'DejaVu Sans Mono',consolas,'Courier New',monospace\">Tipo de Bloco: <span style=\"color: #008080; text-decoration-color: #008080; font-weight: bold\">42</span>, Thread_ID: <span style=\"color: #008080; text-decoration-color: #008080; font-weight: bold\">351</span>, Nº de blocos <span style=\"color: #008080; text-decoration-color: #008080; font-weight: bold\">1</span>, Exemplo de Blocos: <span style=\"font-weight: bold\">&lt;</span><span style=\"color: #ff00ff; text-decoration-color: #ff00ff; font-weight: bold\">rfpye.blocks.DType42</span><span style=\"color: #000000; text-decoration-color: #000000\"> </span>\n",
       "<span style=\"color: #000000; text-decoration-color: #000000\">object at </span><span style=\"color: #008080; text-decoration-color: #008080; font-weight: bold\">0x7f1f7838eb50</span><span style=\"font-weight: bold\">&gt;</span>\n",
       "</pre>\n"
      ],
      "text/plain": [
       "Tipo de Bloco: \u001b[1;36m42\u001b[0m, Thread_ID: \u001b[1;36m351\u001b[0m, Nº de blocos \u001b[1;36m1\u001b[0m, Exemplo de Blocos: \u001b[1m<\u001b[0m\u001b[1;95mrfpye.blocks.DType42\u001b[0m\u001b[39m \u001b[0m\n",
       "\u001b[39mobject at \u001b[0m\u001b[1;36m0x7f1f7838eb50\u001b[0m\u001b[1m>\u001b[0m\n"
      ]
     },
     "metadata": {},
     "output_type": "display_data"
    },
    {
     "data": {
      "text/html": [
       "<pre style=\"white-space:pre;overflow-x:auto;line-height:normal;font-family:Menlo,'DejaVu Sans Mono',consolas,'Courier New',monospace\">Tipo de Bloco: <span style=\"color: #008080; text-decoration-color: #008080; font-weight: bold\">42</span>, Thread_ID: <span style=\"color: #008080; text-decoration-color: #008080; font-weight: bold\">361</span>, Nº de blocos <span style=\"color: #008080; text-decoration-color: #008080; font-weight: bold\">1</span>, Exemplo de Blocos: <span style=\"font-weight: bold\">&lt;</span><span style=\"color: #ff00ff; text-decoration-color: #ff00ff; font-weight: bold\">rfpye.blocks.DType42</span><span style=\"color: #000000; text-decoration-color: #000000\"> </span>\n",
       "<span style=\"color: #000000; text-decoration-color: #000000\">object at </span><span style=\"color: #008080; text-decoration-color: #008080; font-weight: bold\">0x7f1f7838ec10</span><span style=\"font-weight: bold\">&gt;</span>\n",
       "</pre>\n"
      ],
      "text/plain": [
       "Tipo de Bloco: \u001b[1;36m42\u001b[0m, Thread_ID: \u001b[1;36m361\u001b[0m, Nº de blocos \u001b[1;36m1\u001b[0m, Exemplo de Blocos: \u001b[1m<\u001b[0m\u001b[1;95mrfpye.blocks.DType42\u001b[0m\u001b[39m \u001b[0m\n",
       "\u001b[39mobject at \u001b[0m\u001b[1;36m0x7f1f7838ec10\u001b[0m\u001b[1m>\u001b[0m\n"
      ]
     },
     "metadata": {},
     "output_type": "display_data"
    },
    {
     "data": {
      "text/html": [
       "<pre style=\"white-space:pre;overflow-x:auto;line-height:normal;font-family:Menlo,'DejaVu Sans Mono',consolas,'Courier New',monospace\">Tipo de Bloco: <span style=\"color: #008080; text-decoration-color: #008080; font-weight: bold\">42</span>, Thread_ID: <span style=\"color: #008080; text-decoration-color: #008080; font-weight: bold\">371</span>, Nº de blocos <span style=\"color: #008080; text-decoration-color: #008080; font-weight: bold\">1</span>, Exemplo de Blocos: <span style=\"font-weight: bold\">&lt;</span><span style=\"color: #ff00ff; text-decoration-color: #ff00ff; font-weight: bold\">rfpye.blocks.DType42</span><span style=\"color: #000000; text-decoration-color: #000000\"> </span>\n",
       "<span style=\"color: #000000; text-decoration-color: #000000\">object at </span><span style=\"color: #008080; text-decoration-color: #008080; font-weight: bold\">0x7f1f7838ecd0</span><span style=\"font-weight: bold\">&gt;</span>\n",
       "</pre>\n"
      ],
      "text/plain": [
       "Tipo de Bloco: \u001b[1;36m42\u001b[0m, Thread_ID: \u001b[1;36m371\u001b[0m, Nº de blocos \u001b[1;36m1\u001b[0m, Exemplo de Blocos: \u001b[1m<\u001b[0m\u001b[1;95mrfpye.blocks.DType42\u001b[0m\u001b[39m \u001b[0m\n",
       "\u001b[39mobject at \u001b[0m\u001b[1;36m0x7f1f7838ecd0\u001b[0m\u001b[1m>\u001b[0m\n"
      ]
     },
     "metadata": {},
     "output_type": "display_data"
    },
    {
     "data": {
      "text/html": [
       "<pre style=\"white-space:pre;overflow-x:auto;line-height:normal;font-family:Menlo,'DejaVu Sans Mono',consolas,'Courier New',monospace\">Tipo de Bloco: <span style=\"color: #008080; text-decoration-color: #008080; font-weight: bold\">42</span>, Thread_ID: <span style=\"color: #008080; text-decoration-color: #008080; font-weight: bold\">381</span>, Nº de blocos <span style=\"color: #008080; text-decoration-color: #008080; font-weight: bold\">1</span>, Exemplo de Blocos: <span style=\"font-weight: bold\">&lt;</span><span style=\"color: #ff00ff; text-decoration-color: #ff00ff; font-weight: bold\">rfpye.blocks.DType42</span><span style=\"color: #000000; text-decoration-color: #000000\"> </span>\n",
       "<span style=\"color: #000000; text-decoration-color: #000000\">object at </span><span style=\"color: #008080; text-decoration-color: #008080; font-weight: bold\">0x7f1f7838ed90</span><span style=\"font-weight: bold\">&gt;</span>\n",
       "</pre>\n"
      ],
      "text/plain": [
       "Tipo de Bloco: \u001b[1;36m42\u001b[0m, Thread_ID: \u001b[1;36m381\u001b[0m, Nº de blocos \u001b[1;36m1\u001b[0m, Exemplo de Blocos: \u001b[1m<\u001b[0m\u001b[1;95mrfpye.blocks.DType42\u001b[0m\u001b[39m \u001b[0m\n",
       "\u001b[39mobject at \u001b[0m\u001b[1;36m0x7f1f7838ed90\u001b[0m\u001b[1m>\u001b[0m\n"
      ]
     },
     "metadata": {},
     "output_type": "display_data"
    },
    {
     "data": {
      "text/html": [
       "<pre style=\"white-space:pre;overflow-x:auto;line-height:normal;font-family:Menlo,'DejaVu Sans Mono',consolas,'Courier New',monospace\">Tipo de Bloco: <span style=\"color: #008080; text-decoration-color: #008080; font-weight: bold\">42</span>, Thread_ID: <span style=\"color: #008080; text-decoration-color: #008080; font-weight: bold\">391</span>, Nº de blocos <span style=\"color: #008080; text-decoration-color: #008080; font-weight: bold\">1</span>, Exemplo de Blocos: <span style=\"font-weight: bold\">&lt;</span><span style=\"color: #ff00ff; text-decoration-color: #ff00ff; font-weight: bold\">rfpye.blocks.DType42</span><span style=\"color: #000000; text-decoration-color: #000000\"> </span>\n",
       "<span style=\"color: #000000; text-decoration-color: #000000\">object at </span><span style=\"color: #008080; text-decoration-color: #008080; font-weight: bold\">0x7f1f7838ee50</span><span style=\"font-weight: bold\">&gt;</span>\n",
       "</pre>\n"
      ],
      "text/plain": [
       "Tipo de Bloco: \u001b[1;36m42\u001b[0m, Thread_ID: \u001b[1;36m391\u001b[0m, Nº de blocos \u001b[1;36m1\u001b[0m, Exemplo de Blocos: \u001b[1m<\u001b[0m\u001b[1;95mrfpye.blocks.DType42\u001b[0m\u001b[39m \u001b[0m\n",
       "\u001b[39mobject at \u001b[0m\u001b[1;36m0x7f1f7838ee50\u001b[0m\u001b[1m>\u001b[0m\n"
      ]
     },
     "metadata": {},
     "output_type": "display_data"
    },
    {
     "data": {
      "text/html": [
       "<pre style=\"white-space:pre;overflow-x:auto;line-height:normal;font-family:Menlo,'DejaVu Sans Mono',consolas,'Courier New',monospace\">Tipo de Bloco: <span style=\"color: #008080; text-decoration-color: #008080; font-weight: bold\">68</span>, Thread_ID: <span style=\"color: #008080; text-decoration-color: #008080; font-weight: bold\">301</span>, Nº de blocos <span style=\"color: #008080; text-decoration-color: #008080; font-weight: bold\">133932</span>, Exemplo de Blocos: \n",
       "<span style=\"font-weight: bold\">&lt;</span><span style=\"color: #ff00ff; text-decoration-color: #ff00ff; font-weight: bold\">rfpye.blocks.DType68</span><span style=\"color: #000000; text-decoration-color: #000000\"> object at </span><span style=\"color: #008080; text-decoration-color: #008080; font-weight: bold\">0x7f1f7838ef10</span><span style=\"font-weight: bold\">&gt;</span>\n",
       "</pre>\n"
      ],
      "text/plain": [
       "Tipo de Bloco: \u001b[1;36m68\u001b[0m, Thread_ID: \u001b[1;36m301\u001b[0m, Nº de blocos \u001b[1;36m133932\u001b[0m, Exemplo de Blocos: \n",
       "\u001b[1m<\u001b[0m\u001b[1;95mrfpye.blocks.DType68\u001b[0m\u001b[39m object at \u001b[0m\u001b[1;36m0x7f1f7838ef10\u001b[0m\u001b[1m>\u001b[0m\n"
      ]
     },
     "metadata": {},
     "output_type": "display_data"
    },
    {
     "data": {
      "text/html": [
       "<pre style=\"white-space:pre;overflow-x:auto;line-height:normal;font-family:Menlo,'DejaVu Sans Mono',consolas,'Courier New',monospace\">Tipo de Bloco: <span style=\"color: #008080; text-decoration-color: #008080; font-weight: bold\">68</span>, Thread_ID: <span style=\"color: #008080; text-decoration-color: #008080; font-weight: bold\">311</span>, Nº de blocos <span style=\"color: #008080; text-decoration-color: #008080; font-weight: bold\">11464</span>, Exemplo de Blocos: \n",
       "<span style=\"font-weight: bold\">&lt;</span><span style=\"color: #ff00ff; text-decoration-color: #ff00ff; font-weight: bold\">rfpye.blocks.DType68</span><span style=\"color: #000000; text-decoration-color: #000000\"> object at </span><span style=\"color: #008080; text-decoration-color: #008080; font-weight: bold\">0x7f1f77c1e890</span><span style=\"font-weight: bold\">&gt;</span>\n",
       "</pre>\n"
      ],
      "text/plain": [
       "Tipo de Bloco: \u001b[1;36m68\u001b[0m, Thread_ID: \u001b[1;36m311\u001b[0m, Nº de blocos \u001b[1;36m11464\u001b[0m, Exemplo de Blocos: \n",
       "\u001b[1m<\u001b[0m\u001b[1;95mrfpye.blocks.DType68\u001b[0m\u001b[39m object at \u001b[0m\u001b[1;36m0x7f1f77c1e890\u001b[0m\u001b[1m>\u001b[0m\n"
      ]
     },
     "metadata": {},
     "output_type": "display_data"
    },
    {
     "data": {
      "text/html": [
       "<pre style=\"white-space:pre;overflow-x:auto;line-height:normal;font-family:Menlo,'DejaVu Sans Mono',consolas,'Courier New',monospace\">Tipo de Bloco: <span style=\"color: #008080; text-decoration-color: #008080; font-weight: bold\">40</span>, Thread_ID: <span style=\"color: #008080; text-decoration-color: #008080; font-weight: bold\">1</span>, Nº de blocos <span style=\"color: #008080; text-decoration-color: #008080; font-weight: bold\">18462</span>, Exemplo de Blocos: <span style=\"font-weight: bold\">&lt;</span><span style=\"color: #ff00ff; text-decoration-color: #ff00ff; font-weight: bold\">rfpye.blocks.DType40</span>\n",
       "<span style=\"color: #000000; text-decoration-color: #000000\">object at </span><span style=\"color: #008080; text-decoration-color: #008080; font-weight: bold\">0x7f1f77c20210</span><span style=\"font-weight: bold\">&gt;</span>\n",
       "</pre>\n"
      ],
      "text/plain": [
       "Tipo de Bloco: \u001b[1;36m40\u001b[0m, Thread_ID: \u001b[1;36m1\u001b[0m, Nº de blocos \u001b[1;36m18462\u001b[0m, Exemplo de Blocos: \u001b[1m<\u001b[0m\u001b[1;95mrfpye.blocks.DType40\u001b[0m\n",
       "\u001b[39mobject at \u001b[0m\u001b[1;36m0x7f1f77c20210\u001b[0m\u001b[1m>\u001b[0m\n"
      ]
     },
     "metadata": {},
     "output_type": "display_data"
    },
    {
     "data": {
      "text/html": [
       "<pre style=\"white-space:pre;overflow-x:auto;line-height:normal;font-family:Menlo,'DejaVu Sans Mono',consolas,'Courier New',monospace\">Tipo de Bloco: <span style=\"color: #008080; text-decoration-color: #008080; font-weight: bold\">42</span>, Thread_ID: <span style=\"color: #008080; text-decoration-color: #008080; font-weight: bold\">1</span>, Nº de blocos <span style=\"color: #008080; text-decoration-color: #008080; font-weight: bold\">307</span>, Exemplo de Blocos: <span style=\"font-weight: bold\">&lt;</span><span style=\"color: #ff00ff; text-decoration-color: #ff00ff; font-weight: bold\">rfpye.blocks.DType42</span><span style=\"color: #000000; text-decoration-color: #000000\"> </span>\n",
       "<span style=\"color: #000000; text-decoration-color: #000000\">object at </span><span style=\"color: #008080; text-decoration-color: #008080; font-weight: bold\">0x7f1f77b1b390</span><span style=\"font-weight: bold\">&gt;</span>\n",
       "</pre>\n"
      ],
      "text/plain": [
       "Tipo de Bloco: \u001b[1;36m42\u001b[0m, Thread_ID: \u001b[1;36m1\u001b[0m, Nº de blocos \u001b[1;36m307\u001b[0m, Exemplo de Blocos: \u001b[1m<\u001b[0m\u001b[1;95mrfpye.blocks.DType42\u001b[0m\u001b[39m \u001b[0m\n",
       "\u001b[39mobject at \u001b[0m\u001b[1;36m0x7f1f77b1b390\u001b[0m\u001b[1m>\u001b[0m\n"
      ]
     },
     "metadata": {},
     "output_type": "display_data"
    },
    {
     "data": {
      "text/html": [
       "<pre style=\"white-space:pre;overflow-x:auto;line-height:normal;font-family:Menlo,'DejaVu Sans Mono',consolas,'Courier New',monospace\">Tipo de Bloco: <span style=\"color: #008080; text-decoration-color: #008080; font-weight: bold\">68</span>, Thread_ID: <span style=\"color: #008080; text-decoration-color: #008080; font-weight: bold\">341</span>, Nº de blocos <span style=\"color: #008080; text-decoration-color: #008080; font-weight: bold\">44</span>, Exemplo de Blocos: <span style=\"font-weight: bold\">&lt;</span><span style=\"color: #ff00ff; text-decoration-color: #ff00ff; font-weight: bold\">rfpye.blocks.DType68</span><span style=\"color: #000000; text-decoration-color: #000000\"> </span>\n",
       "<span style=\"color: #000000; text-decoration-color: #000000\">object at </span><span style=\"color: #008080; text-decoration-color: #008080; font-weight: bold\">0x7f1f7704ffd0</span><span style=\"font-weight: bold\">&gt;</span>\n",
       "</pre>\n"
      ],
      "text/plain": [
       "Tipo de Bloco: \u001b[1;36m68\u001b[0m, Thread_ID: \u001b[1;36m341\u001b[0m, Nº de blocos \u001b[1;36m44\u001b[0m, Exemplo de Blocos: \u001b[1m<\u001b[0m\u001b[1;95mrfpye.blocks.DType68\u001b[0m\u001b[39m \u001b[0m\n",
       "\u001b[39mobject at \u001b[0m\u001b[1;36m0x7f1f7704ffd0\u001b[0m\u001b[1m>\u001b[0m\n"
      ]
     },
     "metadata": {},
     "output_type": "display_data"
    },
    {
     "data": {
      "text/html": [
       "<pre style=\"white-space:pre;overflow-x:auto;line-height:normal;font-family:Menlo,'DejaVu Sans Mono',consolas,'Courier New',monospace\">Tipo de Bloco: <span style=\"color: #008080; text-decoration-color: #008080; font-weight: bold\">68</span>, Thread_ID: <span style=\"color: #008080; text-decoration-color: #008080; font-weight: bold\">321</span>, Nº de blocos <span style=\"color: #008080; text-decoration-color: #008080; font-weight: bold\">46</span>, Exemplo de Blocos: <span style=\"font-weight: bold\">&lt;</span><span style=\"color: #ff00ff; text-decoration-color: #ff00ff; font-weight: bold\">rfpye.blocks.DType68</span><span style=\"color: #000000; text-decoration-color: #000000\"> </span>\n",
       "<span style=\"color: #000000; text-decoration-color: #000000\">object at </span><span style=\"color: #008080; text-decoration-color: #008080; font-weight: bold\">0x7f1f73715110</span><span style=\"font-weight: bold\">&gt;</span>\n",
       "</pre>\n"
      ],
      "text/plain": [
       "Tipo de Bloco: \u001b[1;36m68\u001b[0m, Thread_ID: \u001b[1;36m321\u001b[0m, Nº de blocos \u001b[1;36m46\u001b[0m, Exemplo de Blocos: \u001b[1m<\u001b[0m\u001b[1;95mrfpye.blocks.DType68\u001b[0m\u001b[39m \u001b[0m\n",
       "\u001b[39mobject at \u001b[0m\u001b[1;36m0x7f1f73715110\u001b[0m\u001b[1m>\u001b[0m\n"
      ]
     },
     "metadata": {},
     "output_type": "display_data"
    }
   ],
   "source": [
    "blocks = parse_bin('rfeye002092_210223_T163131_MaskBroken.bin')\n",
    "\n",
    "blocks = blocks['blocks']\n",
    "\n",
    "for k,v in blocks.items():\n",
    "    print(f'Tipo de Bloco: {k[0]}, Thread_ID: {k[1]}, Nº de blocos {len(v)}, Exemplo de Blocos: {v[0]}')"
   ]
  },
  {
   "cell_type": "markdown",
   "id": "a2a92978",
   "metadata": {
    "id": "dd879995"
   },
   "source": [
    "Vemos que esse arquivo tem diferentes tipos de blocos, um bloco nada mais é que uma classe python que armazenada os atributos do bloco.\n",
    "\n",
    "O que nos interessa aqui são os blocos de espectro, blocos do tipo 68.\n",
    "\n",
    "Temos 5 diferentes blocos do tipo 68, vamos observar o que os diferencia:"
   ]
  },
  {
   "cell_type": "code",
   "execution_count": null,
   "id": "a598cb54",
   "metadata": {
    "ExecuteTime": {
     "end_time": "2021-09-12T17:47:19.673805Z",
     "start_time": "2021-09-12T17:47:19.669795Z"
    },
    "id": "4835cfad"
   },
   "outputs": [],
   "source": [
    "b301 = blocks[(68,301)][0]\n",
    "b321 = blocks[(68,321)][0]\n",
    "b331 = blocks[(68,331)][0]\n",
    "b341 = blocks[(68,341)][0]"
   ]
  },
  {
   "cell_type": "code",
   "execution_count": null,
   "id": "db1ae3b7",
   "metadata": {
    "ExecuteTime": {
     "end_time": "2021-09-12T17:47:20.601691Z",
     "start_time": "2021-09-12T17:47:20.597177Z"
    },
    "colab": {
     "base_uri": "https://localhost:8080/",
     "height": 34
    },
    "executionInfo": {
     "elapsed": 88,
     "status": "ok",
     "timestamp": 1632107832669,
     "user": {
      "displayName": "Ronaldo da Silva Alves Batista",
      "photoUrl": "https://lh3.googleusercontent.com/a/default-user=s64",
      "userId": "01599860855598048438"
     },
     "user_tz": 180
    },
    "id": "59482d29",
    "outputId": "0719e106-0781-4199-f3e8-dbe98a927811"
   },
   "outputs": [
    {
     "data": {
      "text/html": [
       "<pre style=\"white-space:pre;overflow-x:auto;line-height:normal;font-family:Menlo,'DejaVu Sans Mono',consolas,'Courier New',monospace\">Frequência Inicial <span style=\"font-weight: bold\">(</span>MHz<span style=\"font-weight: bold\">)</span> :<span style=\"color: #008080; text-decoration-color: #008080; font-weight: bold\">108</span>, Frequência Final <span style=\"font-weight: bold\">(</span>MHz<span style=\"font-weight: bold\">)</span> <span style=\"color: #008080; text-decoration-color: #008080; font-weight: bold\">137</span>\n",
       "</pre>\n"
      ],
      "text/plain": [
       "Frequência Inicial \u001b[1m(\u001b[0mMHz\u001b[1m)\u001b[0m :\u001b[1;36m108\u001b[0m, Frequência Final \u001b[1m(\u001b[0mMHz\u001b[1m)\u001b[0m \u001b[1;36m137\u001b[0m\n"
      ]
     },
     "metadata": {},
     "output_type": "display_data"
    }
   ],
   "source": [
    "print(f'Frequência Inicial (MHz) :{b301.start_mega}, Frequência Final (MHz) {b301.stop_mega}')"
   ]
  },
  {
   "cell_type": "code",
   "execution_count": null,
   "id": "1a5cdcba",
   "metadata": {
    "ExecuteTime": {
     "end_time": "2021-09-12T17:47:21.498347Z",
     "start_time": "2021-09-12T17:47:21.493835Z"
    },
    "colab": {
     "base_uri": "https://localhost:8080/",
     "height": 34
    },
    "executionInfo": {
     "elapsed": 86,
     "status": "ok",
     "timestamp": 1632107832669,
     "user": {
      "displayName": "Ronaldo da Silva Alves Batista",
      "photoUrl": "https://lh3.googleusercontent.com/a/default-user=s64",
      "userId": "01599860855598048438"
     },
     "user_tz": 180
    },
    "id": "251bcb5b",
    "outputId": "3f281260-1f99-4b4f-a1f3-82e8cfb916f1"
   },
   "outputs": [
    {
     "data": {
      "text/html": [
       "<pre style=\"white-space:pre;overflow-x:auto;line-height:normal;font-family:Menlo,'DejaVu Sans Mono',consolas,'Courier New',monospace\">Frequência Inicial <span style=\"font-weight: bold\">(</span>MHz<span style=\"font-weight: bold\">)</span> :<span style=\"color: #008080; text-decoration-color: #008080; font-weight: bold\">320</span>, Frequência Final <span style=\"font-weight: bold\">(</span>MHz<span style=\"font-weight: bold\">)</span> <span style=\"color: #008080; text-decoration-color: #008080; font-weight: bold\">340</span>\n",
       "</pre>\n"
      ],
      "text/plain": [
       "Frequência Inicial \u001b[1m(\u001b[0mMHz\u001b[1m)\u001b[0m :\u001b[1;36m320\u001b[0m, Frequência Final \u001b[1m(\u001b[0mMHz\u001b[1m)\u001b[0m \u001b[1;36m340\u001b[0m\n"
      ]
     },
     "metadata": {},
     "output_type": "display_data"
    }
   ],
   "source": [
    "print(f'Frequência Inicial (MHz) :{b321.start_mega}, Frequência Final (MHz) {b321.stop_mega}')"
   ]
  },
  {
   "cell_type": "code",
   "execution_count": null,
   "id": "8069178e",
   "metadata": {
    "ExecuteTime": {
     "end_time": "2021-09-12T17:47:24.250630Z",
     "start_time": "2021-09-12T17:47:24.245617Z"
    },
    "colab": {
     "base_uri": "https://localhost:8080/",
     "height": 34
    },
    "executionInfo": {
     "elapsed": 86,
     "status": "ok",
     "timestamp": 1632107832670,
     "user": {
      "displayName": "Ronaldo da Silva Alves Batista",
      "photoUrl": "https://lh3.googleusercontent.com/a/default-user=s64",
      "userId": "01599860855598048438"
     },
     "user_tz": 180
    },
    "id": "c9bf10cc",
    "outputId": "551cde0b-9cbd-4f72-9ec1-d9f0efa83964"
   },
   "outputs": [
    {
     "data": {
      "text/html": [
       "<pre style=\"white-space:pre;overflow-x:auto;line-height:normal;font-family:Menlo,'DejaVu Sans Mono',consolas,'Courier New',monospace\">Frequência Inicial <span style=\"font-weight: bold\">(</span>MHz<span style=\"font-weight: bold\">)</span> :<span style=\"color: #008080; text-decoration-color: #008080; font-weight: bold\">400</span>, Frequência Final <span style=\"font-weight: bold\">(</span>MHz<span style=\"font-weight: bold\">)</span> <span style=\"color: #008080; text-decoration-color: #008080; font-weight: bold\">410</span>\n",
       "</pre>\n"
      ],
      "text/plain": [
       "Frequência Inicial \u001b[1m(\u001b[0mMHz\u001b[1m)\u001b[0m :\u001b[1;36m400\u001b[0m, Frequência Final \u001b[1m(\u001b[0mMHz\u001b[1m)\u001b[0m \u001b[1;36m410\u001b[0m\n"
      ]
     },
     "metadata": {},
     "output_type": "display_data"
    }
   ],
   "source": [
    "print(f'Frequência Inicial (MHz) :{b331.start_mega}, Frequência Final (MHz) {b331.stop_mega}')"
   ]
  },
  {
   "cell_type": "code",
   "execution_count": null,
   "id": "a1252e6f",
   "metadata": {
    "ExecuteTime": {
     "end_time": "2021-09-12T17:47:24.507602Z",
     "start_time": "2021-09-12T17:47:24.502585Z"
    },
    "colab": {
     "base_uri": "https://localhost:8080/",
     "height": 34
    },
    "executionInfo": {
     "elapsed": 85,
     "status": "ok",
     "timestamp": 1632107832670,
     "user": {
      "displayName": "Ronaldo da Silva Alves Batista",
      "photoUrl": "https://lh3.googleusercontent.com/a/default-user=s64",
      "userId": "01599860855598048438"
     },
     "user_tz": 180
    },
    "id": "e7123617",
    "outputId": "e5e5693d-9f4b-4487-d5f5-c6a52e7147e3"
   },
   "outputs": [
    {
     "data": {
      "text/html": [
       "<pre style=\"white-space:pre;overflow-x:auto;line-height:normal;font-family:Menlo,'DejaVu Sans Mono',consolas,'Courier New',monospace\">Frequência Inicial <span style=\"font-weight: bold\">(</span>MHz<span style=\"font-weight: bold\">)</span> :<span style=\"color: #008080; text-decoration-color: #008080; font-weight: bold\">960</span>, Frequência Final <span style=\"font-weight: bold\">(</span>MHz<span style=\"font-weight: bold\">)</span> <span style=\"color: #008080; text-decoration-color: #008080; font-weight: bold\">1219</span>\n",
       "</pre>\n"
      ],
      "text/plain": [
       "Frequência Inicial \u001b[1m(\u001b[0mMHz\u001b[1m)\u001b[0m :\u001b[1;36m960\u001b[0m, Frequência Final \u001b[1m(\u001b[0mMHz\u001b[1m)\u001b[0m \u001b[1;36m1219\u001b[0m\n"
      ]
     },
     "metadata": {},
     "output_type": "display_data"
    }
   ],
   "source": [
    "print(f'Frequência Inicial (MHz) :{b341.start_mega}, Frequência Final (MHz) {b341.stop_mega}')"
   ]
  },
  {
   "cell_type": "markdown",
   "id": "af2efd70",
   "metadata": {
    "id": "a3da24a8"
   },
   "source": [
    "Vemos portanto que o quê diferencia diferentes blocos do mesmo tipo mas com diferentes `thread_id` é a faixa de frequência de varredura. \n",
    "\n",
    "O primeiro tipo de bloco mostrado, o bloco do tipo `68` e thread_id `301`, é o mais numeroso do arquivo com 133932 blocos. \n",
    "\n",
    "A faixa desse arquivo é muito importante e de grande enfoque nas monitorações da Anatel - 108MHz a 137MHz. Essa faixa é a do Serviço Limitado Móvel Aeronáutico, dedicada a comunicações entre aeronaves com as torres de comando e entre si."
   ]
  },
  {
   "cell_type": "markdown",
   "id": "9e847d61",
   "metadata": {
    "id": "6752d0d0"
   },
   "source": [
    "Cada bloco é uma medição num intervalo de tempo específico dessa faixa, no caso 108MHz a 137MHz, dividida em várias amostras ( recortes ) da faixa. Portanto temos `133932` medições."
   ]
  },
  {
   "cell_type": "code",
   "execution_count": null,
   "id": "8a3b0627",
   "metadata": {
    "ExecuteTime": {
     "end_time": "2021-09-12T17:47:29.497902Z",
     "start_time": "2021-09-12T17:47:29.493388Z"
    },
    "colab": {
     "base_uri": "https://localhost:8080/",
     "height": 132
    },
    "executionInfo": {
     "elapsed": 85,
     "status": "ok",
     "timestamp": 1632107832670,
     "user": {
      "displayName": "Ronaldo da Silva Alves Batista",
      "photoUrl": "https://lh3.googleusercontent.com/a/default-user=s64",
      "userId": "01599860855598048438"
     },
     "user_tz": 180
    },
    "id": "4d704a44",
    "outputId": "2f8f13c6-ffcb-48cb-893c-9e30c6e02fc9"
   },
   "outputs": [
    {
     "data": {
      "text/html": [
       "<pre style=\"white-space:pre;overflow-x:auto;line-height:normal;font-family:Menlo,'DejaVu Sans Mono',consolas,'Courier New',monospace\"><span style=\"color: #008000; text-decoration-color: #008000\">b'\\xff\\xfaF\\xff\\xfaH\\xff\\xfaH\\xff\\xfaE\\xff\\xfaA\\xff\\xfaB\\xff\\xfaA\\xff\\xfa&gt;\\xff\\xfa&gt;\\xff\\xfa=\\</span>\n",
       "<span style=\"color: #008000; text-decoration-color: #008000\">xff\\xfa&lt;\\xff\\xfa;\\xff\\xfa;\\xff\\xfa;\\xff\\xfa;\\xff\\xfa;\\xff\\xfa5\\xff\\xfa5\\xff\\xfa6\\xff\\xfa7\\xff</span>\n",
       "<span style=\"color: #008000; text-decoration-color: #008000\">\\xfa8\\xff\\xfa7\\xff\\xfa6\\xff\\xfa4\\xffv`d`\\xff\\xfa6\\xff\\x9bamm`\\xff\\xfa6\\xff\\xfa8\\xff\\xfa8\\xff\\</span>\n",
       "<span style=\"color: #008000; text-decoration-color: #008000\">xfa8\\xff\\xfa8\\xff\\xfa7\\xff\\xfa6\\xff\\xfa5\\xff\\x8ba\\xff\\xfa4\\xff\\xfa6\\xff\\xfa4\\xff\\xfa5\\xff\\xfa</span>\n",
       "<span style=\"color: #008000; text-decoration-color: #008000\">5\\xff\\x97g|\\x82{f\\xff\\xfa5\\xff\\xfa5\\xff\\xfa7\\xff\\xfa7\\xff\\xfa8\\xff\\xfa6\\xff\\xfa6\\xff\\xfa6\\xff</span>\n",
       "<span style=\"color: #008000; text-decoration-color: #008000\">\\xfa8\\xff\\xfa7\\xff\\xfa8\\xff\\xfa8\\xff\\xfa9\\xff\\xfa&lt;\\xff\\xfa&gt;\\xff\\xfa&gt;\\xff\\xfaA\\xff\\xfaAB\\x00\\x</span>\n",
       "<span style=\"color: #008000; text-decoration-color: #008000\">00'</span>\n",
       "</pre>\n"
      ],
      "text/plain": [
       "\u001b[32mb'\\xff\\xfaF\\xff\\xfaH\\xff\\xfaH\\xff\\xfaE\\xff\\xfaA\\xff\\xfaB\\xff\\xfaA\\xff\\xfa>\\xff\\xfa>\\xff\\\u001b[0m\u001b[32mxfa\u001b[0m\u001b[32m=\\\u001b[0m\n",
       "\u001b[32mxff\\xfa\u001b[0m\u001b[32m<\u001b[0m\u001b[32m\\xff\\xfa;\\xff\\xfa;\\xff\\xfa;\\xff\\xfa;\\xff\\xfa;\\xff\\xfa5\\xff\\xfa5\\xff\\xfa6\\xff\\xfa7\\xff\u001b[0m\n",
       "\u001b[32m\\xfa8\\xff\\xfa7\\xff\\xfa6\\xff\\xfa4\\xffv`d`\\xff\\xfa6\\xff\\x9bamm`\\xff\\xfa6\\xff\\xfa8\\xff\\xfa8\\xff\\\u001b[0m\n",
       "\u001b[32mxfa8\\xff\\xfa8\\xff\\xfa7\\xff\\xfa6\\xff\\xfa5\\xff\\x8ba\\xff\\xfa4\\xff\\xfa6\\xff\\xfa4\\xff\\xfa5\\xff\\xfa\u001b[0m\n",
       "\u001b[32m5\\xff\\x97g|\\x82\u001b[0m\u001b[32m{\u001b[0m\u001b[32mf\\xff\\xfa5\\xff\\xfa5\\xff\\xfa7\\xff\\xfa7\\xff\\xfa8\\xff\\xfa6\\xff\\xfa6\\xff\\xfa6\\xff\u001b[0m\n",
       "\u001b[32m\\xfa8\\xff\\xfa7\\xff\\xfa8\\xff\\xfa8\\xff\\xfa9\\xff\\xfa<\\xff\\xfa\u001b[0m\u001b[32m>\u001b[0m\u001b[32m\\xff\\xfa>\\xff\\xfaA\\xff\\xfaAB\\x00\\x\u001b[0m\n",
       "\u001b[32m00'\u001b[0m\n"
      ]
     },
     "metadata": {},
     "output_type": "display_data"
    }
   ],
   "source": [
    "print(b301.data[b301.start:b301.stop])"
   ]
  },
  {
   "cell_type": "markdown",
   "id": "3bc00db0",
   "metadata": {
    "id": "f4ecce61"
   },
   "source": [
    "O Atributo `data` são os bytes brutos, i.e. não decodificados. Os atributos `start` e `stop` recortam os bytes nos pontos correspondentes às medidas de nível do arquivo binário, os demais pontos do arquivo, os metadados, são decodificados como atributos da classe, um exemplo foi mostrado acima com os atributos `start_mega` e `stop_mega`.\n",
    "\n",
    "O restante desse artigo é dedicado a decodificação dessas medidas de nível."
   ]
  },
  {
   "cell_type": "markdown",
   "id": "b5dc651a",
   "metadata": {
    "id": "601dbdb4"
   },
   "source": [
    "## Codificação Espectral\n",
    "Dada estação faz uma medição de potência, para dada frequência, em dBm ( lê-se 'de-bê-eme' ), uma escala logarítmica com valores tipicamente negativos. A escala de valores que a estação armazena é a seguinte `Intervalo = [offset - 127.5, offset]`, onde `offset` (*deslocamento*) é um valor pré-estabelecido. Se a medida estiver fora desse intervalo, os valores são truncados. Um típico valor de `offset` é -*20dBm*\n",
    "\n",
    "Assim tendo o valor medido `d` em dBm ele é codificado e salvo no arquivo como um valor `b`:\n",
    "\n",
    "$$b = 2(d - offset) + 255$$\n",
    "\n",
    "Ao inserir os valores extremos do intervalo acima nessa fórmula:\n",
    "\n",
    "Para `d = offset - 127.5`:\n",
    "\n",
    "$$ \\therefore b = 2[(offset - 127.5) - offset] + 255 = 2 (-127.5) + 255 \\implies b = 0$$\n",
    "\n",
    "Para `d = offset`:\n",
    "$$\\therefore b = 2(offset - offset) + 255 = 2 * 0 + 255 \\implies b = 255$$\n",
    "\n",
    "Portanto o intervalo de valores possíveis ao serem codificados com a fórmula acima é `[0,255]`, justamente o intervalo de valores possíveis em 8 bits ou 1 byte, sem sinal. Assim, os dados de espectro truncados e codificados dessa maneira permitem um armazenamento extremamente econômico, ocupando somente 1 byte (`uint8` em python ou `unsigned char` na linguagem C.)\n",
    "\n",
    "Para decodificar tal valor, basta fazer o procedimento inverso  da fórmula acima. Ao isolar o valor `d` temos:\n",
    "$$d = \\frac{b}{2} + offset - 127.5$$"
   ]
  },
  {
   "cell_type": "markdown",
   "id": "9f7da186",
   "metadata": {
    "id": "07156354"
   },
   "source": [
    "## Compressão de Dados\n",
    "Como dados de espectro são extremamente ruidosos ( índice sinal-ruído muito baixo ), isto é, a maioria do que observamos numa dada \"janela\" do espectro é simplesmente ruído, a aplicação `Logger` comprime esses dados de maneira engenhosa. Como mencionado, a cada instante de tempo a estação faz a medição dos níveis de determinada faixa, para tal ela divide a faixa em diversos intervalos e mede o nível da frequência central daquele intervalo. Quanto maior o número de intervalos mais granulosa ou detalhada serão essas medidas.\n",
    "\n",
    "**Algoritmo de Compressão**\n",
    "\n",
    "* No script é definido um limiar `threshold`, abaixo do qual tudo é considerado ruído\n",
    "* Para cada intervalo medido `i`, é verificado se o valor está abaixo do limiar\n",
    "* Caso afirmativo esse processo se repete para os intervalos vizinhos `i+1, i+2, etc...`\n",
    "* Esses intervalos são contados, até que apareça um ponto acima do limiar ou o máximo de `250` pontos seja atingido\n",
    "  * Nesse ponto é gravado no arquivo um byte marcador `RUN=255` indicando que o próximo byte armazena a contagem de pontos abaixo do limiar\n",
    "  * Nesse procedimento é ocupado somente 2 bytes, podendo ter sido comprimido o limite de 250 bytes no melhor dos casos.\n",
    "\n",
    "Um problema que pode ocorrer no algoritmo acima é se nos dados de medição tivermos o valor máximo medido `d=offset` assim o valor a ser gravado será `b=255`, o mesmo valor usado como marcador. \n",
    "\n",
    "Nesses casos temos o valor literal no ponto e não queremos que isso seja interpretado como marcador. \n",
    "\n",
    "Para lidar com esse caso é definido um segundo marcador `ESC=254`, esse marcador informa o algoritmo de decodificação que a medida seguinte é literal e não se trata de um marcador. Esse marcador também é utilizado para realizar escape dele mesmo, isto é, quando a medida codificada é exatamente igual a `b=254`, isso ocorre quando o valor medido é: `d=offset - 0.5`. Para verificar basta substituir esse valor na fórmula acima.\n",
    "\n",
    "Com alguns exemplos a seguir ficará mais claro o funcionamento do algoritmo. O algoritmo original de codificação ( escrito em C ) é apresentado a seguir:"
   ]
  },
  {
   "cell_type": "markdown",
   "id": "09123e10",
   "metadata": {
    "id": "0ec14359"
   },
   "source": [
    "```c\n",
    "int run_length_encode(unsigned char *dest, unsigned char *src, int nsrc, int thresh) { \n",
    "    unsigned char ib; \n",
    "    int di = 0, si, nunder = 0; \n",
    "    for(si = 0; si < nsrc; si++){ \n",
    "        ib = src[si]; \n",
    "        if ((ib < thresh) && (si < (nsrc-1)) && (nunder < 250)) { \n",
    "            nunder += 1; \n",
    "        } else { \n",
    "            if (nunder > 0) { \n",
    "                dest[di++] = RUN; \n",
    "                dest[di++] = nunder; \n",
    "                nunder = 0; \n",
    "            } if ((ib == RUN) || (ib == ESC)) {\n",
    "                dest[di++] = ESC; \n",
    "                dest[di++] = ib; \n",
    "            } else { \n",
    "                dest[di++] = ib; \n",
    "            } \n",
    "        } \n",
    "    } return di; \n",
    "}\n",
    "```"
   ]
  },
  {
   "cell_type": "markdown",
   "id": "b3d3fde0",
   "metadata": {
    "id": "d3bb2e73"
   },
   "source": [
    "O algoritmo é bastante legível mesmo para quem não conhece C, exceto talvez por algumas coisas estranhas como ponteiros `*` e a incrementação de variáveis dentro dos arrays. \n",
    "Vamos escrevê-lo em python sem alterar sua estrutura em C mas colocando nomes das variáveis mais amigáveis e comentando para decifrarmos melhor seu propósito. "
   ]
  },
  {
   "cell_type": "code",
   "execution_count": null,
   "id": "bef08ec2",
   "metadata": {
    "ExecuteTime": {
     "end_time": "2021-09-12T17:48:05.460329Z",
     "start_time": "2021-09-12T17:48:05.452806Z"
    },
    "id": "7da35802"
   },
   "outputs": [],
   "source": [
    "RUN = 255\n",
    "ESC = 254\n",
    "def run_length_encode(destino, origem, n_origem, limiar):\n",
    "    \n",
    "    conta_origem, conta_destino = 0,0 # si, and di\n",
    "    \n",
    "    num_under = 0\n",
    "    for si in range(n_origem): # percorro as posições do arquivo de origem\n",
    "        \n",
    "        byte_atual = origem[si] # leio o byte do arquivo fonte correspondente à posição si\n",
    "        \n",
    "        # Se o byte está abaixo do limiar e não atingi o fim do arquivo ou a contagem máxima\n",
    "        if (byte_atual < limiar) and (si < n_origem - 1) and (num_under < 250):\n",
    "            \n",
    "            num_under += 1 # incremento o contador de valor abaixo do limiar\n",
    "        else:\n",
    "            if num_under > 0: # valor atual está acima do limiar mas até o momento estávamos contando valores abaixo do limiar\n",
    "                \n",
    "                destination[conta_destino] = RUN # insiro o marcador de contagem de valores abaixo do limiar na posição atual do arquivo de destino\n",
    "                \n",
    "                conta_destino += 1 # incremento o contador do arquivo de destino\n",
    "                \n",
    "                destination[conta_destino] = num_under # coloco a contagem em si na próxima posição\n",
    "                \n",
    "                conta_destino += 1 # incremento o contador do arquivo de destino\n",
    "                \n",
    "                num_under = 0 # zero o contador de valores abaixo do limiar\n",
    "                \n",
    "            if (byte_atual == RUN) or (byte_atual == ESC): # checo se o valor lido atual corresponde a um dos valores utilizados como marcador\n",
    "                \n",
    "                destination[conta_destino] = ESC # coloco o marcador que o valor a seguir lido é literal\n",
    "                \n",
    "                conta_destino += 1 # incremento o contador do arquivo de destino\n",
    "                \n",
    "                destination[conta_destino] = byte_atual\n",
    "                \n",
    "                conta_destino += 1 # incremento o contador do arquivo de destino\n",
    "                \n",
    "            else: # caso o valor medido não corresponda a um dos valores reservador de marcador eu simplesmente guardo esse valor na posição atual\n",
    "                \n",
    "                destination[conta_destino] = byte_atual\n",
    "                \n",
    "                conta_destino += 1 # incremento o contador do arquivo de destino\n",
    "                \n",
    "    return destination            "
   ]
  },
  {
   "cell_type": "markdown",
   "id": "090dfa67",
   "metadata": {
    "id": "88041f61"
   },
   "source": [
    "O algoritmo está propositalmente \"não-pythônico\", mais ao estilo de C para ficar o mais próximo do original e espaçado por conta dos vários comentários.  \n",
    "\n",
    "Como sempre as coisas ficam mais claras com alguns exemplos"
   ]
  },
  {
   "cell_type": "markdown",
   "id": "c8078d86",
   "metadata": {
    "id": "54ea70a6"
   },
   "source": [
    "**Exemplo 1 - Somente valores abaixo do limiar, i.e. somente ruído**"
   ]
  },
  {
   "cell_type": "code",
   "execution_count": null,
   "id": "1f5e1862",
   "metadata": {
    "ExecuteTime": {
     "end_time": "2021-09-12T17:48:07.401458Z",
     "start_time": "2021-09-12T17:48:07.397466Z"
    },
    "id": "17a7270f"
   },
   "outputs": [],
   "source": [
    "destination = [0] * 10 #lista com 10 valores 0\n",
    "offset = -20\n",
    "limiar = -80\n",
    "medidas = [-100] * 10 #lista com 10 valores com nível -100"
   ]
  },
  {
   "cell_type": "markdown",
   "id": "5f0edb39",
   "metadata": {
    "id": "65902acd"
   },
   "source": [
    "Como vimos acima esses valores de medida antes de serem codificados são transformados com seguinte fórmula: $b = 2(d - offset) + 255$. \n",
    "\n",
    "Portanto para as medidas acima, nosso arquivo de origem gravado fica:"
   ]
  },
  {
   "cell_type": "code",
   "execution_count": null,
   "id": "394ab4d3",
   "metadata": {
    "ExecuteTime": {
     "end_time": "2021-09-12T17:48:08.681569Z",
     "start_time": "2021-09-12T17:48:08.676578Z"
    },
    "colab": {
     "base_uri": "https://localhost:8080/"
    },
    "executionInfo": {
     "elapsed": 86,
     "status": "ok",
     "timestamp": 1632107832672,
     "user": {
      "displayName": "Ronaldo da Silva Alves Batista",
      "photoUrl": "https://lh3.googleusercontent.com/a/default-user=s64",
      "userId": "01599860855598048438"
     },
     "user_tz": 180
    },
    "id": "143f09f0",
    "outputId": "d1d1d969-76ca-4771-8af1-1994bd1dc67a"
   },
   "outputs": [
    {
     "data": {
      "text/plain": [
       "[95, 95, 95, 95, 95, 95, 95, 95, 95, 95]"
      ]
     },
     "execution_count": 14,
     "metadata": {},
     "output_type": "execute_result"
    }
   ],
   "source": [
    "origem = [int(2 * (d - offset) + 255) for d in medidas] ; origem"
   ]
  },
  {
   "cell_type": "code",
   "execution_count": null,
   "id": "9adc35cd",
   "metadata": {
    "ExecuteTime": {
     "end_time": "2021-09-12T17:48:09.656912Z",
     "start_time": "2021-09-12T17:48:09.653905Z"
    },
    "id": "3d02baa1"
   },
   "outputs": [],
   "source": [
    "limiar_encoded = 2 * (limiar - offset) + 255 "
   ]
  },
  {
   "cell_type": "code",
   "execution_count": null,
   "id": "6a5947f0",
   "metadata": {
    "ExecuteTime": {
     "end_time": "2021-09-12T17:48:10.521558Z",
     "start_time": "2021-09-12T17:48:10.516544Z"
    },
    "colab": {
     "base_uri": "https://localhost:8080/"
    },
    "executionInfo": {
     "elapsed": 57,
     "status": "ok",
     "timestamp": 1632107832673,
     "user": {
      "displayName": "Ronaldo da Silva Alves Batista",
      "photoUrl": "https://lh3.googleusercontent.com/a/default-user=s64",
      "userId": "01599860855598048438"
     },
     "user_tz": 180
    },
    "id": "7e5072bc",
    "outputId": "50b22ce8-05cb-4f48-e45d-8c8fe17ab90f"
   },
   "outputs": [
    {
     "data": {
      "text/plain": [
       "[255, 9, 95, 0, 0, 0, 0, 0, 0, 0]"
      ]
     },
     "execution_count": 16,
     "metadata": {},
     "output_type": "execute_result"
    }
   ],
   "source": [
    "run_length_encode(destination, origem, len(origem), limiar_encoded)"
   ]
  },
  {
   "cell_type": "markdown",
   "id": "9d806afb",
   "metadata": {
    "id": "9187e1e3"
   },
   "source": [
    "Temos 10 valores, todos abaixo do limiar, então o algoritmo armazena o marcador `RUN=255` mais a contagem de valores a seguir. Era esperado que a contagem fosse 10 e não 9. No entanto pela implementação do algoritmo o último valor, `95`, é armazenado literalmente, mesmo estando abaixo do limiar. Esse é um caso limite no qual todos os valores do espectro estão abaixo do limiar. Perceba que nesse caso limite 3 bytes foram ocupados dos 10 originais"
   ]
  },
  {
   "cell_type": "markdown",
   "id": "21a539f1",
   "metadata": {
    "id": "1a0ec17a"
   },
   "source": [
    "**Exemplo 2 - Ruído mais valores normais**"
   ]
  },
  {
   "cell_type": "code",
   "execution_count": null,
   "id": "a8a56f6f",
   "metadata": {
    "ExecuteTime": {
     "end_time": "2021-09-12T17:48:48.652069Z",
     "start_time": "2021-09-12T17:48:48.645050Z"
    },
    "colab": {
     "base_uri": "https://localhost:8080/"
    },
    "executionInfo": {
     "elapsed": 49,
     "status": "ok",
     "timestamp": 1632107832673,
     "user": {
      "displayName": "Ronaldo da Silva Alves Batista",
      "photoUrl": "https://lh3.googleusercontent.com/a/default-user=s64",
      "userId": "01599860855598048438"
     },
     "user_tz": 180
    },
    "id": "f527b843",
    "outputId": "cdb3fb6a-8654-4d45-a1c8-0d1140ed1dae"
   },
   "outputs": [
    {
     "data": {
      "text/plain": [
       "[95, 95, 95, 95, 95, 145, 171, 251, 235, 139]"
      ]
     },
     "execution_count": 17,
     "metadata": {},
     "output_type": "execute_result"
    }
   ],
   "source": [
    "destination = [0] * 10 #lista com 10 valores 0\n",
    "offset = -20\n",
    "limiar = -80\n",
    "medidas = [-100, -100, -100, -100, -100, -75, -62, -22, -30, -78]\n",
    "origem = [int(2 * (d - offset) + 255) for d in medidas]\n",
    "limiar_encoded = 2 * (limiar - offset) + 255 \n",
    "origem"
   ]
  },
  {
   "cell_type": "code",
   "execution_count": null,
   "id": "1d1baa79",
   "metadata": {
    "ExecuteTime": {
     "end_time": "2021-09-12T17:48:54.601696Z",
     "start_time": "2021-09-12T17:48:54.596684Z"
    },
    "colab": {
     "base_uri": "https://localhost:8080/"
    },
    "executionInfo": {
     "elapsed": 40,
     "status": "ok",
     "timestamp": 1632107832673,
     "user": {
      "displayName": "Ronaldo da Silva Alves Batista",
      "photoUrl": "https://lh3.googleusercontent.com/a/default-user=s64",
      "userId": "01599860855598048438"
     },
     "user_tz": 180
    },
    "id": "487056b0",
    "outputId": "3d185952-d272-4bee-871a-e29d7f7c2b3c"
   },
   "outputs": [
    {
     "data": {
      "text/plain": [
       "[255, 5, 145, 171, 251, 235, 139, 0, 0, 0]"
      ]
     },
     "execution_count": 18,
     "metadata": {},
     "output_type": "execute_result"
    }
   ],
   "source": [
    "run_length_encode(destination, origem, len(origem), limiar_encoded)"
   ]
  },
  {
   "cell_type": "markdown",
   "id": "12be2f69",
   "metadata": {
    "id": "20399bff"
   },
   "source": [
    "Temos 5 valores abaixo do limiar então é armazenado o marcador `RUN=255` seguido da contagem `[255,5...]` e em seguida são armazenados os valores literais que estão acima do limiar. Para esse caso foram ocupados 7 dos 10 bytes originais, os valores 0 ao final mostram bytes que não foram ocupados."
   ]
  },
  {
   "cell_type": "markdown",
   "id": "27ad0bd3",
   "metadata": {
    "id": "fd44be04"
   },
   "source": [
    "**Exemplo 3 - Ruído, Valores Normais e valores extremos igual ao `offset`**"
   ]
  },
  {
   "cell_type": "code",
   "execution_count": null,
   "id": "53c3a6a7",
   "metadata": {
    "ExecuteTime": {
     "end_time": "2021-09-12T17:49:09.306595Z",
     "start_time": "2021-09-12T17:49:09.299575Z"
    },
    "colab": {
     "base_uri": "https://localhost:8080/"
    },
    "executionInfo": {
     "elapsed": 33,
     "status": "ok",
     "timestamp": 1632107832674,
     "user": {
      "displayName": "Ronaldo da Silva Alves Batista",
      "photoUrl": "https://lh3.googleusercontent.com/a/default-user=s64",
      "userId": "01599860855598048438"
     },
     "user_tz": 180
    },
    "id": "fb9b9214",
    "outputId": "8fa58234-13a7-4c4e-af3b-08d56b5375f7"
   },
   "outputs": [
    {
     "data": {
      "text/plain": [
       "[95, 95, 95, 95, 95, 255, 254, 251, 235, 139]"
      ]
     },
     "execution_count": 19,
     "metadata": {},
     "output_type": "execute_result"
    }
   ],
   "source": [
    "destination = [0] * 10 #lista com 10 valores 0\n",
    "offset = -20\n",
    "limiar = -80\n",
    "medidas = [-100, -100, -100, -100, -100, -20, -20.5, -22, -30, -78]\n",
    "origem = [int(2 * (d - offset) + 255) for d in medidas]\n",
    "limiar_encoded = 2 * (limiar - offset) + 255 \n",
    "origem"
   ]
  },
  {
   "cell_type": "code",
   "execution_count": null,
   "id": "518d675e",
   "metadata": {
    "ExecuteTime": {
     "end_time": "2021-09-12T17:49:10.728857Z",
     "start_time": "2021-09-12T17:49:10.724344Z"
    },
    "colab": {
     "base_uri": "https://localhost:8080/"
    },
    "executionInfo": {
     "elapsed": 25,
     "status": "ok",
     "timestamp": 1632107832674,
     "user": {
      "displayName": "Ronaldo da Silva Alves Batista",
      "photoUrl": "https://lh3.googleusercontent.com/a/default-user=s64",
      "userId": "01599860855598048438"
     },
     "user_tz": 180
    },
    "id": "da29abfc",
    "outputId": "6a0d64e3-8e0f-4acf-ae5e-5b3360fcc511"
   },
   "outputs": [
    {
     "data": {
      "text/plain": [
       "[255, 5, 254, 255, 254, 254, 251, 235, 139, 0]"
      ]
     },
     "execution_count": 20,
     "metadata": {},
     "output_type": "execute_result"
    }
   ],
   "source": [
    "run_length_encode(destination, origem, len(origem), limiar_encoded)"
   ]
  },
  {
   "cell_type": "markdown",
   "id": "22b2a3c1",
   "metadata": {
    "id": "bb9b1139"
   },
   "source": [
    "Os valores medidos igual ou próximos ao offset `-20, -20.5` ao serem transformados viram `255 e 254`, os valores utilizados como marcador. Nesse caso teremos duas sinalizações de valor literal com o marcador `ESC=254`. \n",
    "* `[255,5...]` temos 5 valores abaixo do limiar\n",
    "* `[...254,255...]` temos o valor literal `255` e não o marcador `RUN`\n",
    "* `[...254,254...]` temos o valor literal `254` e não o marcador `ESC`\n",
    "* `[...251,235,139]` valores de medição literal\n",
    "\n",
    "Nesse caso economizamos somente 1 byte, denotado pelo valor 0 ao final da lista. Esses exemplos com poucos valores não fazem jus ao algoritmo, o poder de compressão aparece quando temos milhares de dados como veremos a seguir."
   ]
  },
  {
   "cell_type": "markdown",
   "id": "b57ccb21",
   "metadata": {
    "id": "8002d557"
   },
   "source": [
    "**Algoritmo de Descompressão**\n",
    "\n",
    "O Algoritmo de descompressão original em C é mostrado a seguir:"
   ]
  },
  {
   "cell_type": "markdown",
   "id": "58c86e0c",
   "metadata": {
    "id": "8f80f0c4"
   },
   "source": [
    "```c\n",
    "#define RUN 255 \n",
    "#define ESC 254 \n",
    "int run_length_decode(unsigned char *dest, unsigned char *src, int nsrc, int thresh) { \n",
    "    int si=0,di=0,nrun; \n",
    "    unsigned char ib; \n",
    "    while (si < nsrc) { \n",
    "        ib = src[si++]; \n",
    "        if (ib == RUN) { \n",
    "            nrun = src[si++];\n",
    "            while(nrun-- >0){ \n",
    "                dest[di++] = thresh; }\n",
    "        } else if (ib == ESC) {\n",
    "            /* next value is literal */ \n",
    "            dest[di++] = src[si++];\n",
    "        } else {\n",
    "            /* value */ \n",
    "            dest[di++] = ib; \n",
    "        } \n",
    "    } return di; \n",
    "}\n",
    "```"
   ]
  },
  {
   "cell_type": "markdown",
   "id": "2404ebf6",
   "metadata": {
    "id": "dace7180"
   },
   "source": [
    "Vamos escrevê-lo em python."
   ]
  },
  {
   "cell_type": "code",
   "execution_count": null,
   "id": "471f7e7d",
   "metadata": {
    "ExecuteTime": {
     "end_time": "2021-09-12T17:49:23.852133Z",
     "start_time": "2021-09-12T17:49:23.846616Z"
    },
    "id": "eb004469"
   },
   "outputs": [],
   "source": [
    "def run_length_decode(src, nsrc, thresh, offset):\n",
    "    dest = [] # creates an empty destination list\n",
    "    si = 0 #counter source\n",
    "    di = 0 #counter destination \n",
    "    while si < nsrc: #while we didn't read the whole file\n",
    "        ib = src[si] # read current position\n",
    "        si+=1 # counter go to the next position\n",
    "        if ib == RUN: # if current position is equal to marker RUN\n",
    "            nrun = src[si] # next position indicates number of points below thresh\n",
    "            si+=1\n",
    "            while nrun > 0:\n",
    "                dest.append(thresh) # we keep thresh in the destination nrun times\n",
    "                di+=1\n",
    "                nrun-=1\n",
    "        elif ib == ESC: # next value is literal\n",
    "            dest.append(src[di]/2 + offset - 127.5)\n",
    "            di+=1 ; si+=1\n",
    "        else:\n",
    "            # value\n",
    "            dest.append(ib/2 + offset - 127.5) # If there isn't a marker I'll just keep the current value\n",
    "            di+=1\n",
    "    return dest"
   ]
  },
  {
   "cell_type": "markdown",
   "id": "f68abfad",
   "metadata": {
    "id": "d6e39de4"
   },
   "source": [
    "O algoritmo basicamente faz:\n",
    "* Percorre o arquivo codificado fonte e lê byte a byte\n",
    "* Se o byte é igual ao marcador `RUN=255` é sabido que o byte seguinte armazena a contagem de quantas vezes foi medido um valor abaixo do limiar\n",
    "* Um loop com essa contagem é efetuado e a cada rodada é armazenado o valor do limiar na lista de destino\n",
    "* Caso seja identificado o outro marcador `ESC=254` é armazenado o valor seguinte literal\n",
    "* Caso nenhum dos casos anteriores ocorra simplesmente é armazenado o valor atual"
   ]
  },
  {
   "cell_type": "markdown",
   "id": "52498969",
   "metadata": {
    "id": "3996196f"
   },
   "source": [
    "## Teste de Velocidade do Algoritmo Original\n",
    "A motivação para a otimização da leitura desses arquivos comprimidos foi por conta de arquivos da ordem de 100MB, que ao serem descomprimidos geram por volta de 8GB de dados. \n",
    "Utilizamos um desses arquivos como exemplo."
   ]
  },
  {
   "cell_type": "markdown",
   "id": "619a7b45",
   "metadata": {
    "id": "42b778e6"
   },
   "source": [
    "Eu li e ouvi mais de uma vez que não se faz otimização sem \"profiling\", isto é, não comece a otimizar as coisas antes de saber exatamente o quê  toma o tempo do seu código. \n",
    "\n",
    "Para nos ajudar nisso vamos usar a extensão da biblioteca `line_profiler` que mostra a execução linha a linha de dada função que passarmos como argumento."
   ]
  },
  {
   "cell_type": "code",
   "execution_count": null,
   "id": "5dd00284",
   "metadata": {
    "ExecuteTime": {
     "end_time": "2021-09-12T17:49:29.802081Z",
     "start_time": "2021-09-12T17:49:29.798071Z"
    },
    "id": "9d9a9a7d"
   },
   "outputs": [],
   "source": [
    "compressed_blocks = blocks[(68,301)]"
   ]
  },
  {
   "cell_type": "code",
   "execution_count": null,
   "id": "95ffbba1",
   "metadata": {
    "ExecuteTime": {
     "end_time": "2021-09-12T17:49:31.512792Z",
     "start_time": "2021-09-12T17:49:31.508789Z"
    },
    "id": "cf6a451e"
   },
   "outputs": [],
   "source": [
    "RUN = 255\n",
    "ESC = 254    "
   ]
  },
  {
   "cell_type": "markdown",
   "id": "50eb0035",
   "metadata": {
    "id": "51dbb273"
   },
   "source": [
    "A função a seguir testa o algoritmo original acima."
   ]
  },
  {
   "cell_type": "code",
   "execution_count": null,
   "id": "2ad3ebcd",
   "metadata": {
    "ExecuteTime": {
     "end_time": "2021-08-17T20:45:57.726896Z",
     "start_time": "2021-08-17T20:45:57.616230Z"
    },
    "id": "8dc685c0"
   },
   "outputs": [],
   "source": [
    "def test_orig(blocks, debug=False):\n",
    "    decoded = []\n",
    "    if debug:\n",
    "        blocks = blocks[:1]\n",
    "    for block in progress_bar(blocks):\n",
    "        src = block.data[block.start:block.stop]\n",
    "        nsrc = len(src)\n",
    "        thresh = block.thresh       \n",
    "        offset = block.offset\n",
    "        decoded_value = run_length_decode(src, nsrc, thresh, offset) \n",
    "        decoded.append(decoded_value) # Quase 2 bilhões de pontos numa lista irá ocupar quase 16GB de memória!\n",
    "    return decoded"
   ]
  },
  {
   "cell_type": "markdown",
   "id": "1768da2c",
   "metadata": {
    "id": "e564c52a"
   },
   "source": [
    "Vamos checar o perfil de uma chamada da função `run_length_decode`, isso é alcançado chamando a função acima com o argumento `debug=True`. \n",
    "Assim executamos somente 1 bloco em vez de 133932."
   ]
  },
  {
   "cell_type": "code",
   "execution_count": null,
   "id": "cff631f9",
   "metadata": {
    "ExecuteTime": {
     "end_time": "2021-08-17T20:46:24.365207Z",
     "start_time": "2021-08-17T20:46:24.164662Z"
    },
    "colab": {
     "base_uri": "https://localhost:8080/",
     "height": 37
    },
    "executionInfo": {
     "elapsed": 208,
     "status": "ok",
     "timestamp": 1631475003143,
     "user": {
      "displayName": "Ronaldo da Silva Alves Batista",
      "photoUrl": "https://lh3.googleusercontent.com/a/default-user=s64",
      "userId": "01599860855598048438"
     },
     "user_tz": 180
    },
    "id": "b00cc793",
    "outputId": "c8830c9e-5349-4946-b3bf-0763c48842b2"
   },
   "outputs": [
    {
     "data": {
      "text/html": [
       "\n",
       "    <div>\n",
       "        <style>\n",
       "            /* Turns off some styling */\n",
       "            progress {\n",
       "                /* gets rid of default border in Firefox and Opera. */\n",
       "                border: none;\n",
       "                /* Needs to be in here for Safari polyfill so background images work as expected. */\n",
       "                background-size: auto;\n",
       "            }\n",
       "            .progress-bar-interrupted, .progress-bar-interrupted::-webkit-progress-bar {\n",
       "                background: #F44336;\n",
       "            }\n",
       "        </style>\n",
       "      <progress value='1' class='' max='1' style='width:300px; height:20px; vertical-align: middle;'></progress>\n",
       "      100.00% [1/1 00:00<00:00]\n",
       "    </div>\n",
       "    "
      ],
      "text/plain": [
       "<IPython.core.display.HTML object>"
      ]
     },
     "metadata": {},
     "output_type": "display_data"
    }
   ],
   "source": [
    "%lprun -f run_length_decode test_orig(compressed_blocks, debug=True)"
   ]
  },
  {
   "cell_type": "markdown",
   "id": "a1671217",
   "metadata": {
    "id": "hJTPVIxRcpTf"
   },
   "source": [
    "```\n",
    "Timer unit: 1e-06 s\n",
    "\n",
    "Total time: 0.032464 s\n",
    "File: <ipython-input-27-0e35b2a102ae>\n",
    "Function: run_length_decode at line 1\n",
    "\n",
    "Line #      Hits         Time  Per Hit   % Time  Line Contents\n",
    "==============================================================\n",
    "     1                                           def run_length_decode(src, nsrc, thresh, offset):\n",
    "     2         1          4.0      4.0      0.0      dest = [] # creates an empty destination list\n",
    "     3         1          1.0      1.0      0.0      si = 0 #counter source\n",
    "     4         1          0.0      0.0      0.0      di = 0 #counter destination \n",
    "     5       133         70.0      0.5      0.2      while si < nsrc: #while we didn't read the whole file\n",
    "     6       132         65.0      0.5      0.2          ib = src[si] # read current position\n",
    "     7       132         52.0      0.4      0.2          si+=1 # counter go to the next position\n",
    "     8       132         80.0      0.6      0.2          if ib == RUN: # if current position is equal to marker RUN\n",
    "     9        60         20.0      0.3      0.1              nrun = src[si] # next position indicates number of points below thresh\n",
    "    10        60         22.0      0.4      0.1              si+=1\n",
    "    11     14623       7302.0      0.5     22.5              while nrun > 0:\n",
    "    12     14563       8522.0      0.6     26.3                  dest.append(thresh) # we keep thresh in the destination nrun times\n",
    "    13     14563       7744.0      0.5     23.9                  di+=1\n",
    "    14     14563       8428.0      0.6     26.0                  nrun-=1\n",
    "    15        72         33.0      0.5      0.1          elif ib == ESC: # next value is literal\n",
    "    16                                                       dest.append(src[di]/2 + offset - 127.5)\n",
    "    17                                                       di+=1 ; si+=1\n",
    "    18                                                   else:\n",
    "    19                                                       # value\n",
    "    20        72         74.0      1.0      0.2              dest.append(ib/2 + offset - 127.5) # If there isn't a marker I'll just keep the current value\n",
    "    21        72         46.0      0.6      0.1              di+=1\n",
    "    22         1          1.0      1.0      0.0      return dest\n",
    "\n",
    "```"
   ]
  },
  {
   "cell_type": "markdown",
   "id": "099575d1",
   "metadata": {
    "id": "72c0e3a1"
   },
   "source": [
    "Vemos que 98.7% do tempo a função passa somente no loop `while` interno, linhas 11 a 14. Vamos ver o que isso significa para 133932 blocos."
   ]
  },
  {
   "cell_type": "markdown",
   "id": "ca48bf9c",
   "metadata": {
    "id": "UhLtGeJTgJ_c"
   },
   "source": [
    "> Warning: A função `run_length_decode` decodifica quase 2 bilhões de pontos `float64` e os retorna numa lista, isso ocupa em torno de 16GB de memória\n",
    "\n",
    "A célula a seguir armazena a quantidade de memória física presenta na instância rodando o código, então é checado primeiramente se existe disponível mais de 16GB na máquina, do contrário a célula não é executada.\n",
    "\n",
    "Caso você não tenha tanta memória disponível assim mas queira executar a função, basta comentar a parte na qual a lista é armazenada: `decoded.append` e retire o `if` abaixo.\n"
   ]
  },
  {
   "cell_type": "code",
   "execution_count": null,
   "id": "1e93f560",
   "metadata": {
    "id": "84zS5wFNkV9o"
   },
   "outputs": [],
   "source": [
    "mem_bytes = os.sysconf('SC_PAGE_SIZE') * os.sysconf('SC_PHYS_PAGES')\n",
    "mem_gib = mem_bytes/(1024.**3)"
   ]
  },
  {
   "cell_type": "code",
   "execution_count": null,
   "id": "2697f79b",
   "metadata": {
    "ExecuteTime": {
     "start_time": "2021-04-19T00:43:27.338Z"
    },
    "colab": {
     "base_uri": "https://localhost:8080/",
     "height": 72
    },
    "executionInfo": {
     "elapsed": 385509,
     "status": "ok",
     "timestamp": 1631475396003,
     "user": {
      "displayName": "Ronaldo da Silva Alves Batista",
      "photoUrl": "https://lh3.googleusercontent.com/a/default-user=s64",
      "userId": "01599860855598048438"
     },
     "user_tz": 180
    },
    "id": "83efb725",
    "outputId": "f6a7b05b-b7a6-4e23-e3db-1e1790f90c5c"
   },
   "outputs": [
    {
     "data": {
      "text/html": [
       "\n",
       "    <div>\n",
       "        <style>\n",
       "            /* Turns off some styling */\n",
       "            progress {\n",
       "                /* gets rid of default border in Firefox and Opera. */\n",
       "                border: none;\n",
       "                /* Needs to be in here for Safari polyfill so background images work as expected. */\n",
       "                background-size: auto;\n",
       "            }\n",
       "            .progress-bar-interrupted, .progress-bar-interrupted::-webkit-progress-bar {\n",
       "                background: #F44336;\n",
       "            }\n",
       "        </style>\n",
       "      <progress value='133932' class='' max='133932' style='width:300px; height:20px; vertical-align: middle;'></progress>\n",
       "      100.00% [133932/133932 06:25<00:00]\n",
       "    </div>\n",
       "    "
      ],
      "text/plain": [
       "<IPython.core.display.HTML object>"
      ]
     },
     "metadata": {},
     "output_type": "display_data"
    },
    {
     "name": "stdout",
     "output_type": "stream",
     "text": [
      "CPU times: user 6min 11s, sys: 15.4 s, total: 6min 26s\n",
      "Wall time: 6min 25s\n"
     ]
    }
   ],
   "source": [
    "%%time\n",
    "if mem_gib > 16:\n",
    "    d = test_orig(compressed_blocks)"
   ]
  },
  {
   "cell_type": "code",
   "execution_count": null,
   "id": "e43c87c7",
   "metadata": {
    "colab": {
     "base_uri": "https://localhost:8080/",
     "height": 49
    },
    "executionInfo": {
     "elapsed": 215,
     "status": "ok",
     "timestamp": 1631476451753,
     "user": {
      "displayName": "Ronaldo da Silva Alves Batista",
      "photoUrl": "https://lh3.googleusercontent.com/a/default-user=s64",
      "userId": "01599860855598048438"
     },
     "user_tz": 180
    },
    "id": "a7d6c0a1",
    "outputId": "ecbd8dfd-3921-45c1-db52-cc4df8151a60"
   },
   "outputs": [
    {
     "data": {
      "text/html": [
       "<pre style=\"white-space:pre;overflow-x:auto;line-height:normal;font-family:Menlo,'DejaVu Sans Mono',consolas,'Courier New',monospace\">Número de pontos: <span style=\"color: #008080; text-decoration-color: #008080; font-weight: bold\">1960094820</span>\n",
       "</pre>\n"
      ],
      "text/plain": [
       "Número de pontos: \u001b[1;36m1960094820\u001b[0m\n"
      ]
     },
     "metadata": {},
     "output_type": "display_data"
    },
    {
     "data": {
      "text/html": [
       "<pre style=\"white-space:pre;overflow-x:auto;line-height:normal;font-family:Menlo,'DejaVu Sans Mono',consolas,'Courier New',monospace\">Espaço ocupado em memória <span style=\"font-weight: bold\">(</span>GB<span style=\"font-weight: bold\">)</span>: <span style=\"color: #008080; text-decoration-color: #008080; font-weight: bold\">14.60</span>\n",
       "</pre>\n"
      ],
      "text/plain": [
       "Espaço ocupado em memória \u001b[1m(\u001b[0mGB\u001b[1m)\u001b[0m: \u001b[1;36m14.60\u001b[0m\n"
      ]
     },
     "metadata": {},
     "output_type": "display_data"
    }
   ],
   "source": [
    "print(f'Número de pontos: {len(d) * len(d[0])}')\n",
    "print(f'Espaço ocupado em memória (GB): {(len(d) * len(d[0]) * 8)/(1024.**3):.2f}')"
   ]
  },
  {
   "cell_type": "markdown",
   "id": "cc086fab",
   "metadata": {
    "id": "e1b9bce0"
   },
   "source": [
    "Essa matriz de quase 2 bilhões de pontos `float64`, cada um ocupando 8 bytes, ocupa quase 15GB de memória."
   ]
  },
  {
   "cell_type": "code",
   "execution_count": null,
   "id": "44d6694d",
   "metadata": {
    "colab": {
     "base_uri": "https://localhost:8080/"
    },
    "executionInfo": {
     "elapsed": 1286,
     "status": "ok",
     "timestamp": 1631476490720,
     "user": {
      "displayName": "Ronaldo da Silva Alves Batista",
      "photoUrl": "https://lh3.googleusercontent.com/a/default-user=s64",
      "userId": "01599860855598048438"
     },
     "user_tz": 180
    },
    "id": "33fee5f9",
    "outputId": "5f91a661-3f91-45c5-e7de-8f32e2e3e14e"
   },
   "outputs": [
    {
     "data": {
      "text/plain": [
       "118"
      ]
     },
     "execution_count": 38,
     "metadata": {},
     "output_type": "execute_result"
    }
   ],
   "source": [
    "del d\n",
    "gc.collect()"
   ]
  },
  {
   "cell_type": "markdown",
   "id": "87c5a92d",
   "metadata": {
    "id": "8eaef89b"
   },
   "source": [
    "## Eliminar Loop `while`\n",
    "Vemos que o loop while acima simplesmente adiciona o mesmo valor `thresh` por `nrun` vezes. \n",
    "\n",
    "> Note: Em python, não precisamos adicionar o mesmo valor `n` vezes numa lista, um por vez. Podemos extender a lista de uma só vez, adicionando a ela uma outra lista de tamanho `nrun` povoada com valores `thresh`."
   ]
  },
  {
   "cell_type": "code",
   "execution_count": null,
   "id": "b44ca783",
   "metadata": {
    "ExecuteTime": {
     "end_time": "2021-09-12T17:49:52.554819Z",
     "start_time": "2021-09-12T17:49:52.547802Z"
    },
    "id": "38363b82"
   },
   "outputs": [],
   "source": [
    "def run_length_decode2(dest, src, nsrc, thresh, offset):\n",
    "    i = 0 #counter source\n",
    "    j = 0 #counter destination \n",
    "    while i < nsrc: #while we didn't read the whole file\n",
    "        ib = src[i] # read current position\n",
    "        i+=1 # counter go to the next position\n",
    "        if ib == RUN: # if current position is equal to marker RUN\n",
    "            nrun = src[i] # next position indicates number of points below thresh\n",
    "            i+=1\n",
    "            j+=nrun # Full incremental\n",
    "            dest.extend([thresh]*nrun) #Extend the resulted list in a pythonic way \n",
    "        elif ib == ESC: # next value is literal\n",
    "            dest.append(src[i]/2 + offset - 127.5)\n",
    "            j+=1 ; i+=1\n",
    "        else:\n",
    "            # value\n",
    "            dest.append(ib/2 + offset - 127.5) # If there isn't a marker I'll just keep the current value\n",
    "            j+=1\n",
    "    return dest"
   ]
  },
  {
   "cell_type": "markdown",
   "id": "049c1eee",
   "metadata": {
    "id": "9c20d412"
   },
   "source": [
    "Substituímos:\n",
    "\n",
    "```python\n",
    "while nrun > 0:\n",
    "    dest.append(thresh)\n",
    "    di+=1\n",
    "    nrun-=1\n",
    "```\n",
    "por\n",
    "```python\n",
    "di+=nrun\n",
    "dest.extend([thresh]*nrun)\n",
    "```"
   ]
  },
  {
   "cell_type": "code",
   "execution_count": null,
   "id": "8f3df10b",
   "metadata": {
    "ExecuteTime": {
     "end_time": "2021-09-12T17:49:54.360728Z",
     "start_time": "2021-09-12T17:49:54.356719Z"
    },
    "id": "370fb09f"
   },
   "outputs": [],
   "source": [
    "def test_no_while(blocks, debug=False):\n",
    "    decoded = []\n",
    "    if debug:\n",
    "        blocks= blocks[:1]\n",
    "    for block in tqdm(blocks):\n",
    "        dest = []\n",
    "        src = block.data[block.start:block.stop]\n",
    "        nsrc = len(src) #block.stop - block.start\n",
    "        thresh = block.thresh       \n",
    "        offset = block.offset\n",
    "        decoded.append(run_length_decode2(dest, src, nsrc, thresh, offset))\n",
    "    return decoded"
   ]
  },
  {
   "cell_type": "code",
   "execution_count": null,
   "id": "1b98133d",
   "metadata": {
    "colab": {
     "base_uri": "https://localhost:8080/",
     "height": 49,
     "referenced_widgets": [
      "9eb29b60ac51486d8719fba1bd90b173",
      "b8828b616e2d43ea9e25fe1e59748098",
      "c19f6f2a149a4d56b998b3ebd54179ff",
      "fd40b9e9ba214837ae02dbd79920ed9e",
      "9d8d5077581346cc815062c8669641c3",
      "fa3935e34d75483a904f56da8d70ceb6",
      "8af5690842574234a2b777a8080a6059",
      "e0fc49647ccb4beab1603da16a8c1099",
      "63560f1e79784176b5e96673789e4503",
      "13a808becf68446a85ac06bb7efce728",
      "4a5d808c877d4943a8629aae32ec57d4"
     ]
    },
    "executionInfo": {
     "elapsed": 434,
     "status": "ok",
     "timestamp": 1631476543294,
     "user": {
      "displayName": "Ronaldo da Silva Alves Batista",
      "photoUrl": "https://lh3.googleusercontent.com/a/default-user=s64",
      "userId": "01599860855598048438"
     },
     "user_tz": 180
    },
    "id": "ded7b014",
    "outputId": "36ff1af6-fb91-48f2-ee54-7bb4fe4364ec"
   },
   "outputs": [
    {
     "data": {
      "application/vnd.jupyter.widget-view+json": {
       "model_id": "9eb29b60ac51486d8719fba1bd90b173",
       "version_major": 2,
       "version_minor": 0
      },
      "text/plain": [
       "  0%|          | 0/1 [00:00<?, ?it/s]"
      ]
     },
     "metadata": {},
     "output_type": "display_data"
    }
   ],
   "source": [
    "%lprun -f run_length_decode2 test_no_while(compressed_blocks, debug=True)"
   ]
  },
  {
   "cell_type": "markdown",
   "id": "b5d31646",
   "metadata": {
    "id": "_YT4t1WflNdu"
   },
   "source": [
    "\n",
    "\n",
    "```\n",
    "Timer unit: 1e-06 s\n",
    "\n",
    "Total time: 0.001333 s\n",
    "File: <ipython-input-39-383c0e19ee61>\n",
    "Function: run_length_decode2 at line 1\n",
    "\n",
    "Line #      Hits         Time  Per Hit   % Time  Line Contents\n",
    "==============================================================\n",
    "     1                                           def run_length_decode2(dest, src, nsrc, thresh, offset):\n",
    "     2         1          3.0      3.0      0.2      i = 0 #counter source\n",
    "     3         1          2.0      2.0      0.2      j = 0 #counter destination \n",
    "     4       133         83.0      0.6      6.2      while i < nsrc: #while we didn't read the whole file\n",
    "     5       132         92.0      0.7      6.9          ib = src[i] # read current position\n",
    "     6       132         74.0      0.6      5.6          i+=1 # counter go to the next position\n",
    "     7       132         88.0      0.7      6.6          if ib == RUN: # if current position is equal to marker RUN\n",
    "     8        60         36.0      0.6      2.7              nrun = src[i] # next position indicates number of points below thresh\n",
    "     9        60         46.0      0.8      3.5              i+=1\n",
    "    10        60         39.0      0.7      2.9              j+=nrun # Full incremental\n",
    "    11        60        673.0     11.2     50.5              dest.extend([thresh]*nrun) #Extend the resulted list in a pythonic way \n",
    "    12        72         40.0      0.6      3.0          elif ib == ESC: # next value is literal\n",
    "    13                                                       dest.append(src[i]/2 + offset - 127.5)\n",
    "    14                                                       j+=1 ; i+=1\n",
    "    15                                                   else:\n",
    "    16                                                       # value\n",
    "    17        72         70.0      1.0      5.3              dest.append(ib/2 + offset - 127.5) # If there isn't a marker I'll just keep the current value\n",
    "    18        72         87.0      1.2      6.5              j+=1\n",
    "    19         1          0.0      0.0      0.0      return dest\n",
    "    ```\n",
    "\n"
   ]
  },
  {
   "cell_type": "markdown",
   "id": "8b249120",
   "metadata": {
    "id": "ec31bb8b"
   },
   "source": [
    "Eliminando o loop while o tempo de execução de uma chamada cai para menos para cerca de 10% do valor anterior. Agora cerca de 25% desse tempo é passado extendendo a lista original: _linha 11_\n",
    "\n",
    "Vamos ver como isso se traduz ao executarmos a função para todos os blocos."
   ]
  },
  {
   "cell_type": "code",
   "execution_count": null,
   "id": "b68fe00c",
   "metadata": {
    "colab": {
     "base_uri": "https://localhost:8080/",
     "height": 84,
     "referenced_widgets": [
      "53e2f5fb3fdb4da3839ffbfb7a1e1da3",
      "2fc4edf8367d4a4e8280352359383a6d",
      "0a6a1fbf5de84eb787323338a1c1307e",
      "67cdd0adfea640fda3359284bb04a8ef",
      "97745fa9dd2948d28b9366a97678ced5",
      "d030101cf259485db6cdbea6c8a3d3a9",
      "157763c6ae8d43e782ac36077452ecd7",
      "282ac5cc06c24e018a359b3d5648465d",
      "d4021017523443729138cb98bfb2c5c0",
      "d933b44af65645eca54a59db16c550a7",
      "bfc499de5e04477eba32d06dc374871e"
     ]
    },
    "executionInfo": {
     "elapsed": 75557,
     "status": "ok",
     "timestamp": 1631476670975,
     "user": {
      "displayName": "Ronaldo da Silva Alves Batista",
      "photoUrl": "https://lh3.googleusercontent.com/a/default-user=s64",
      "userId": "01599860855598048438"
     },
     "user_tz": 180
    },
    "id": "659220d7",
    "outputId": "6411299f-3dfc-4964-b133-78716c4e4667"
   },
   "outputs": [
    {
     "data": {
      "application/vnd.jupyter.widget-view+json": {
       "model_id": "53e2f5fb3fdb4da3839ffbfb7a1e1da3",
       "version_major": 2,
       "version_minor": 0
      },
      "text/plain": [
       "  0%|          | 0/133932 [00:00<?, ?it/s]"
      ]
     },
     "metadata": {},
     "output_type": "display_data"
    },
    {
     "name": "stdout",
     "output_type": "stream",
     "text": [
      "CPU times: user 1min 5s, sys: 10.4 s, total: 1min 15s\n",
      "Wall time: 1min 15s\n"
     ]
    }
   ],
   "source": [
    "%%time\n",
    "if mem_gib > 16:\n",
    "    d = test_no_while(compressed_blocks)"
   ]
  },
  {
   "cell_type": "markdown",
   "id": "a6759bcb",
   "metadata": {
    "id": "2a2b6cf2"
   },
   "source": [
    "Passamos de mais de 6min para pouco mais de 1min, quase de 6x mais rápido. Parece que somente aquele loop `while` interno era bastante oneroso."
   ]
  },
  {
   "cell_type": "code",
   "execution_count": null,
   "id": "17235e6b",
   "metadata": {
    "colab": {
     "base_uri": "https://localhost:8080/"
    },
    "executionInfo": {
     "elapsed": 211,
     "status": "ok",
     "timestamp": 1631476703166,
     "user": {
      "displayName": "Ronaldo da Silva Alves Batista",
      "photoUrl": "https://lh3.googleusercontent.com/a/default-user=s64",
      "userId": "01599860855598048438"
     },
     "user_tz": 180
    },
    "id": "1e90d2a8",
    "outputId": "64ea3602-9df8-4b7f-9351-8712a3d2389d"
   },
   "outputs": [
    {
     "data": {
      "text/plain": [
       "131"
      ]
     },
     "execution_count": 43,
     "metadata": {},
     "output_type": "execute_result"
    }
   ],
   "source": [
    "del d ; gc.collect()"
   ]
  },
  {
   "cell_type": "markdown",
   "id": "5b26aae6",
   "metadata": {
    "id": "c78e8ffb"
   },
   "source": [
    "## Trocar de Listas para arrays pré-alocados\n",
    "A maioria do tempo dispendido na função anterior ainda é na extensão da lista original com a lista de valores threshold. \n",
    "\n",
    "Para cada bloco a lista é extendida com uma sublista povoada com os valores de limiar `thresh`. Isso demanda que a memória seja alocada toda vez que extendemos a lista. \n",
    "\n",
    "Nessa alocação os endereços de memória não necessariamente estão adjacentes, isso certamente gera um gargalo no tempo de execução. \n",
    "\n",
    "Para sanarmos isso vamos trocar a lista por um numpy array vazio, assim a memória do array já é prealocada."
   ]
  },
  {
   "cell_type": "code",
   "execution_count": null,
   "id": "951e49ab",
   "metadata": {
    "id": "085aa251"
   },
   "outputs": [],
   "source": [
    "def run_length_decode3(dest, src, nsrc, thresh, offset):\n",
    "    i = 0\n",
    "    j = 0\n",
    "    while i < nsrc:\n",
    "        ib = src[i] \n",
    "        i+=1\n",
    "        if ib == RUN:\n",
    "            nrun = src[i] \n",
    "            i+=1\n",
    "            dest[j:j+nrun] = thresh #dest is now a numpy array\n",
    "            j+=nrun\n",
    "        elif ib == ESC:\n",
    "            # next value is literal\n",
    "            dest[j] = src[i]/2. + offset - 127.5\n",
    "            j+=1\n",
    "            i+=1\n",
    "        elif j < dest.shape[0]: # Às vezes são gerados mais valores do que são alocados na matriz, por algum erro na medição, assim os excedentes são ignorados\n",
    "            dest[j] = ib/2. + offset - 127.5 \n",
    "            j+=1\n",
    "    return dest"
   ]
  },
  {
   "cell_type": "code",
   "execution_count": null,
   "id": "ac7faceb",
   "metadata": {
    "id": "bff54a0e"
   },
   "outputs": [],
   "source": [
    "#slow\n",
    "def test_prealloc_np(blocks):\n",
    "    decoded = np.empty((len(blocks), blocks[0].ndata), dtype=np.float16) #Essa função pré-aloca espaço na memória sem povoá-lo\n",
    "    for b, block in enumerate(tqdm(blocks)):\n",
    "        src = block.data[block.start:block.stop]\n",
    "        nsrc = len(src)\n",
    "        thresh = block.thresh\n",
    "        offset = block.offset\n",
    "        dest = np.empty(block.ndata, dtype=np.float16)\n",
    "        decoded[b] = run_length_decode3(dest, src, nsrc, thresh, offset)\n",
    "    return decoded"
   ]
  },
  {
   "cell_type": "markdown",
   "id": "cf162db7",
   "metadata": {
    "id": "e773425e"
   },
   "source": [
    "Vamos checar agora o desempenho com todos os blocos.\n",
    "> Note: Repare que prealocamos um array com tipos `float16`, esses ocupam 2 bytes em vez de 8. A razão disso é que os valores de nível do espectro possuem somente 1 casa decimal de precisão, por isso basta um `float16`"
   ]
  },
  {
   "cell_type": "code",
   "execution_count": null,
   "id": "fd8d7f84",
   "metadata": {
    "colab": {
     "base_uri": "https://localhost:8080/",
     "height": 84,
     "referenced_widgets": [
      "115621ae7cef44f5ac75391bb818c3d2",
      "7f3881a951fd4d99b1eb2b82c830e993",
      "192628dd90c44dae9d53183e591e91c0",
      "519162a7b01847569323c7f24b604fc6",
      "ec3e5fed182f4758be4e7b6340e7212c",
      "497a83ac05354ae7b137fb1d2f0f884c",
      "23671c05831c4494aa3ea31a293934d5",
      "c8c0818869e24aaa82c76fc77dc5c3a7",
      "b9d8cf98190d430683f17e0043364882",
      "eff456113cb84d6887b6ada5862d759b",
      "8b75878446c3497399f3a55adc351361"
     ]
    },
    "executionInfo": {
     "elapsed": 53285,
     "status": "ok",
     "timestamp": 1631478230586,
     "user": {
      "displayName": "Ronaldo da Silva Alves Batista",
      "photoUrl": "https://lh3.googleusercontent.com/a/default-user=s64",
      "userId": "01599860855598048438"
     },
     "user_tz": 180
    },
    "id": "583916e2",
    "outputId": "b5f8b660-145b-43f1-a8b9-7dc903d9bdbe"
   },
   "outputs": [
    {
     "data": {
      "application/vnd.jupyter.widget-view+json": {
       "model_id": "115621ae7cef44f5ac75391bb818c3d2",
       "version_major": 2,
       "version_minor": 0
      },
      "text/plain": [
       "  0%|          | 0/133932 [00:00<?, ?it/s]"
      ]
     },
     "metadata": {},
     "output_type": "display_data"
    },
    {
     "name": "stdout",
     "output_type": "stream",
     "text": [
      "CPU times: user 48.2 s, sys: 5.4 s, total: 53.6 s\n",
      "Wall time: 53.2 s\n"
     ]
    }
   ],
   "source": [
    "%%time\n",
    "if mem_gib > 4:\n",
    "    d = test_prealloc_np(compressed_blocks)"
   ]
  },
  {
   "cell_type": "markdown",
   "id": "c189413b",
   "metadata": {
    "id": "c775d54e"
   },
   "source": [
    "Saímos de cerca de 6 minutos e meio para menos de um minuto simplesmente eliminando um loop e posteriormente modificando a estrutura de dados de lista para array pré-alocado. \n",
    "Agora que temos array em vez de listas podemos visualizá-los melhor:"
   ]
  },
  {
   "cell_type": "code",
   "execution_count": null,
   "id": "16024c87",
   "metadata": {
    "colab": {
     "base_uri": "https://localhost:8080/",
     "height": 35
    },
    "executionInfo": {
     "elapsed": 345,
     "status": "ok",
     "timestamp": 1631478284318,
     "user": {
      "displayName": "Ronaldo da Silva Alves Batista",
      "photoUrl": "https://lh3.googleusercontent.com/a/default-user=s64",
      "userId": "01599860855598048438"
     },
     "user_tz": 180
    },
    "id": "c0ea3aee",
    "outputId": "bd48fa3a-709d-4d40-9480-6f92aafcec52"
   },
   "outputs": [
    {
     "data": {
      "text/plain": [
       "array([-100. , -100. , -100. , ..., -147.5, -147.5, -116. ], dtype=float16)"
      ]
     },
     "metadata": {},
     "output_type": "display_data"
    }
   ],
   "source": [
    "display(d[-1])"
   ]
  },
  {
   "cell_type": "markdown",
   "id": "e525cd57",
   "metadata": {
    "id": "8c879098"
   },
   "source": [
    "Poderíamos parar por aqui se quiséssemos mas veremos o quanto conseguimos otimizar."
   ]
  },
  {
   "cell_type": "code",
   "execution_count": null,
   "id": "ccf08d50",
   "metadata": {
    "colab": {
     "base_uri": "https://localhost:8080/"
    },
    "executionInfo": {
     "elapsed": 712,
     "status": "ok",
     "timestamp": 1631478290616,
     "user": {
      "displayName": "Ronaldo da Silva Alves Batista",
      "photoUrl": "https://lh3.googleusercontent.com/a/default-user=s64",
      "userId": "01599860855598048438"
     },
     "user_tz": 180
    },
    "id": "e1742d28",
    "outputId": "b2df515b-473a-4bf6-d2b1-00aface9254b"
   },
   "outputs": [
    {
     "data": {
      "text/plain": [
       "599"
      ]
     },
     "execution_count": 54,
     "metadata": {},
     "output_type": "execute_result"
    }
   ],
   "source": [
    "del d\n",
    "gc.collect()"
   ]
  },
  {
   "cell_type": "markdown",
   "id": "f125e83c",
   "metadata": {
    "id": "5f1c73db"
   },
   "source": [
    "## Eliminação de Array Intermediário | Escrita direta na Matriz Destino\n",
    "Ao iterarmos sobre os diferentes blocos `b`, prealocamos o array `dest` com um array vazio, passamos este para a função `run_length_decode3` e atribuimos o bloco de retorno à linha `b` da matriz:\n",
    "```python\n",
    "dest = np.empty(blocks[0].norig, dtype=np.float16)\n",
    "decoded[b] = run_length_decode3(dest, src, nsrc, thresh, offset)\n",
    "```\n",
    "\n",
    "Podemos em vez de prealocar o array `dest` podemos simplesmente passar a linha `b` da matriz para a função e esta altera diretamente a linha da matriz de destino sem retornar nada. Isso é possível porque a chamada é por referência, isto é, estamos passando o endereço de memória da linha `b` da matriz `decoded` e esta irá modificar a linha diretamente. Em python em geral todas as chamadas de função são assim por referência e não é feito cópias desse objeto ao passá-lo como argumento para funções.\n",
    "```python\n",
    "run_length_decode4(decoded[b], src, nsrc, thresh, offset)\n",
    "```\n",
    "\n",
    "Os valor de `thresh` e`offset` são fixos e iguais para todos os blocos do mesmo tipo, isso é definido no script de geração desses dados, então não precisamos extraí-los toda vez, basta armazená-los uma única vez e repassá-los para a função.\n"
   ]
  },
  {
   "cell_type": "code",
   "execution_count": null,
   "id": "d2afb28b",
   "metadata": {
    "id": "0aea2c3b"
   },
   "outputs": [],
   "source": [
    "#slow\n",
    "def test_prealloc_np2(blocks):\n",
    "    thresh = blocks[0].thresh\n",
    "    decoded = np.empty((len(blocks), blocks[0].ndata), dtype=np.float16)\n",
    "    offset = blocks[0].offset \n",
    "    for b, block in enumerate(tqdm(blocks)):\n",
    "        src = block.data[block.start:block.stop]\n",
    "        nsrc = len(src)\n",
    "        if b == 14014: continue\n",
    "        run_length_decode3(decoded[b], src, nsrc, thresh, offset)\n",
    "    return decoded"
   ]
  },
  {
   "cell_type": "code",
   "execution_count": null,
   "id": "2a79234a",
   "metadata": {
    "colab": {
     "base_uri": "https://localhost:8080/",
     "height": 84,
     "referenced_widgets": [
      "475a0aa6179a4d0a9182558b540b6c4e",
      "84954f7400c6493eb33c65788b9a3a42",
      "1e8909023e46410d8b8cb9db4db3c4c8",
      "ba1b6ac292994df6999796f7b647009e",
      "2d4a4e1d65c84a6f891be38c6a98e842",
      "c5613eb752e44d0999d9baf2d1d96125",
      "0bdc3b52384e47009d57e878c08b2e61",
      "c7775a5517cc46d6ae0a8372119dab11",
      "73c07c8d9fa2490a9382dd0972da8e1b",
      "83c2768dbcc840f39ef8a289e3297850",
      "cc68c32e13da4fdd9c1c2c027a596410"
     ]
    },
    "executionInfo": {
     "elapsed": 39515,
     "status": "ok",
     "timestamp": 1631478404777,
     "user": {
      "displayName": "Ronaldo da Silva Alves Batista",
      "photoUrl": "https://lh3.googleusercontent.com/a/default-user=s64",
      "userId": "01599860855598048438"
     },
     "user_tz": 180
    },
    "id": "4865c805",
    "outputId": "450ba61b-2703-4eea-eb4a-232570f4892c"
   },
   "outputs": [
    {
     "data": {
      "application/vnd.jupyter.widget-view+json": {
       "model_id": "475a0aa6179a4d0a9182558b540b6c4e",
       "version_major": 2,
       "version_minor": 0
      },
      "text/plain": [
       "  0%|          | 0/133932 [00:00<?, ?it/s]"
      ]
     },
     "metadata": {},
     "output_type": "display_data"
    },
    {
     "name": "stdout",
     "output_type": "stream",
     "text": [
      "CPU times: user 39.3 s, sys: 311 ms, total: 39.6 s\n",
      "Wall time: 39.3 s\n"
     ]
    }
   ],
   "source": [
    "%%time\n",
    "if mem_gib > 4:\n",
    "    d = test_prealloc_np2(compressed_blocks)"
   ]
  },
  {
   "cell_type": "code",
   "execution_count": null,
   "id": "a480b2bd",
   "metadata": {
    "colab": {
     "base_uri": "https://localhost:8080/",
     "height": 33
    },
    "executionInfo": {
     "elapsed": 214,
     "status": "ok",
     "timestamp": 1631478770938,
     "user": {
      "displayName": "Ronaldo da Silva Alves Batista",
      "photoUrl": "https://lh3.googleusercontent.com/a/default-user=s64",
      "userId": "01599860855598048438"
     },
     "user_tz": 180
    },
    "id": "abc1747e",
    "outputId": "23786644-acec-43b6-bc34-9a8331cb0518"
   },
   "outputs": [
    {
     "data": {
      "text/html": [
       "<pre style=\"white-space:pre;overflow-x:auto;line-height:normal;font-family:Menlo,'DejaVu Sans Mono',consolas,'Courier New',monospace\"><span style=\"font-weight: bold\">[</span><span style=\"color: #008080; text-decoration-color: #008080; font-weight: bold\">-100</span>.  <span style=\"color: #008080; text-decoration-color: #008080; font-weight: bold\">-100</span>.  <span style=\"color: #008080; text-decoration-color: #008080; font-weight: bold\">-100</span>.  <span style=\"color: #808000; text-decoration-color: #808000\">...</span> <span style=\"color: #008080; text-decoration-color: #008080; font-weight: bold\">-147.5</span> <span style=\"color: #008080; text-decoration-color: #008080; font-weight: bold\">-147.5</span> <span style=\"color: #008080; text-decoration-color: #008080; font-weight: bold\">-116</span>. <span style=\"font-weight: bold\">]</span>\n",
       "</pre>\n"
      ],
      "text/plain": [
       "\u001b[1m[\u001b[0m\u001b[1;36m-100\u001b[0m.  \u001b[1;36m-100\u001b[0m.  \u001b[1;36m-100\u001b[0m.  \u001b[33m...\u001b[0m \u001b[1;36m-147.5\u001b[0m \u001b[1;36m-147.5\u001b[0m \u001b[1;36m-116\u001b[0m. \u001b[1m]\u001b[0m\n"
      ]
     },
     "metadata": {},
     "output_type": "display_data"
    }
   ],
   "source": [
    "print(d[-1])"
   ]
  },
  {
   "cell_type": "markdown",
   "id": "8d4ba563",
   "metadata": {
    "id": "9da4105b"
   },
   "source": [
    "Reduzimos agora o tempo para em torno de 40s, eliminando uma criação e alocação intermediária desnecessária."
   ]
  },
  {
   "cell_type": "markdown",
   "id": "c5255aa5",
   "metadata": {
    "id": "252d820f"
   },
   "source": [
    "## Pré-Alocação mais inteligente\n",
    "Vamos revisar o que fizemos até o momento:\n",
    "\n",
    "1. Retira os atributos `thresh` e `offset` do primeiro bloco somente, visto que são iguais para todos os blocos.\n",
    "2. Prealoca a matriz `decoded` com valores nulos.\n",
    "3. Percorre os blocos, extrai os bytes de dados de cada bloco `src` e o comprimento desses bytes de dados `nsrc`\n",
    "4. Passa esses dados e a linha referente da matriz de destino que deve ser modificada\n",
    "\n",
    "Para cada byte de dados, o algoritmo de decodificação somente tem 3 tipos de atribuição possíveis para nossa matriz de destino:\n",
    "1. Caso o byte atual tenha o valor `RUN=255`, pega o valor armazenado no byte seguinte `nrun` e atribui o valor `thresh` para `nrun` bytes da matriz\n",
    "2. Caso o byte atual tenha o valor `ESC=254`, atribui o valor literal do byte seguinte\n",
    "3. Atribui o valor literal do byte caso seja distinto de `RUN` ou `ESC`\n",
    "\n",
    "> Important: O valor `thresh` é fixo e único para todos os blocos, pois é um atributo injetado no script de geração desses dados. Este valor mínimo substitui o _piso de ruído_ real, ou seja, pode ser considerado o valor mínimo dos nossos dados. \n",
    "\n",
    "_Portanto podemos simplesmente prealocar nossa matriz já com esse valor `thresh` em vez de criarmos uma matriz nula onde esses valores serão repetidamente atribuídos. Assim eliminamos o passo 1 acima de atribuição porque nossa matriz original já estará povoada de valores `thresh`._\n",
    "\n",
    "> Tip: A operação `+ offset - 127.5` constitui uma soma e subtração de valores fixos então pode ser reduzida a somente 1 operação com valor fixo, assim definimos a nova variável: `MIN = offset - 127.5`. Em vez de passarmos o offset para a função, passamos diretamente o `MIN`.\n"
   ]
  },
  {
   "cell_type": "code",
   "execution_count": null,
   "id": "2e4653ee",
   "metadata": {
    "id": "bc6624b3"
   },
   "outputs": [],
   "source": [
    "def run_length_decode4(dest, src, nsrc, MIN):\n",
    "    i = 0\n",
    "    j = 0\n",
    "    while i < nsrc:\n",
    "        ib = src[i] \n",
    "        i+=1\n",
    "        if ib == RUN:\n",
    "            nrun = src[i]\n",
    "#             dest[j:j+nrun] = thresh  # Redundante\n",
    "            i+=1\n",
    "            j+=nrun\n",
    "        elif ib == ESC:\n",
    "            # next value is literal\n",
    "            dest[j] = src[i]/2. + MIN\n",
    "            i+=1 ; j+=1\n",
    "        elif j < dest.shape[0]: # Às vezes são gerados mais valores do que são alocados na matriz, por algum erro na medição, assim os excedentes são ignorados:\n",
    "            # value\n",
    "            dest[j] = ib/2. + MIN\n",
    "            j+=1  "
   ]
  },
  {
   "cell_type": "code",
   "execution_count": null,
   "id": "ffa591a0",
   "metadata": {
    "id": "eff6b223"
   },
   "outputs": [],
   "source": [
    "def test_prealloc_np3(blocks):\n",
    "    thresh = blocks[0].thresh\n",
    "    decoded = np.full((len(blocks), blocks[0].ndata), thresh, dtype=np.float16) #prealocamos a matrix com os valores de limiar thresh\n",
    "    offset = blocks[0].offset \n",
    "    MIN = offset - 127.5\n",
    "    for b, block in enumerate(tqdm(blocks)):\n",
    "        src = block.data[block.start:block.stop]\n",
    "        nsrc = len(src)\n",
    "        run_length_decode4(decoded[b], src, nsrc, MIN)\n",
    "    return decoded"
   ]
  },
  {
   "cell_type": "code",
   "execution_count": null,
   "id": "3f7cbc38",
   "metadata": {
    "colab": {
     "base_uri": "https://localhost:8080/"
    },
    "executionInfo": {
     "elapsed": 737,
     "status": "ok",
     "timestamp": 1631478986202,
     "user": {
      "displayName": "Ronaldo da Silva Alves Batista",
      "photoUrl": "https://lh3.googleusercontent.com/a/default-user=s64",
      "userId": "01599860855598048438"
     },
     "user_tz": 180
    },
    "id": "b7aa6bf3",
    "outputId": "06f5e0fc-022f-472b-eca2-4d3459147026"
   },
   "outputs": [
    {
     "data": {
      "text/plain": [
       "424"
      ]
     },
     "execution_count": 66,
     "metadata": {},
     "output_type": "execute_result"
    }
   ],
   "source": [
    "del d\n",
    "gc.collect()"
   ]
  },
  {
   "cell_type": "code",
   "execution_count": null,
   "id": "d66e4ee2",
   "metadata": {
    "colab": {
     "base_uri": "https://localhost:8080/",
     "height": 84,
     "referenced_widgets": [
      "b927e33d61244d22a6e3a147d35eccaa",
      "4c5fe3b7aab94a2aa7956a13eb441a3e",
      "eb322314150b4f39bc1c1255750bfd34",
      "7a18896151df482fb1508c580eb364f2",
      "1642fdbfa4094adeabde784e4cff5e59",
      "122fc96fcbdf431ba32318e573df05b9",
      "a88ed9723f04478bb5806662a54a4441",
      "055a6f3a03cd49fdbc189db97d7d7302",
      "090f6f5562224d6380ab2bbde334dbba",
      "0304494515a844f2912a152d1524cbf9",
      "381c3b446deb4ce2b7dc2405c980efa0"
     ]
    },
    "executionInfo": {
     "elapsed": 28046,
     "status": "ok",
     "timestamp": 1631479029295,
     "user": {
      "displayName": "Ronaldo da Silva Alves Batista",
      "photoUrl": "https://lh3.googleusercontent.com/a/default-user=s64",
      "userId": "01599860855598048438"
     },
     "user_tz": 180
    },
    "id": "89fa9b76",
    "outputId": "91c34478-f096-49b8-aa59-e8ce385c1a07"
   },
   "outputs": [
    {
     "data": {
      "application/vnd.jupyter.widget-view+json": {
       "model_id": "b927e33d61244d22a6e3a147d35eccaa",
       "version_major": 2,
       "version_minor": 0
      },
      "text/plain": [
       "  0%|          | 0/133932 [00:00<?, ?it/s]"
      ]
     },
     "metadata": {},
     "output_type": "display_data"
    },
    {
     "name": "stdout",
     "output_type": "stream",
     "text": [
      "CPU times: user 27.8 s, sys: 199 ms, total: 28 s\n",
      "Wall time: 27.8 s\n"
     ]
    }
   ],
   "source": [
    "%%time\n",
    "if mem_gib > 4:\n",
    "    d = test_prealloc_np3(compressed_blocks)"
   ]
  },
  {
   "cell_type": "markdown",
   "id": "de7e440f",
   "metadata": {
    "id": "6406cef1"
   },
   "source": [
    "Com uma prealocação mais inteligente e eliminando uma atribuição reduzimos o tempo para menos de meio minuto."
   ]
  },
  {
   "cell_type": "code",
   "execution_count": null,
   "id": "be63fee7",
   "metadata": {
    "colab": {
     "base_uri": "https://localhost:8080/",
     "height": 35
    },
    "executionInfo": {
     "elapsed": 221,
     "status": "ok",
     "timestamp": 1631479054573,
     "user": {
      "displayName": "Ronaldo da Silva Alves Batista",
      "photoUrl": "https://lh3.googleusercontent.com/a/default-user=s64",
      "userId": "01599860855598048438"
     },
     "user_tz": 180
    },
    "id": "aacc8221",
    "outputId": "4f534bad-6312-4eca-a077-260cf9b749ed"
   },
   "outputs": [
    {
     "data": {
      "text/plain": [
       "array([ -96.5,  -96.5,  -95.5, ..., -100. , -100. , -100. ], dtype=float16)"
      ]
     },
     "metadata": {},
     "output_type": "display_data"
    }
   ],
   "source": [
    "display(d[-1])"
   ]
  },
  {
   "cell_type": "code",
   "execution_count": null,
   "id": "f75a6839",
   "metadata": {
    "colab": {
     "base_uri": "https://localhost:8080/"
    },
    "executionInfo": {
     "elapsed": 200,
     "status": "ok",
     "timestamp": 1631479059968,
     "user": {
      "displayName": "Ronaldo da Silva Alves Batista",
      "photoUrl": "https://lh3.googleusercontent.com/a/default-user=s64",
      "userId": "01599860855598048438"
     },
     "user_tz": 180
    },
    "id": "5e81a244",
    "outputId": "16a96937-0967-4be4-f392-06183afa9fbf"
   },
   "outputs": [
    {
     "data": {
      "text/plain": [
       "234"
      ]
     },
     "execution_count": 69,
     "metadata": {},
     "output_type": "execute_result"
    }
   ],
   "source": [
    "del d\n",
    "gc.collect()"
   ]
  },
  {
   "cell_type": "markdown",
   "id": "cfad0d47",
   "metadata": {
    "id": "83f4301d"
   },
   "source": [
    "## Processamento Paralelo dos Blocos (Fail!)\n",
    "Como estamos iterando os vários blocos e aplicando a função de decodificação, outra otimização que vêm em mente é paralelizar essa chamada de função.\n",
    "\n",
    "Quando o gargalo é leitura em disco e processamento na cpu, o paralelismo recomendado é o por processos ( cores ) e não via threads de um mesmo processo.  \n",
    "\n",
    "No entanto já estamos com o tempo bastante otimizado para quase 2 bilhões de pontos e multiprocessamento tem um \"overhead\" embutido na chamada.\n",
    "\n",
    "Outra problemática é que a formulação mais eficiente que fizemos, com o numpy array pré-alocado, não pode ser utilizada da forma que está porque não podemos distribuir o mesmo array para diferentes processos porque um processo não compartilha memória com os outros. \n",
    "\n",
    "Após várias tentativas de usar o módulo `multiprocessing` mantendo o array pré-alocado com formulações distintas tentando não compartilhar o mesmo objeto para diferentes processos, o que ocorria era das duas uma: ou o processo simplesmente congela, provavelmente por ficar esperando algum recurso de memória ou objeto indisponível, ou o procedimento é executado com sucesso mas no fim das contas o array inicialmente alocado não é modificado, o que mostra que há sutilezas e complicações ao tentar paralelizar manualmente operações em arrays. No entanto deixo o meu código fracassado a seguir caso tenha alguém que desvende o mistério.\n"
   ]
  },
  {
   "cell_type": "code",
   "execution_count": null,
   "id": "d29bd1b7",
   "metadata": {
    "id": "3qHF6WuIqWoZ"
   },
   "outputs": [],
   "source": [
    "external_function = \"\"\"\n",
    "def run_length_decode5(item, MIN=-147.5):\n",
    "    RUN = 255\n",
    "    ESC = 254\n",
    "    dest, src = item\n",
    "    nsrc = len(src)\n",
    "    i = 0\n",
    "    j = 0\n",
    "    while i < nsrc:\n",
    "        ib = src[i] \n",
    "        i+=1\n",
    "        if ib == RUN:\n",
    "            nrun = src[i]\n",
    "#             dest[j:j+nrun] = thresh  # Redundante\n",
    "            i+=1\n",
    "            j+=nrun\n",
    "        elif ib == ESC:\n",
    "            # next value is literal\n",
    "            dest[j] = src[i]/2. + MIN\n",
    "            i+=1 ; j+=1\n",
    "        elif j < dest.shape[0]: # Às vezes são gerados mais valores do que são alocados na matriz, por algum erro na medição, assim os excedentes são ignorados:\n",
    "            # value\n",
    "            dest[j] = ib/2. + MIN\n",
    "            j+=1\n",
    "\"\"\"\n",
    "Path('external_function.py').write_text(external_function)\n",
    "\n",
    "def test_parallel(blocks):\n",
    "    from fastcore.parallel import parallel\n",
    "    from fastcore.foundation import partialler\n",
    "    from external_function import run_length_decode6 \n",
    "    thresh = blocks[0].thresh\n",
    "    # vamos separar a matriz por linhas e alocar as tuplas (linha, bloco) numa lista, \n",
    "    # assim não passamos a mesma estrutura de dados ( matriz ) para diferentes processos na hora de paralelizar\n",
    "    # essa lista é recortada e cada recorte vai para um processo ( core ) distinto.\n",
    "    decoded_and_blocks = [(np.full((b.ndata, ), thresh, dtype=np.float16), b.data[b.start:b.stop]) for b in blocks] \n",
    "    offset = blocks[0].offset \n",
    "    MIN = offset - 127.5\n",
    "    function = partialler(run_length_decode5, MIN=MIN)\n",
    "    setattr(function, '__module__', run_length_decode6.__module__) # isso é necessário porque no paralelismo é checado o atributo __module__ da função a ser paralelizada \n",
    "    parallel(function, decoded_and_blocks, n_workers=os.cpu_count(), pause=0.1)\n",
    "    #decoded = np.concatenate(b[0] for b in decoded_and_blocks)\n",
    "    return decoded_and_blocks"
   ]
  },
  {
   "cell_type": "markdown",
   "id": "82bc9516",
   "metadata": {},
   "source": [
    "> Note: Eu defini a função como string e a exportei para um módulo externo `external_function`, isso foi feito para evitar erros que ocorrem por vezes que tentamos paralelizar uma função contida no mesmo módulo."
   ]
  },
  {
   "cell_type": "markdown",
   "id": "43992732",
   "metadata": {},
   "source": [
    "Descomente a célula a seguir caso queira testar."
   ]
  },
  {
   "cell_type": "code",
   "execution_count": null,
   "id": "0ea54bae",
   "metadata": {
    "id": "3gntO5Gjo-AD"
   },
   "outputs": [],
   "source": [
    "# %%time\n",
    "# d = test_parallel(compressed_blocks)"
   ]
  },
  {
   "cell_type": "markdown",
   "id": "b542746d",
   "metadata": {
    "id": "RY6kxtOEGC6E"
   },
   "source": [
    "## Reexaminando a implementação C original\n",
    "Até o momento pegamos o algoritmo original em C, o adaptamos para python e gradualmente fomos reescrevendo-o com estruturas de dados otimizadas típicas do python e numpy. Ao esgotarmos as possibilidades de otimização e para evitar as armadilhas do processamento paralelo, podemos juntar os dois mundos. \n",
    "\n",
    "Daí surgiu a oportunidade de aprender um pouco de `Cython`, onde em vez escrevermos código C puro simplesmente escrevemos o código em python e deixamos o `Cython` compilá-lo para nós.\n",
    "\n",
    "Primeiramente vamos extrair todas os elementos fixos dos blocos:"
   ]
  },
  {
   "cell_type": "markdown",
   "id": "06293eb2",
   "metadata": {
    "id": "7uISR5jmNsMm"
   },
   "source": [
    "A implementação em cython mais eficiente que cheguei é mostrada a seguir: "
   ]
  },
  {
   "cell_type": "code",
   "execution_count": null,
   "id": "505f6386",
   "metadata": {
    "id": "lGg3NEyKN_Wc"
   },
   "outputs": [],
   "source": [
    "%load_ext cython"
   ]
  },
  {
   "cell_type": "code",
   "execution_count": null,
   "id": "b8f96704",
   "metadata": {
    "colab": {
     "base_uri": "https://localhost:8080/",
     "height": 795
    },
    "executionInfo": {
     "elapsed": 5,
     "status": "ok",
     "timestamp": 1632107834791,
     "user": {
      "displayName": "Ronaldo da Silva Alves Batista",
      "photoUrl": "https://lh3.googleusercontent.com/a/default-user=s64",
      "userId": "01599860855598048438"
     },
     "user_tz": 180
    },
    "id": "9d34baae",
    "outputId": "7eb2314e-f059-4169-8dde-f7d4d6ba1062"
   },
   "outputs": [],
   "source": [
    "%%cython --annotate\n",
    "\n",
    "cimport cython\n",
    "import numpy as np\n",
    "cimport numpy as np #necessário para usar o numpy com o Cython\n",
    "\n",
    "ctypedef np.float32_t DTYPE_t # Defino um tipo numérico em C, a ser utilizado no vetor a ser retornado.\n",
    "\n",
    "@cython.boundscheck(False)\n",
    "@cython.wraparound(False)\n",
    "cpdef np.ndarray[DTYPE_t, ndim=2] cy_decode_blocks(list data, int rows, int cols, int thresh, float MIN):\n",
    "    cdef np.ndarray[DTYPE_t, ndim=2] decoded = np.full((rows, cols), thresh, np.float32)\n",
    "    cdef const unsigned char[:] src\n",
    "    cdef int RUN = 255\n",
    "    cdef int ESC = 254\n",
    "    cdef int NRSC\n",
    "    cdef int i\n",
    "    cdef int j\n",
    "    cdef int ib\n",
    "    cdef int nrun\n",
    "    cdef Py_ssize_t row   \n",
    "    for row in range(rows):\n",
    "        src = data[row]\n",
    "        nsrc = len(src)\n",
    "        i = 0\n",
    "        j = 0\n",
    "        while i < nsrc:\n",
    "            ib = src[i]\n",
    "            i+=1\n",
    "            if ib == RUN:\n",
    "                nrun = src[i] \n",
    "                i+=1\n",
    "                j+=nrun\n",
    "            elif ib == ESC:\n",
    "                # next value is literal\n",
    "                decoded[row, j] = MIN + src[i]/2.\n",
    "                i+=1 ; j+=1\n",
    "            else:\n",
    "                # value\n",
    "                decoded[row, j] = MIN + ib/2.\n",
    "                j+=1\n",
    "    return decoded"
   ]
  },
  {
   "cell_type": "markdown",
   "id": "6c2f5926",
   "metadata": {},
   "source": [
    "![](images/cython.png)"
   ]
  },
  {
   "cell_type": "markdown",
   "id": "dc8c06f0",
   "metadata": {
    "id": "MId0rF4ZOL_m"
   },
   "source": [
    "Acima temos o resultado do código compilado. Linhas em branco são basicamente código compilado para C puro, com a mesma eficiência. Tons de amarelo indicam interação do compilador C com objetos python, quanto mais amarelo maior a interação.\n",
    "\n",
    "Vemos que temos basicamente interação ao acessar objetos python:\n",
    "\n",
    "\n",
    "* **Importação das bibliotecas**\n",
    "\n",
    "  ![image.png](data:image/png;base64,iVBORw0KGgoAAAANSUhEUgAAARsAAAA6CAYAAACAqv0GAAATRUlEQVR4Ae2d0WsbRx7H9Q/kJS8R5MUCPcSkIYkf6gjTwzUuxc45UBUHYrdgoxxNTqRHHZK7oN4hVMVxjGxCEKWXinK4Z3Np4tAz53AX4raHe3KLa5vUSU2Tq1o3NMIJPjkkRQqO+R6jnZmdXe1KWmmtyO4Ewnql2dnZmd985je/Wc3XAflP1oCsAVkDFagBRwXuIW8ha0DWgKwBGMBmAID8L+tA2oC0AXttQMJGglUOLtIGKmIDEjbS0CpiaNJLsNdL2Ij1KWEjYSNhI22gIjYgYSMNrSKGthFHYllme70xCRsJGwkbaQMVsQEJmxIMLXGtHrUhB1yRNsQf2Ut/OZpWoD7vLsLrABwOIDxVgfuVYGOb0Q5sg839ydfwu/ad2OFyweXagZeOePH3b/sNifnw1hs4faQOu7Np3Xi+/WW8P/mOYdrqq/QAYhEHHEHlv+96eIOU20qnCiM+1gz/oBu+a8EN9XypqXsIHM2g6TeLSJp1cgmbZ9KmtsDmzl89FDIENOL/OpyeFoHTj5t/NkvrRveVjQGcze/ZHEOYwtR7dWPBJh5SPBZHu4RNtQ3UBWEzc4bAoxEXkyYj43+78CoBTF0zhr7uVYj5tBc3/9KoAKj5EG4+Va/NTLej+1QXZu5SCIlpXziEm2ajkfy8gqORhE21ddTNUJ6yYTNzxg2XazdOx0UPhsClF3/3E1DtRvSWChvjSnsbQwcKQO1/b+L0fjd27G/HzM+F8rPw/VoYiUkv/IM1cNHR3NVbj8iXuhF9poVPndgUihzDM/p70Y56rhOz/2lBa8gBR8iN45MBpKbb6Pk2+K4FODziQ8qUbO9HPUgtdOJ4ZBucpCyhbegYOozEE/09BpBa6EI46s7GjrLlCdXA+54XE/pB4adOeLPPtQvDPw1ky+Dr3Zp9Fme4DuFJVo4ghs+p00PxGcW/y/d0PkRyahHh7lXUOhUvxPlcBsdHvkKKDSh37qGVxlRaP/ic1xO3HeF735V/ITmSycZfSAzG9L/o6YjTqMlxfDOygtbnlGtd+zKITE7k3jP1FUZDGTTRdOQ+nvbHiH6iS8vzfozxBxOIn3+MVneBvNlzb/JjmbChkNB7JMRbuXQAr9YpU6ruS4WmRww2XsQFL4gbFwZw/1Ijn6IdGSuUX27nFPPif68FMHx+iyFEHEGlc/K0VmHTWwMPAQ0FmEN/HmzAeEopJ4ONo68GHpZeODrPd2niD2Qax8DI82fpQ26EZ86qnYXDxgH/UItB/ttp+krA5grioVVTIKjB2n9htJuCo+UeErpOmLhA83CuYCI9UBZsPPuMyrOK2B3Bhr5fhI8CwwhmTb3zSLMyctgAnn1G8NPlza77BRzLhM0JnCZTqDd/i4eksp724s71Q+igkOHxmzMnVOM3qlQ6FdsRfAsZo+/JZ8nf4ve2ejZnMTtSQ2GwFb6xHqTSioGlH5zE+EgLRn8SDE4slwAeU88m6IDzfCcST44hwEBwjpz3INKrQIhdy2FD0vU1Y5x4J2thzP6tlpZvOyLMOxTg4Tx/EN9QYKW/64K/j8Ktz4tvWHmF9ARMngtdiqe01AU/g+FfjunaZ32mUcmPMnBS76Ppj7eRePShct9HnyP+wQqi02p9pz9ZoWn1nXMOkT1KJ97bP6cr9wCsxmwIPDouUK9qYYl7VE0XvqB5f4bhdgoNZwax+XHl8/QXGD3GQLWK6DwtuwCbwnmrz8sHNdZum/CYAxslRqN4JBwWmqCvON2hsDnzFrKrUfvJlIp878avT/lw8+sudJPzfLD5+QRON7vgavbaOz0q1FjpozhOIbB36Jg6MhW6jnxfFGy2I5I1QNZx2bnqQeTAprdZu5SeOgw/LaP3H8p0J/GxmwKoHqMPtMaaul5Pv3Mj9h39ToBNFn5r7Bq1HI5znRrPCWBldqD8aRO73xeIvUQ7rTilMa1vFSpqxx8AppZNIKTcxypsPCHBK8E8wmwqFppXoHLnHproZ2TKpoHCgwR8DJ4MTgJsCuZt+uyszjbX0R7YcBi58es3X0OcxQ2SvixsdgyaeDY/v42hw264djbi4t0KV+ytNuylHTkgjKgaYzIzhqJgw6ZhrOOyc7WT58AmT6d3DCneB/eC+g/mTC8MISjApnhwsDLbCJtUAn7aMb1Dn2k7rUk9Jz6gnsOeJcxm01zCxCkFWM4Ttw0HCKuwUaduxP4MYDO1TKd9eg/LJL0Am4J5mzx3UTa4Aa/NgY3+QfOvRv0B0RcUL2j364fw6X/pahSriLg36+kYLmk/fAsR4gnVNePiDxUGDSnfjRYlCBt0oGphs6ZOwZwjPdkOymEz2LmxYJNcRIdF2EDwHCJzMUAAVvac2ZlwXD/YZDD8vd5ODeAkYWM6kJQJm37Eg3Q1SvM+DWmUfnz6tvJdzmrUDz4cIXGd5v34Z6U9GmaYS13oWNdpFPNkmJfAzi14NvOq9+X/RHl5cPaj7abTqOTVXfQ7dq8BoFzPhk7f9IOQ9fN5hOnqU953YFj7ZI+CJ3NqAYkrjxUvwyBozMrDYfPKYi6MWd5WgDC3hL1m0yghH+8I9daEz6Rno4VzmbAZQGbai1+RaVTzflw0es+m24f7rJExgIezh/DqTld2CTv+UFsYZjCGR9uXvsMYjbLVovUIELMObwE2gwf5Mnf67mEEWMA31IgJ9rMIAUBigDi1cBAdNODrfPewuoxcEmx6EGbB40gbZmkQ2rBdhLbN/30Ms/00ZuMACgWIeV68s6+itUW5Pid2IpRhtpfdYxWRaRrMFb7P5msJCGrsyCEGiFNfIfY6vZeTLHNTW7aUtwX71z/DBjwvGzbEg5k5U8eXpTVB5ZxYDA0o8xiPQSBaBydmdOuy9H23Cz7WqaiXoy4lM1goBsGnLznpGLBYej1c9Od5PBvDvGu0S9k4i/gQW0Vj9xaOfQ0YF73FkmAjrtQJeQfLjOE8mkf4RQaD3KPWE2Ad8XPEKGSyy850uZvZhf6Ynl6Gh3oimmVqMShtEQjpKZM8s/dZhX9MiEFZzFtf/s18XhA2RT08ea9mzIsjzTsU6OzciVd7XkP8PjMYdiwdNvYvfdMypQIYv9wAL33RzRHcgtpIA6K6l/oqApvQtsIv6dERLfml/kXEXfBfPowE84DYyFcSbJSl9/jlBrSGte8hFR9kZm2uO65OID6yDN+L4Mvg5EW68BXhpT5WdnpMsemTA2hlqz66NKqdxpCaXIK/Tc0/C50yYJPNO7mA6NEMPOx9G/cqvEeXMP79FW2MQsJGWx9CO9kDGyFDtdF1RibTmDYCB1nOapSsQyAGzUt8ephKuzK1q2rrixI2VWCsEjZmUL2E5NUVPi3q+EiYrlRBu1VbZ6728kjYVIHRStjoYSMsKdP4i/YFOX16eV7toCHlk7CRsKlCN1yFTe2LSjyH//aoCtprI3TsaiyjhI003iqEjfRUqhEW5ZZJwkbCRsJG2kBFbEDCRhpaRQyt3FFRXr/xvT0JGwkbCRtpAxWxAQkbaWgVMTTpmWx8z6TcNpSwkbCRsJE2UBEbkLCRhlYRQyt3VJTXb3zPSMJGwkbCRtpARWxAwoYY2qNjiES2ZtUMRNUDOZpu/NFUtmH1tKFtsClaEfPpO5i5JPxCnKhnvv5sFTHTU4100ykin9JGt6Csnkayo8OkvzuMaKweTb1tiMuRvCIjuR3ttpnysAU2xStiaiVZNHvfuJ6hIuYvwLNRd/FrkbCRsH0msC0Im/x7EA8AFhUx748dwJ/+egI/MqG5p/348foBvEQ21DLZOGsz0f1ZPYuEzebyVJ+VHZVz37JhY5ci5vsvu+A6/IZmC1HNg9m+Lai6Y566O58DubImA2AdNTx5ErF3FbVK1zkvZlMBDLPzSJsqw8I3rGrA+FIQEyP1XLDOFWlA7Iayn7Dm+VInMTpUjya+WdVWeAZzN/Ei1/BfiRPFhUcnMfxBLd10ayta3zuobuMpqEBonlGzI2Dpng5XojyaQOoB2VxqFS72K+3uZcQfxIQRVP1xJd+vN+thCLpMfIMrmrZ9EbPXlhVFSecqjl/9DKlJdg74hC0n2N7DewfnkJpfxHG2eZYT6AjdRmKVwkZQ0yxGbVPTRsV6RGRDtrFG+PqosinREAu7jRVLSZ5PgpjQpc+qshIVVS69Yx2WpbZPZE6rEkoUS8NXDZRJi60Pmq5M2NigiJl5h+qC1+F0zqbpagXbvy2oddh4+rTbcerPiXxu1jg5bLbD06fd6U7p9DUI3xBUK/NuT7oFTSNaXSsOm8FmhI0UPdkmXJWCzZ5VeNhm5uKWnJqNyUuAjT5f/bnjsaoqGqLbjO5b5fvfiNuCOl9fpNpY1tQ2S4ENbx8N1On2qqEGdb9i0gnXehDtN7IRJT2T+ymlHBw2OfVG68qkfYxVQoFy9xMqEzYlKmJSPSkes3m+Ee+TnarzkdJ2RUwVZIAAHtZRhbIwz8YRVPYDTvyDqRhsR2D6LLg4HLuWw4YYzBZ0fHxSGaGSggol35RcuHeoDrEF6vWkAxi9wOBWg+i3ank1xhyqRYR6SrN/Y+l3YVjchxiqd+YIlu7J6NuHGzMBDN8M/EN8866qFKnK2JYAGwdAIJFYXUCAQaydnKubkLN9i5lnkwXMvhWMJ4na5jhmB1lZgMicUoelqm3qn9/sfPZKPaKTJ5FkuwqunUXy341cp6zjmqAjL0gKMQUNkm86eRLjl+sRvaG2u9n9zD4vtX1IHXpO3UaSeIOpOUTYHtBcv6u0MuXApiKKmHrYkHjNzudx+lObNLwFUJg1hPZzocMzYAh5cNhEu7KqBfpzLg7HrhVgw5Qs2f1UKZZmxImL/N1BNNER0HddN7160AUf/a7pY0URk+Sjwka3GbrgyehHRF7mdYHNKsJTwl68XNgNYDAQBeCKnkY5CCDIVEwFlXKuTr1Y/hw2e1bU6SxpQ0FrShXHU2FlRW2TtWFpR7bxvQPcAyblE2DjOteG8TthpMuYOollU2FjrX32/nFBIwCYGqMSOg4j7aziwWMPbLhagkVFTFLZmV78OMn0wT0YehaCdcV6NlSVkndcep4PNuadnqoxcEAIkrkcdKqBMkVMLWyK91J4mdcFNsvaFS7bYJOhHhqDDTvPAxse92GdgF0LOJikLgZQitqm2JHz/v0kiPjVFvj6a+AymkoxuyHtvBbAaHSr+uoFSR/ahtb32jA8J3hA3CbYcxU+qrApp30UyWM2JWVwz/v8JmXNgY0+k/yrUWUoYuoKlPn0gKKeeelZeDdFejY2wEadgtVhdEnUDc+d+oia2xI2JM5QCmzUKZizl+p3E9srQW1T3zcMzx8dQ5jpfRmBhnwmwob2g+RcJyLv7eILCSyg77GqQy/0K9tgM7lCJYiBsFWpaqE8ZcKmREVMoQC8wfJJ9Rqlt/WzSsFGEMbrpS8PCprjOdMocTp2VR3l1GlUKZ4Nnb7ZUH8lG7Oo9f1oAYE9NGDJvRLmjTC46M8teDZc5A7wj4middbVNrmt5qm75LU66qVsx/F/B5B+wjwQYy/VKM/UrU74ObAaeBDcKG2+z0puH6bumX1OUVxQDcjnu6/Zd2XCxroiZk5BMr24/7UPvye63ztfxj//xxpHd7R96VvMf/1gE5iiq05Pwpj9uI7ri7eyGMxaDyK9bKVCCBCnTiLGVpp0KxglwYZ3gi3wiwHKPB0np610aS0bM1uxar+nLEUnbyMgitbZAZtXaN6IIX33NgL7KMiIuB0L2LLn4CAqTm2zUH2Q79XpqhvRW7Ttl3swfMHN217j2dzwwne5C7OLQqwmHUDsHLWJYCMm0qKtFv+35fahQXgv1+bSqls4T9zWxHKKqQ8xTdmwsaaI+Q4udhuoYNIAcaSSS9+C18Bc1pyjybSJGxRzh1ncxSBAnJMneefifCcSQhAwPdMCj5nLHayB/xM1OEwarxTY4KcuLs+rLVPx3pFoOORva8Yc06wMsRgAOTYx4NgBG7ZqpTnqAqQMNrCmtql/fsPz7w+i1bAtt8DJ1FeZ3ZByMNsxuaZppKfkDm6tfZj3SOGsqT/AsW9ZG3jndVg8/ArCxrBC9TcqWhEzFza7m1/A7wbfwE0zj4bdy+6l7wrBxhVmL3ZtQW1fPcLX6TI4ey52TB5FVJyzh2qyL4GNLwrv49C0JcGGLKd+24VwVB+0rBRsiFF+holQBrXUw6ltW8Hw/DgSIxklJmAHbJxArU61ciK7DG7cKaypbRrnoe8jqWkv/OSHvQQgoW1oirZgdCGsDhIibNbCSEwSdVO3oIZKrmlETKfKqr9PofNSYeN8DvzlTKJW6j+/oCyDM1st8WgPbEq8eaHK2rDfCyDTr0Zt2Geq8jbmS98cWMWAQaptqvaoejbaVxOKqcfi0kjYrEcnkrDJ/4LmOtS5ddho4xHlvh2rdtriOl71pZewqbjR2mIEEjYVb7fiYaN2KhY3kmqbBJBqvUjPZh1GQ1vAYlQuCZsNARuptil6YRI2FTfadQOQEZTkZ7J9f0E2IGM2v6DGliAVR3L5d6XtwQA2kP9kDcgakDVgew1I2NhepTJDWQOyBoxqQMLGqFbkZ7IGZA3YXgMSNrZXqcxQ1oCsAaMa+D/GUiDV7UI7twAAAABJRU5ErkJggg==)\n",
    "\n",
    "  Necessariamente temos que interagir para importar as bibliotecas python e suas funções que iremos utilizar\n",
    "* **Criação de função**\n",
    "\n",
    "  ![image.png](data:image/png;base64,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)\n",
    "\n",
    "  * Nós declaramos que a função irá retornar um `np.ndarray[DTYPE_t, ndim=2]`, isto é um numpy array com 2 dimensões contendo dados do tipo `DTYPE_t`, esta variável definimos logo acima: `ctypedef np.float32_t DTYPE_t`, que nada mais é que números do tipo float32, o `_t` é uma sintaxe específica para indicar o tipo float32 do numpy \"compilado\" para cython, precisamos chamar `ctypedef` para definir variáveis \"compiladas\".\n",
    "  * Na assinatura da função declaramos todos os tipos dos argumentos, os tipos são os próprios do python, que serão transformados em tipos C ao serem compilados.\n",
    "  * Definimos a função com a chamada `cpdef`, com essa chamada não só compilamos nossa função como ela também fica disponível para importação como objeto python. Caso quiséssemos somente compilar uma função ou objeto e não importá-lo como objeto python, utilizamos `cdef`\n",
    "\n",
    "  _Recebemos objetos python na função, então necessariamente há interação porque esses objetos são externos ao nosso código que será compilado_\n",
    "\n",
    "* **Declaração do array que será preenchido e retornado**\n",
    " \n",
    " ![image.png](data:image/png;base64,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)\n",
    "\n",
    "  Aqui utilizamos nossos objetos python: `rows, cols, thresh` e criamos um numpy array, aqui invariavelmente também há interação com objetos python\n",
    "\n",
    "* **Acesso aos bytes de espectro**\n",
    "\n",
    " ![image.png](data:image/png;base64,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)\n",
    "\n",
    "  Mesmo caso anterior, estamos acessando os bytes armazenados no objeto `data` \n",
    "\n",
    "* **Retorno do array**\n",
    "\n",
    " ![image.png](data:image/png;base64,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)\n",
    "\n",
    " Aqui temos uma interação leve ( amarelo mais claro ) porque temos que retornar o array que foi preenchido pelo nosso código em C de volta para um numpy array em python\n",
    "\n",
    " Todos as demais variáveis dentro da função, além dos loops, é compilado para um código em C sem qualquer interação com o python e por isso é muito rápido. Conseguimos essa façanha bastando basicamente declarar os tipos de todas as variáveis e assim o cython faz sua mágica.\n",
    "\n",
    " Vamos ver como desempenhamos: \n"
   ]
  },
  {
   "cell_type": "code",
   "execution_count": null,
   "id": "edccd581",
   "metadata": {
    "colab": {
     "base_uri": "https://localhost:8080/"
    },
    "executionInfo": {
     "elapsed": 3854,
     "status": "ok",
     "timestamp": 1632107838642,
     "user": {
      "displayName": "Ronaldo da Silva Alves Batista",
      "photoUrl": "https://lh3.googleusercontent.com/a/default-user=s64",
      "userId": "01599860855598048438"
     },
     "user_tz": 180
    },
    "id": "530cfaaa",
    "outputId": "1d580da5-3804-4a0a-8a63-35373ec9902d"
   },
   "outputs": [
    {
     "name": "stdout",
     "output_type": "stream",
     "text": [
      "CPU times: user 2.04 s, sys: 1.82 s, total: 3.86 s\n",
      "Wall time: 3.85 s\n"
     ]
    }
   ],
   "source": [
    "%%time\n",
    "# dados fixos\n",
    "offset = compressed_blocks[0].offset\n",
    "MIN = offset - 127.5\n",
    "cols = compressed_blocks[0].ndata\n",
    "thresh = compressed_blocks[0].thresh\n",
    "rows = len(compressed_blocks)\n",
    "data_blocks = [b.data[b.start:b.stop] for b in compressed_blocks] # colocar os dados de espectro diretamente numa lista\n",
    "d = cy_decode_blocks(data_blocks, rows, cols, thresh, MIN)"
   ]
  },
  {
   "cell_type": "markdown",
   "id": "fc9cca53",
   "metadata": {
    "id": "Q0E5uySw2N-K"
   },
   "source": [
    "Menos de 4s para processar quase 2 bilhões de pontos flutantes! 🤯"
   ]
  },
  {
   "cell_type": "markdown",
   "id": "568bb37e",
   "metadata": {
    "id": "DlTO3KTzD4Jp"
   },
   "source": [
    "E agora nossos blocos em si são classes Python com diversos atributos, sendo um deles, `.data` nossos dados de espectro em bytes, assim primeiramente extraimos os bytes e não utilizamos diretamente a classe Python. O motivo disso é que para usarmos a eficiência do compilador em C nossas estruturas de dados precisam ser as mais simples possíveis, de preferência tipos nativos, assim o código em C não precisa intercambiar com o python tornando-o lento.  "
   ]
  },
  {
   "cell_type": "code",
   "execution_count": null,
   "id": "482cb2e5",
   "metadata": {
    "colab": {
     "base_uri": "https://localhost:8080/",
     "height": 34
    },
    "executionInfo": {
     "elapsed": 398,
     "status": "ok",
     "timestamp": 1632107751142,
     "user": {
      "displayName": "Ronaldo da Silva Alves Batista",
      "photoUrl": "https://lh3.googleusercontent.com/a/default-user=s64",
      "userId": "01599860855598048438"
     },
     "user_tz": 180
    },
    "id": "12b24e07",
    "outputId": "2023091e-abee-4a29-e8b5-f86cb8a26fb3"
   },
   "outputs": [
    {
     "data": {
      "text/html": [
       "<pre style=\"white-space:pre;overflow-x:auto;line-height:normal;font-family:Menlo,'DejaVu Sans Mono',consolas,'Courier New',monospace\"><span style=\"font-weight: bold\">[</span> <span style=\"color: #008080; text-decoration-color: #008080; font-weight: bold\">-96.5</span>  <span style=\"color: #008080; text-decoration-color: #008080; font-weight: bold\">-96.5</span>  <span style=\"color: #008080; text-decoration-color: #008080; font-weight: bold\">-95.5</span> <span style=\"color: #808000; text-decoration-color: #808000\">...</span> <span style=\"color: #008080; text-decoration-color: #008080; font-weight: bold\">-100</span>.  <span style=\"color: #008080; text-decoration-color: #008080; font-weight: bold\">-100</span>.  <span style=\"color: #008080; text-decoration-color: #008080; font-weight: bold\">-100</span>. <span style=\"font-weight: bold\">]</span>\n",
       "</pre>\n"
      ],
      "text/plain": [
       "\u001b[1m[\u001b[0m \u001b[1;36m-96.5\u001b[0m  \u001b[1;36m-96.5\u001b[0m  \u001b[1;36m-95.5\u001b[0m \u001b[33m...\u001b[0m \u001b[1;36m-100\u001b[0m.  \u001b[1;36m-100\u001b[0m.  \u001b[1;36m-100\u001b[0m. \u001b[1m]\u001b[0m\n"
      ]
     },
     "metadata": {},
     "output_type": "display_data"
    }
   ],
   "source": [
    "print(d[5000])"
   ]
  },
  {
   "cell_type": "code",
   "execution_count": null,
   "id": "ae04fba0",
   "metadata": {
    "colab": {
     "base_uri": "https://localhost:8080/",
     "height": 34
    },
    "executionInfo": {
     "elapsed": 316,
     "status": "ok",
     "timestamp": 1632085413213,
     "user": {
      "displayName": "Ronaldo da Silva Alves Batista",
      "photoUrl": "https://lh3.googleusercontent.com/a/default-user=s64",
      "userId": "01599860855598048438"
     },
     "user_tz": 180
    },
    "id": "8FLUQBfg3vc0",
    "outputId": "5e4289c8-a585-4263-b597-be765d65f6d0"
   },
   "outputs": [
    {
     "data": {
      "text/html": [
       "<pre style=\"white-space:pre;overflow-x:auto;line-height:normal;font-family:Menlo,'DejaVu Sans Mono',consolas,'Courier New',monospace\"><span style=\"font-weight: bold\">(</span><span style=\"color: #008080; text-decoration-color: #008080; font-weight: bold\">133932</span>, <span style=\"color: #008080; text-decoration-color: #008080; font-weight: bold\">14848</span><span style=\"font-weight: bold\">)</span>\n",
       "</pre>\n"
      ],
      "text/plain": [
       "\u001b[1m(\u001b[0m\u001b[1;36m133932\u001b[0m, \u001b[1;36m14848\u001b[0m\u001b[1m)\u001b[0m\n"
      ]
     },
     "metadata": {},
     "output_type": "display_data"
    }
   ],
   "source": [
    "print(d.shape)"
   ]
  },
  {
   "cell_type": "markdown",
   "id": "106d1815",
   "metadata": {
    "id": "JioFlouD3Fqi"
   },
   "source": [
    "Um detalhe é que não utilizamos `np.float16` como nas implementações anteriores porque não existe `float16` nativamente em C, assim não poderíamos declarar um tipo de array \"compilado\" em C e a cada leitura e escrita do array teríamos que interagir com o objeto python, tornando a execução muito mais lenta."
   ]
  },
  {
   "cell_type": "markdown",
   "id": "11e57606",
   "metadata": {
    "id": "CrMB7qPd30GA"
   },
   "source": [
    "Espero ter atiçado um pouco mais a sua curiosidade sobre o Cython caso ainda não o conheça, e mostrado que não é um bicho de sete cabeças e é possível ter eficiência de C ( ou quase ) no seu código python modificando muito pouco. Esse foi mais um exercício exploratório motivado pela curiosidade de quanto eu conseguiria otimizar a leitura de uma estrutura de dados que era importante pra mim, por ter dedicado muitas horas nela por conta do meu trabalho, fiquei feliz pelos resultados e acabei aprendendo muita coisa por conta dele. \n",
    "\n",
    "Caso você tenha milagrosamente chegado até esse ponto o meu bônus pra você é que você pode ignorar tudo isso porque já fizeram de maneira infinitamente melhor pra você: A biblioteca [Numba](https://numba.pydata.org/numba-doc/latest/user/5minguide.html) é um compilador just-in-time para Python que funciona melhor em código que usa matrizes e funções NumPy e loops. Ele não só compila como paraleliza seu código em todos os cores da CPU ou da GPU caso você tiver."
   ]
  }
 ],
 "metadata": {
  "colab": {
   "collapsed_sections": [
    "601dbdb4"
   ],
   "machine_shape": "hm",
   "name": "Leitura de dados binários - um exemplo de otimização gradual em Python",
   "provenance": [],
   "toc_visible": true
  },
  "kernelspec": {
   "display_name": "Python 3",
   "language": "python",
   "name": "python3"
  },
  "language_info": {
   "codemirror_mode": {
    "name": "ipython",
    "version": 3
   },
   "file_extension": ".py",
   "mimetype": "text/x-python",
   "name": "python",
   "nbconvert_exporter": "python",
   "pygments_lexer": "ipython3",
   "version": "3.8.6"
  },
  "nbTranslate": {
   "displayLangs": [
    "*"
   ],
   "hotkey": "alt-t",
   "langInMainMenu": true,
   "sourceLang": "en",
   "targetLang": "fr",
   "useGoogleTranslate": true
  },
  "toc": {
   "base_numbering": 1,
   "nav_menu": {},
   "number_sections": true,
   "sideBar": true,
   "skip_h1_title": false,
   "title_cell": "Table of Contents",
   "title_sidebar": "Contents",
   "toc_cell": false,
   "toc_position": {},
   "toc_section_display": true,
   "toc_window_display": false
  },
  "widgets": {
   "application/vnd.jupyter.widget-state+json": {
    "0304494515a844f2912a152d1524cbf9": {
     "model_module": "@jupyter-widgets/controls",
     "model_module_version": "1.5.0",
     "model_name": "DescriptionStyleModel",
     "state": {
      "_model_module": "@jupyter-widgets/controls",
      "_model_module_version": "1.5.0",
      "_model_name": "DescriptionStyleModel",
      "_view_count": null,
      "_view_module": "@jupyter-widgets/base",
      "_view_module_version": "1.2.0",
      "_view_name": "StyleView",
      "description_width": ""
     }
    },
    "04d83c2e331d49baa42c84e47cd7198e": {
     "model_module": "@jupyter-widgets/controls",
     "model_module_version": "1.5.0",
     "model_name": "HTMLModel",
     "state": {
      "_dom_classes": [],
      "_model_module": "@jupyter-widgets/controls",
      "_model_module_version": "1.5.0",
      "_model_name": "HTMLModel",
      "_view_count": null,
      "_view_module": "@jupyter-widgets/controls",
      "_view_module_version": "1.5.0",
      "_view_name": "HTMLView",
      "description": "",
      "description_tooltip": null,
      "layout": "IPY_MODEL_668af5430a8747cd80313927500cf6af",
      "placeholder": "​",
      "style": "IPY_MODEL_ec16c7ece8c547548f9805fdc420647f",
      "value": " 1/1 [00:00&lt;00:00, 15.94it/s]"
     }
    },
    "055a6f3a03cd49fdbc189db97d7d7302": {
     "model_module": "@jupyter-widgets/controls",
     "model_module_version": "1.5.0",
     "model_name": "ProgressStyleModel",
     "state": {
      "_model_module": "@jupyter-widgets/controls",
      "_model_module_version": "1.5.0",
      "_model_name": "ProgressStyleModel",
      "_view_count": null,
      "_view_module": "@jupyter-widgets/base",
      "_view_module_version": "1.2.0",
      "_view_name": "StyleView",
      "bar_color": null,
      "description_width": ""
     }
    },
    "090f6f5562224d6380ab2bbde334dbba": {
     "model_module": "@jupyter-widgets/base",
     "model_module_version": "1.2.0",
     "model_name": "LayoutModel",
     "state": {
      "_model_module": "@jupyter-widgets/base",
      "_model_module_version": "1.2.0",
      "_model_name": "LayoutModel",
      "_view_count": null,
      "_view_module": "@jupyter-widgets/base",
      "_view_module_version": "1.2.0",
      "_view_name": "LayoutView",
      "align_content": null,
      "align_items": null,
      "align_self": null,
      "border": null,
      "bottom": null,
      "display": null,
      "flex": null,
      "flex_flow": null,
      "grid_area": null,
      "grid_auto_columns": null,
      "grid_auto_flow": null,
      "grid_auto_rows": null,
      "grid_column": null,
      "grid_gap": null,
      "grid_row": null,
      "grid_template_areas": null,
      "grid_template_columns": null,
      "grid_template_rows": null,
      "height": null,
      "justify_content": null,
      "justify_items": null,
      "left": null,
      "margin": null,
      "max_height": null,
      "max_width": null,
      "min_height": null,
      "min_width": null,
      "object_fit": null,
      "object_position": null,
      "order": null,
      "overflow": null,
      "overflow_x": null,
      "overflow_y": null,
      "padding": null,
      "right": null,
      "top": null,
      "visibility": null,
      "width": null
     }
    },
    "0a6a1fbf5de84eb787323338a1c1307e": {
     "model_module": "@jupyter-widgets/controls",
     "model_module_version": "1.5.0",
     "model_name": "HTMLModel",
     "state": {
      "_dom_classes": [],
      "_model_module": "@jupyter-widgets/controls",
      "_model_module_version": "1.5.0",
      "_model_name": "HTMLModel",
      "_view_count": null,
      "_view_module": "@jupyter-widgets/controls",
      "_view_module_version": "1.5.0",
      "_view_name": "HTMLView",
      "description": "",
      "description_tooltip": null,
      "layout": "IPY_MODEL_157763c6ae8d43e782ac36077452ecd7",
      "placeholder": "​",
      "style": "IPY_MODEL_d030101cf259485db6cdbea6c8a3d3a9",
      "value": "100%"
     }
    },
    "0b09c90b137b47a3ba4d89a75948c9f3": {
     "model_module": "@jupyter-widgets/base",
     "model_module_version": "1.2.0",
     "model_name": "LayoutModel",
     "state": {
      "_model_module": "@jupyter-widgets/base",
      "_model_module_version": "1.2.0",
      "_model_name": "LayoutModel",
      "_view_count": null,
      "_view_module": "@jupyter-widgets/base",
      "_view_module_version": "1.2.0",
      "_view_name": "LayoutView",
      "align_content": null,
      "align_items": null,
      "align_self": null,
      "border": null,
      "bottom": null,
      "display": null,
      "flex": null,
      "flex_flow": null,
      "grid_area": null,
      "grid_auto_columns": null,
      "grid_auto_flow": null,
      "grid_auto_rows": null,
      "grid_column": null,
      "grid_gap": null,
      "grid_row": null,
      "grid_template_areas": null,
      "grid_template_columns": null,
      "grid_template_rows": null,
      "height": null,
      "justify_content": null,
      "justify_items": null,
      "left": null,
      "margin": null,
      "max_height": null,
      "max_width": null,
      "min_height": null,
      "min_width": null,
      "object_fit": null,
      "object_position": null,
      "order": null,
      "overflow": null,
      "overflow_x": null,
      "overflow_y": null,
      "padding": null,
      "right": null,
      "top": null,
      "visibility": null,
      "width": null
     }
    },
    "0bdc3b52384e47009d57e878c08b2e61": {
     "model_module": "@jupyter-widgets/base",
     "model_module_version": "1.2.0",
     "model_name": "LayoutModel",
     "state": {
      "_model_module": "@jupyter-widgets/base",
      "_model_module_version": "1.2.0",
      "_model_name": "LayoutModel",
      "_view_count": null,
      "_view_module": "@jupyter-widgets/base",
      "_view_module_version": "1.2.0",
      "_view_name": "LayoutView",
      "align_content": null,
      "align_items": null,
      "align_self": null,
      "border": null,
      "bottom": null,
      "display": null,
      "flex": null,
      "flex_flow": null,
      "grid_area": null,
      "grid_auto_columns": null,
      "grid_auto_flow": null,
      "grid_auto_rows": null,
      "grid_column": null,
      "grid_gap": null,
      "grid_row": null,
      "grid_template_areas": null,
      "grid_template_columns": null,
      "grid_template_rows": null,
      "height": null,
      "justify_content": null,
      "justify_items": null,
      "left": null,
      "margin": null,
      "max_height": null,
      "max_width": null,
      "min_height": null,
      "min_width": null,
      "object_fit": null,
      "object_position": null,
      "order": null,
      "overflow": null,
      "overflow_x": null,
      "overflow_y": null,
      "padding": null,
      "right": null,
      "top": null,
      "visibility": null,
      "width": null
     }
    },
    "115621ae7cef44f5ac75391bb818c3d2": {
     "model_module": "@jupyter-widgets/controls",
     "model_module_version": "1.5.0",
     "model_name": "HBoxModel",
     "state": {
      "_dom_classes": [],
      "_model_module": "@jupyter-widgets/controls",
      "_model_module_version": "1.5.0",
      "_model_name": "HBoxModel",
      "_view_count": null,
      "_view_module": "@jupyter-widgets/controls",
      "_view_module_version": "1.5.0",
      "_view_name": "HBoxView",
      "box_style": "",
      "children": [
       "IPY_MODEL_192628dd90c44dae9d53183e591e91c0",
       "IPY_MODEL_519162a7b01847569323c7f24b604fc6",
       "IPY_MODEL_ec3e5fed182f4758be4e7b6340e7212c"
      ],
      "layout": "IPY_MODEL_7f3881a951fd4d99b1eb2b82c830e993"
     }
    },
    "122fc96fcbdf431ba32318e573df05b9": {
     "model_module": "@jupyter-widgets/controls",
     "model_module_version": "1.5.0",
     "model_name": "DescriptionStyleModel",
     "state": {
      "_model_module": "@jupyter-widgets/controls",
      "_model_module_version": "1.5.0",
      "_model_name": "DescriptionStyleModel",
      "_view_count": null,
      "_view_module": "@jupyter-widgets/base",
      "_view_module_version": "1.2.0",
      "_view_name": "StyleView",
      "description_width": ""
     }
    },
    "13a808becf68446a85ac06bb7efce728": {
     "model_module": "@jupyter-widgets/controls",
     "model_module_version": "1.5.0",
     "model_name": "DescriptionStyleModel",
     "state": {
      "_model_module": "@jupyter-widgets/controls",
      "_model_module_version": "1.5.0",
      "_model_name": "DescriptionStyleModel",
      "_view_count": null,
      "_view_module": "@jupyter-widgets/base",
      "_view_module_version": "1.2.0",
      "_view_name": "StyleView",
      "description_width": ""
     }
    },
    "157763c6ae8d43e782ac36077452ecd7": {
     "model_module": "@jupyter-widgets/base",
     "model_module_version": "1.2.0",
     "model_name": "LayoutModel",
     "state": {
      "_model_module": "@jupyter-widgets/base",
      "_model_module_version": "1.2.0",
      "_model_name": "LayoutModel",
      "_view_count": null,
      "_view_module": "@jupyter-widgets/base",
      "_view_module_version": "1.2.0",
      "_view_name": "LayoutView",
      "align_content": null,
      "align_items": null,
      "align_self": null,
      "border": null,
      "bottom": null,
      "display": null,
      "flex": null,
      "flex_flow": null,
      "grid_area": null,
      "grid_auto_columns": null,
      "grid_auto_flow": null,
      "grid_auto_rows": null,
      "grid_column": null,
      "grid_gap": null,
      "grid_row": null,
      "grid_template_areas": null,
      "grid_template_columns": null,
      "grid_template_rows": null,
      "height": null,
      "justify_content": null,
      "justify_items": null,
      "left": null,
      "margin": null,
      "max_height": null,
      "max_width": null,
      "min_height": null,
      "min_width": null,
      "object_fit": null,
      "object_position": null,
      "order": null,
      "overflow": null,
      "overflow_x": null,
      "overflow_y": null,
      "padding": null,
      "right": null,
      "top": null,
      "visibility": null,
      "width": null
     }
    },
    "1642fdbfa4094adeabde784e4cff5e59": {
     "model_module": "@jupyter-widgets/controls",
     "model_module_version": "1.5.0",
     "model_name": "HTMLModel",
     "state": {
      "_dom_classes": [],
      "_model_module": "@jupyter-widgets/controls",
      "_model_module_version": "1.5.0",
      "_model_name": "HTMLModel",
      "_view_count": null,
      "_view_module": "@jupyter-widgets/controls",
      "_view_module_version": "1.5.0",
      "_view_name": "HTMLView",
      "description": "",
      "description_tooltip": null,
      "layout": "IPY_MODEL_381c3b446deb4ce2b7dc2405c980efa0",
      "placeholder": "​",
      "style": "IPY_MODEL_0304494515a844f2912a152d1524cbf9",
      "value": " 133932/133932 [00:27&lt;00:00, 6637.60it/s]"
     }
    },
    "17bde806b08e4a9a9504c831db0bfb1f": {
     "model_module": "@jupyter-widgets/base",
     "model_module_version": "1.2.0",
     "model_name": "LayoutModel",
     "state": {
      "_model_module": "@jupyter-widgets/base",
      "_model_module_version": "1.2.0",
      "_model_name": "LayoutModel",
      "_view_count": null,
      "_view_module": "@jupyter-widgets/base",
      "_view_module_version": "1.2.0",
      "_view_name": "LayoutView",
      "align_content": null,
      "align_items": null,
      "align_self": null,
      "border": null,
      "bottom": null,
      "display": null,
      "flex": null,
      "flex_flow": null,
      "grid_area": null,
      "grid_auto_columns": null,
      "grid_auto_flow": null,
      "grid_auto_rows": null,
      "grid_column": null,
      "grid_gap": null,
      "grid_row": null,
      "grid_template_areas": null,
      "grid_template_columns": null,
      "grid_template_rows": null,
      "height": null,
      "justify_content": null,
      "justify_items": null,
      "left": null,
      "margin": null,
      "max_height": null,
      "max_width": null,
      "min_height": null,
      "min_width": null,
      "object_fit": null,
      "object_position": null,
      "order": null,
      "overflow": null,
      "overflow_x": null,
      "overflow_y": null,
      "padding": null,
      "right": null,
      "top": null,
      "visibility": null,
      "width": null
     }
    },
    "192628dd90c44dae9d53183e591e91c0": {
     "model_module": "@jupyter-widgets/controls",
     "model_module_version": "1.5.0",
     "model_name": "HTMLModel",
     "state": {
      "_dom_classes": [],
      "_model_module": "@jupyter-widgets/controls",
      "_model_module_version": "1.5.0",
      "_model_name": "HTMLModel",
      "_view_count": null,
      "_view_module": "@jupyter-widgets/controls",
      "_view_module_version": "1.5.0",
      "_view_name": "HTMLView",
      "description": "",
      "description_tooltip": null,
      "layout": "IPY_MODEL_23671c05831c4494aa3ea31a293934d5",
      "placeholder": "​",
      "style": "IPY_MODEL_497a83ac05354ae7b137fb1d2f0f884c",
      "value": "100%"
     }
    },
    "1e8909023e46410d8b8cb9db4db3c4c8": {
     "model_module": "@jupyter-widgets/controls",
     "model_module_version": "1.5.0",
     "model_name": "HTMLModel",
     "state": {
      "_dom_classes": [],
      "_model_module": "@jupyter-widgets/controls",
      "_model_module_version": "1.5.0",
      "_model_name": "HTMLModel",
      "_view_count": null,
      "_view_module": "@jupyter-widgets/controls",
      "_view_module_version": "1.5.0",
      "_view_name": "HTMLView",
      "description": "",
      "description_tooltip": null,
      "layout": "IPY_MODEL_0bdc3b52384e47009d57e878c08b2e61",
      "placeholder": "​",
      "style": "IPY_MODEL_c5613eb752e44d0999d9baf2d1d96125",
      "value": "100%"
     }
    },
    "23671c05831c4494aa3ea31a293934d5": {
     "model_module": "@jupyter-widgets/base",
     "model_module_version": "1.2.0",
     "model_name": "LayoutModel",
     "state": {
      "_model_module": "@jupyter-widgets/base",
      "_model_module_version": "1.2.0",
      "_model_name": "LayoutModel",
      "_view_count": null,
      "_view_module": "@jupyter-widgets/base",
      "_view_module_version": "1.2.0",
      "_view_name": "LayoutView",
      "align_content": null,
      "align_items": null,
      "align_self": null,
      "border": null,
      "bottom": null,
      "display": null,
      "flex": null,
      "flex_flow": null,
      "grid_area": null,
      "grid_auto_columns": null,
      "grid_auto_flow": null,
      "grid_auto_rows": null,
      "grid_column": null,
      "grid_gap": null,
      "grid_row": null,
      "grid_template_areas": null,
      "grid_template_columns": null,
      "grid_template_rows": null,
      "height": null,
      "justify_content": null,
      "justify_items": null,
      "left": null,
      "margin": null,
      "max_height": null,
      "max_width": null,
      "min_height": null,
      "min_width": null,
      "object_fit": null,
      "object_position": null,
      "order": null,
      "overflow": null,
      "overflow_x": null,
      "overflow_y": null,
      "padding": null,
      "right": null,
      "top": null,
      "visibility": null,
      "width": null
     }
    },
    "282ac5cc06c24e018a359b3d5648465d": {
     "model_module": "@jupyter-widgets/controls",
     "model_module_version": "1.5.0",
     "model_name": "ProgressStyleModel",
     "state": {
      "_model_module": "@jupyter-widgets/controls",
      "_model_module_version": "1.5.0",
      "_model_name": "ProgressStyleModel",
      "_view_count": null,
      "_view_module": "@jupyter-widgets/base",
      "_view_module_version": "1.2.0",
      "_view_name": "StyleView",
      "bar_color": null,
      "description_width": ""
     }
    },
    "2d4a4e1d65c84a6f891be38c6a98e842": {
     "model_module": "@jupyter-widgets/controls",
     "model_module_version": "1.5.0",
     "model_name": "HTMLModel",
     "state": {
      "_dom_classes": [],
      "_model_module": "@jupyter-widgets/controls",
      "_model_module_version": "1.5.0",
      "_model_name": "HTMLModel",
      "_view_count": null,
      "_view_module": "@jupyter-widgets/controls",
      "_view_module_version": "1.5.0",
      "_view_name": "HTMLView",
      "description": "",
      "description_tooltip": null,
      "layout": "IPY_MODEL_cc68c32e13da4fdd9c1c2c027a596410",
      "placeholder": "​",
      "style": "IPY_MODEL_83c2768dbcc840f39ef8a289e3297850",
      "value": " 133932/133932 [00:39&lt;00:00, 5134.15it/s]"
     }
    },
    "2fc4edf8367d4a4e8280352359383a6d": {
     "model_module": "@jupyter-widgets/base",
     "model_module_version": "1.2.0",
     "model_name": "LayoutModel",
     "state": {
      "_model_module": "@jupyter-widgets/base",
      "_model_module_version": "1.2.0",
      "_model_name": "LayoutModel",
      "_view_count": null,
      "_view_module": "@jupyter-widgets/base",
      "_view_module_version": "1.2.0",
      "_view_name": "LayoutView",
      "align_content": null,
      "align_items": null,
      "align_self": null,
      "border": null,
      "bottom": null,
      "display": null,
      "flex": null,
      "flex_flow": null,
      "grid_area": null,
      "grid_auto_columns": null,
      "grid_auto_flow": null,
      "grid_auto_rows": null,
      "grid_column": null,
      "grid_gap": null,
      "grid_row": null,
      "grid_template_areas": null,
      "grid_template_columns": null,
      "grid_template_rows": null,
      "height": null,
      "justify_content": null,
      "justify_items": null,
      "left": null,
      "margin": null,
      "max_height": null,
      "max_width": null,
      "min_height": null,
      "min_width": null,
      "object_fit": null,
      "object_position": null,
      "order": null,
      "overflow": null,
      "overflow_x": null,
      "overflow_y": null,
      "padding": null,
      "right": null,
      "top": null,
      "visibility": null,
      "width": null
     }
    },
    "370c5bbb69704928bde1433d95ad71b4": {
     "model_module": "@jupyter-widgets/controls",
     "model_module_version": "1.5.0",
     "model_name": "HTMLModel",
     "state": {
      "_dom_classes": [],
      "_model_module": "@jupyter-widgets/controls",
      "_model_module_version": "1.5.0",
      "_model_name": "HTMLModel",
      "_view_count": null,
      "_view_module": "@jupyter-widgets/controls",
      "_view_module_version": "1.5.0",
      "_view_name": "HTMLView",
      "description": "",
      "description_tooltip": null,
      "layout": "IPY_MODEL_17bde806b08e4a9a9504c831db0bfb1f",
      "placeholder": "​",
      "style": "IPY_MODEL_8927c5b12918446aa0c63765e1a12cf9",
      "value": "100%"
     }
    },
    "381c3b446deb4ce2b7dc2405c980efa0": {
     "model_module": "@jupyter-widgets/base",
     "model_module_version": "1.2.0",
     "model_name": "LayoutModel",
     "state": {
      "_model_module": "@jupyter-widgets/base",
      "_model_module_version": "1.2.0",
      "_model_name": "LayoutModel",
      "_view_count": null,
      "_view_module": "@jupyter-widgets/base",
      "_view_module_version": "1.2.0",
      "_view_name": "LayoutView",
      "align_content": null,
      "align_items": null,
      "align_self": null,
      "border": null,
      "bottom": null,
      "display": null,
      "flex": null,
      "flex_flow": null,
      "grid_area": null,
      "grid_auto_columns": null,
      "grid_auto_flow": null,
      "grid_auto_rows": null,
      "grid_column": null,
      "grid_gap": null,
      "grid_row": null,
      "grid_template_areas": null,
      "grid_template_columns": null,
      "grid_template_rows": null,
      "height": null,
      "justify_content": null,
      "justify_items": null,
      "left": null,
      "margin": null,
      "max_height": null,
      "max_width": null,
      "min_height": null,
      "min_width": null,
      "object_fit": null,
      "object_position": null,
      "order": null,
      "overflow": null,
      "overflow_x": null,
      "overflow_y": null,
      "padding": null,
      "right": null,
      "top": null,
      "visibility": null,
      "width": null
     }
    },
    "3883ee73ffdf4abc97338caa6f89cec9": {
     "model_module": "@jupyter-widgets/controls",
     "model_module_version": "1.5.0",
     "model_name": "DescriptionStyleModel",
     "state": {
      "_model_module": "@jupyter-widgets/controls",
      "_model_module_version": "1.5.0",
      "_model_name": "DescriptionStyleModel",
      "_view_count": null,
      "_view_module": "@jupyter-widgets/base",
      "_view_module_version": "1.2.0",
      "_view_name": "StyleView",
      "description_width": ""
     }
    },
    "44fc60ce71c0414babb58d24e1f61ebb": {
     "model_module": "@jupyter-widgets/base",
     "model_module_version": "1.2.0",
     "model_name": "LayoutModel",
     "state": {
      "_model_module": "@jupyter-widgets/base",
      "_model_module_version": "1.2.0",
      "_model_name": "LayoutModel",
      "_view_count": null,
      "_view_module": "@jupyter-widgets/base",
      "_view_module_version": "1.2.0",
      "_view_name": "LayoutView",
      "align_content": null,
      "align_items": null,
      "align_self": null,
      "border": null,
      "bottom": null,
      "display": null,
      "flex": null,
      "flex_flow": null,
      "grid_area": null,
      "grid_auto_columns": null,
      "grid_auto_flow": null,
      "grid_auto_rows": null,
      "grid_column": null,
      "grid_gap": null,
      "grid_row": null,
      "grid_template_areas": null,
      "grid_template_columns": null,
      "grid_template_rows": null,
      "height": null,
      "justify_content": null,
      "justify_items": null,
      "left": null,
      "margin": null,
      "max_height": null,
      "max_width": null,
      "min_height": null,
      "min_width": null,
      "object_fit": null,
      "object_position": null,
      "order": null,
      "overflow": null,
      "overflow_x": null,
      "overflow_y": null,
      "padding": null,
      "right": null,
      "top": null,
      "visibility": null,
      "width": null
     }
    },
    "475a0aa6179a4d0a9182558b540b6c4e": {
     "model_module": "@jupyter-widgets/controls",
     "model_module_version": "1.5.0",
     "model_name": "HBoxModel",
     "state": {
      "_dom_classes": [],
      "_model_module": "@jupyter-widgets/controls",
      "_model_module_version": "1.5.0",
      "_model_name": "HBoxModel",
      "_view_count": null,
      "_view_module": "@jupyter-widgets/controls",
      "_view_module_version": "1.5.0",
      "_view_name": "HBoxView",
      "box_style": "",
      "children": [
       "IPY_MODEL_1e8909023e46410d8b8cb9db4db3c4c8",
       "IPY_MODEL_ba1b6ac292994df6999796f7b647009e",
       "IPY_MODEL_2d4a4e1d65c84a6f891be38c6a98e842"
      ],
      "layout": "IPY_MODEL_84954f7400c6493eb33c65788b9a3a42"
     }
    },
    "497a83ac05354ae7b137fb1d2f0f884c": {
     "model_module": "@jupyter-widgets/controls",
     "model_module_version": "1.5.0",
     "model_name": "DescriptionStyleModel",
     "state": {
      "_model_module": "@jupyter-widgets/controls",
      "_model_module_version": "1.5.0",
      "_model_name": "DescriptionStyleModel",
      "_view_count": null,
      "_view_module": "@jupyter-widgets/base",
      "_view_module_version": "1.2.0",
      "_view_name": "StyleView",
      "description_width": ""
     }
    },
    "4a5d808c877d4943a8629aae32ec57d4": {
     "model_module": "@jupyter-widgets/base",
     "model_module_version": "1.2.0",
     "model_name": "LayoutModel",
     "state": {
      "_model_module": "@jupyter-widgets/base",
      "_model_module_version": "1.2.0",
      "_model_name": "LayoutModel",
      "_view_count": null,
      "_view_module": "@jupyter-widgets/base",
      "_view_module_version": "1.2.0",
      "_view_name": "LayoutView",
      "align_content": null,
      "align_items": null,
      "align_self": null,
      "border": null,
      "bottom": null,
      "display": null,
      "flex": null,
      "flex_flow": null,
      "grid_area": null,
      "grid_auto_columns": null,
      "grid_auto_flow": null,
      "grid_auto_rows": null,
      "grid_column": null,
      "grid_gap": null,
      "grid_row": null,
      "grid_template_areas": null,
      "grid_template_columns": null,
      "grid_template_rows": null,
      "height": null,
      "justify_content": null,
      "justify_items": null,
      "left": null,
      "margin": null,
      "max_height": null,
      "max_width": null,
      "min_height": null,
      "min_width": null,
      "object_fit": null,
      "object_position": null,
      "order": null,
      "overflow": null,
      "overflow_x": null,
      "overflow_y": null,
      "padding": null,
      "right": null,
      "top": null,
      "visibility": null,
      "width": null
     }
    },
    "4c5fe3b7aab94a2aa7956a13eb441a3e": {
     "model_module": "@jupyter-widgets/base",
     "model_module_version": "1.2.0",
     "model_name": "LayoutModel",
     "state": {
      "_model_module": "@jupyter-widgets/base",
      "_model_module_version": "1.2.0",
      "_model_name": "LayoutModel",
      "_view_count": null,
      "_view_module": "@jupyter-widgets/base",
      "_view_module_version": "1.2.0",
      "_view_name": "LayoutView",
      "align_content": null,
      "align_items": null,
      "align_self": null,
      "border": null,
      "bottom": null,
      "display": null,
      "flex": null,
      "flex_flow": null,
      "grid_area": null,
      "grid_auto_columns": null,
      "grid_auto_flow": null,
      "grid_auto_rows": null,
      "grid_column": null,
      "grid_gap": null,
      "grid_row": null,
      "grid_template_areas": null,
      "grid_template_columns": null,
      "grid_template_rows": null,
      "height": null,
      "justify_content": null,
      "justify_items": null,
      "left": null,
      "margin": null,
      "max_height": null,
      "max_width": null,
      "min_height": null,
      "min_width": null,
      "object_fit": null,
      "object_position": null,
      "order": null,
      "overflow": null,
      "overflow_x": null,
      "overflow_y": null,
      "padding": null,
      "right": null,
      "top": null,
      "visibility": null,
      "width": null
     }
    },
    "519162a7b01847569323c7f24b604fc6": {
     "model_module": "@jupyter-widgets/controls",
     "model_module_version": "1.5.0",
     "model_name": "FloatProgressModel",
     "state": {
      "_dom_classes": [],
      "_model_module": "@jupyter-widgets/controls",
      "_model_module_version": "1.5.0",
      "_model_name": "FloatProgressModel",
      "_view_count": null,
      "_view_module": "@jupyter-widgets/controls",
      "_view_module_version": "1.5.0",
      "_view_name": "ProgressView",
      "bar_style": "success",
      "description": "",
      "description_tooltip": null,
      "layout": "IPY_MODEL_b9d8cf98190d430683f17e0043364882",
      "max": 133932,
      "min": 0,
      "orientation": "horizontal",
      "style": "IPY_MODEL_c8c0818869e24aaa82c76fc77dc5c3a7",
      "value": 133932
     }
    },
    "523bd29ce7ed4deda2a9854fa70ac95e": {
     "model_module": "@jupyter-widgets/base",
     "model_module_version": "1.2.0",
     "model_name": "LayoutModel",
     "state": {
      "_model_module": "@jupyter-widgets/base",
      "_model_module_version": "1.2.0",
      "_model_name": "LayoutModel",
      "_view_count": null,
      "_view_module": "@jupyter-widgets/base",
      "_view_module_version": "1.2.0",
      "_view_name": "LayoutView",
      "align_content": null,
      "align_items": null,
      "align_self": null,
      "border": null,
      "bottom": null,
      "display": null,
      "flex": null,
      "flex_flow": null,
      "grid_area": null,
      "grid_auto_columns": null,
      "grid_auto_flow": null,
      "grid_auto_rows": null,
      "grid_column": null,
      "grid_gap": null,
      "grid_row": null,
      "grid_template_areas": null,
      "grid_template_columns": null,
      "grid_template_rows": null,
      "height": null,
      "justify_content": null,
      "justify_items": null,
      "left": null,
      "margin": null,
      "max_height": null,
      "max_width": null,
      "min_height": null,
      "min_width": null,
      "object_fit": null,
      "object_position": null,
      "order": null,
      "overflow": null,
      "overflow_x": null,
      "overflow_y": null,
      "padding": null,
      "right": null,
      "top": null,
      "visibility": null,
      "width": null
     }
    },
    "52aa9fbd599b43b9ade566ecf37009d5": {
     "model_module": "@jupyter-widgets/base",
     "model_module_version": "1.2.0",
     "model_name": "LayoutModel",
     "state": {
      "_model_module": "@jupyter-widgets/base",
      "_model_module_version": "1.2.0",
      "_model_name": "LayoutModel",
      "_view_count": null,
      "_view_module": "@jupyter-widgets/base",
      "_view_module_version": "1.2.0",
      "_view_name": "LayoutView",
      "align_content": null,
      "align_items": null,
      "align_self": null,
      "border": null,
      "bottom": null,
      "display": null,
      "flex": null,
      "flex_flow": null,
      "grid_area": null,
      "grid_auto_columns": null,
      "grid_auto_flow": null,
      "grid_auto_rows": null,
      "grid_column": null,
      "grid_gap": null,
      "grid_row": null,
      "grid_template_areas": null,
      "grid_template_columns": null,
      "grid_template_rows": null,
      "height": null,
      "justify_content": null,
      "justify_items": null,
      "left": null,
      "margin": null,
      "max_height": null,
      "max_width": null,
      "min_height": null,
      "min_width": null,
      "object_fit": null,
      "object_position": null,
      "order": null,
      "overflow": null,
      "overflow_x": null,
      "overflow_y": null,
      "padding": null,
      "right": null,
      "top": null,
      "visibility": null,
      "width": null
     }
    },
    "53e2f5fb3fdb4da3839ffbfb7a1e1da3": {
     "model_module": "@jupyter-widgets/controls",
     "model_module_version": "1.5.0",
     "model_name": "HBoxModel",
     "state": {
      "_dom_classes": [],
      "_model_module": "@jupyter-widgets/controls",
      "_model_module_version": "1.5.0",
      "_model_name": "HBoxModel",
      "_view_count": null,
      "_view_module": "@jupyter-widgets/controls",
      "_view_module_version": "1.5.0",
      "_view_name": "HBoxView",
      "box_style": "",
      "children": [
       "IPY_MODEL_0a6a1fbf5de84eb787323338a1c1307e",
       "IPY_MODEL_67cdd0adfea640fda3359284bb04a8ef",
       "IPY_MODEL_97745fa9dd2948d28b9366a97678ced5"
      ],
      "layout": "IPY_MODEL_2fc4edf8367d4a4e8280352359383a6d"
     }
    },
    "63560f1e79784176b5e96673789e4503": {
     "model_module": "@jupyter-widgets/base",
     "model_module_version": "1.2.0",
     "model_name": "LayoutModel",
     "state": {
      "_model_module": "@jupyter-widgets/base",
      "_model_module_version": "1.2.0",
      "_model_name": "LayoutModel",
      "_view_count": null,
      "_view_module": "@jupyter-widgets/base",
      "_view_module_version": "1.2.0",
      "_view_name": "LayoutView",
      "align_content": null,
      "align_items": null,
      "align_self": null,
      "border": null,
      "bottom": null,
      "display": null,
      "flex": null,
      "flex_flow": null,
      "grid_area": null,
      "grid_auto_columns": null,
      "grid_auto_flow": null,
      "grid_auto_rows": null,
      "grid_column": null,
      "grid_gap": null,
      "grid_row": null,
      "grid_template_areas": null,
      "grid_template_columns": null,
      "grid_template_rows": null,
      "height": null,
      "justify_content": null,
      "justify_items": null,
      "left": null,
      "margin": null,
      "max_height": null,
      "max_width": null,
      "min_height": null,
      "min_width": null,
      "object_fit": null,
      "object_position": null,
      "order": null,
      "overflow": null,
      "overflow_x": null,
      "overflow_y": null,
      "padding": null,
      "right": null,
      "top": null,
      "visibility": null,
      "width": null
     }
    },
    "668af5430a8747cd80313927500cf6af": {
     "model_module": "@jupyter-widgets/base",
     "model_module_version": "1.2.0",
     "model_name": "LayoutModel",
     "state": {
      "_model_module": "@jupyter-widgets/base",
      "_model_module_version": "1.2.0",
      "_model_name": "LayoutModel",
      "_view_count": null,
      "_view_module": "@jupyter-widgets/base",
      "_view_module_version": "1.2.0",
      "_view_name": "LayoutView",
      "align_content": null,
      "align_items": null,
      "align_self": null,
      "border": null,
      "bottom": null,
      "display": null,
      "flex": null,
      "flex_flow": null,
      "grid_area": null,
      "grid_auto_columns": null,
      "grid_auto_flow": null,
      "grid_auto_rows": null,
      "grid_column": null,
      "grid_gap": null,
      "grid_row": null,
      "grid_template_areas": null,
      "grid_template_columns": null,
      "grid_template_rows": null,
      "height": null,
      "justify_content": null,
      "justify_items": null,
      "left": null,
      "margin": null,
      "max_height": null,
      "max_width": null,
      "min_height": null,
      "min_width": null,
      "object_fit": null,
      "object_position": null,
      "order": null,
      "overflow": null,
      "overflow_x": null,
      "overflow_y": null,
      "padding": null,
      "right": null,
      "top": null,
      "visibility": null,
      "width": null
     }
    },
    "67cdd0adfea640fda3359284bb04a8ef": {
     "model_module": "@jupyter-widgets/controls",
     "model_module_version": "1.5.0",
     "model_name": "FloatProgressModel",
     "state": {
      "_dom_classes": [],
      "_model_module": "@jupyter-widgets/controls",
      "_model_module_version": "1.5.0",
      "_model_name": "FloatProgressModel",
      "_view_count": null,
      "_view_module": "@jupyter-widgets/controls",
      "_view_module_version": "1.5.0",
      "_view_name": "ProgressView",
      "bar_style": "success",
      "description": "",
      "description_tooltip": null,
      "layout": "IPY_MODEL_d4021017523443729138cb98bfb2c5c0",
      "max": 133932,
      "min": 0,
      "orientation": "horizontal",
      "style": "IPY_MODEL_282ac5cc06c24e018a359b3d5648465d",
      "value": 133932
     }
    },
    "688cf617a0394d1ca993cb72e609b847": {
     "model_module": "@jupyter-widgets/controls",
     "model_module_version": "1.5.0",
     "model_name": "FloatProgressModel",
     "state": {
      "_dom_classes": [],
      "_model_module": "@jupyter-widgets/controls",
      "_model_module_version": "1.5.0",
      "_model_name": "FloatProgressModel",
      "_view_count": null,
      "_view_module": "@jupyter-widgets/controls",
      "_view_module_version": "1.5.0",
      "_view_name": "ProgressView",
      "bar_style": "success",
      "description": "",
      "description_tooltip": null,
      "layout": "IPY_MODEL_f4ff32d8e57649a8ab9d8274abf8c04e",
      "max": 1,
      "min": 0,
      "orientation": "horizontal",
      "style": "IPY_MODEL_7d927377fcca4df3aeda2b9fd5c41354",
      "value": 1
     }
    },
    "73c07c8d9fa2490a9382dd0972da8e1b": {
     "model_module": "@jupyter-widgets/base",
     "model_module_version": "1.2.0",
     "model_name": "LayoutModel",
     "state": {
      "_model_module": "@jupyter-widgets/base",
      "_model_module_version": "1.2.0",
      "_model_name": "LayoutModel",
      "_view_count": null,
      "_view_module": "@jupyter-widgets/base",
      "_view_module_version": "1.2.0",
      "_view_name": "LayoutView",
      "align_content": null,
      "align_items": null,
      "align_self": null,
      "border": null,
      "bottom": null,
      "display": null,
      "flex": null,
      "flex_flow": null,
      "grid_area": null,
      "grid_auto_columns": null,
      "grid_auto_flow": null,
      "grid_auto_rows": null,
      "grid_column": null,
      "grid_gap": null,
      "grid_row": null,
      "grid_template_areas": null,
      "grid_template_columns": null,
      "grid_template_rows": null,
      "height": null,
      "justify_content": null,
      "justify_items": null,
      "left": null,
      "margin": null,
      "max_height": null,
      "max_width": null,
      "min_height": null,
      "min_width": null,
      "object_fit": null,
      "object_position": null,
      "order": null,
      "overflow": null,
      "overflow_x": null,
      "overflow_y": null,
      "padding": null,
      "right": null,
      "top": null,
      "visibility": null,
      "width": null
     }
    },
    "7a18896151df482fb1508c580eb364f2": {
     "model_module": "@jupyter-widgets/controls",
     "model_module_version": "1.5.0",
     "model_name": "FloatProgressModel",
     "state": {
      "_dom_classes": [],
      "_model_module": "@jupyter-widgets/controls",
      "_model_module_version": "1.5.0",
      "_model_name": "FloatProgressModel",
      "_view_count": null,
      "_view_module": "@jupyter-widgets/controls",
      "_view_module_version": "1.5.0",
      "_view_name": "ProgressView",
      "bar_style": "success",
      "description": "",
      "description_tooltip": null,
      "layout": "IPY_MODEL_090f6f5562224d6380ab2bbde334dbba",
      "max": 133932,
      "min": 0,
      "orientation": "horizontal",
      "style": "IPY_MODEL_055a6f3a03cd49fdbc189db97d7d7302",
      "value": 133932
     }
    },
    "7b4682a572194fd6b232ba2a5a0e1fd7": {
     "model_module": "@jupyter-widgets/controls",
     "model_module_version": "1.5.0",
     "model_name": "FloatProgressModel",
     "state": {
      "_dom_classes": [],
      "_model_module": "@jupyter-widgets/controls",
      "_model_module_version": "1.5.0",
      "_model_name": "FloatProgressModel",
      "_view_count": null,
      "_view_module": "@jupyter-widgets/controls",
      "_view_module_version": "1.5.0",
      "_view_name": "ProgressView",
      "bar_style": "success",
      "description": "",
      "description_tooltip": null,
      "layout": "IPY_MODEL_0b09c90b137b47a3ba4d89a75948c9f3",
      "max": 1,
      "min": 0,
      "orientation": "horizontal",
      "style": "IPY_MODEL_de42634abd2e4058aea85a4b85d280ac",
      "value": 1
     }
    },
    "7d927377fcca4df3aeda2b9fd5c41354": {
     "model_module": "@jupyter-widgets/controls",
     "model_module_version": "1.5.0",
     "model_name": "ProgressStyleModel",
     "state": {
      "_model_module": "@jupyter-widgets/controls",
      "_model_module_version": "1.5.0",
      "_model_name": "ProgressStyleModel",
      "_view_count": null,
      "_view_module": "@jupyter-widgets/base",
      "_view_module_version": "1.2.0",
      "_view_name": "StyleView",
      "bar_color": null,
      "description_width": ""
     }
    },
    "7f3881a951fd4d99b1eb2b82c830e993": {
     "model_module": "@jupyter-widgets/base",
     "model_module_version": "1.2.0",
     "model_name": "LayoutModel",
     "state": {
      "_model_module": "@jupyter-widgets/base",
      "_model_module_version": "1.2.0",
      "_model_name": "LayoutModel",
      "_view_count": null,
      "_view_module": "@jupyter-widgets/base",
      "_view_module_version": "1.2.0",
      "_view_name": "LayoutView",
      "align_content": null,
      "align_items": null,
      "align_self": null,
      "border": null,
      "bottom": null,
      "display": null,
      "flex": null,
      "flex_flow": null,
      "grid_area": null,
      "grid_auto_columns": null,
      "grid_auto_flow": null,
      "grid_auto_rows": null,
      "grid_column": null,
      "grid_gap": null,
      "grid_row": null,
      "grid_template_areas": null,
      "grid_template_columns": null,
      "grid_template_rows": null,
      "height": null,
      "justify_content": null,
      "justify_items": null,
      "left": null,
      "margin": null,
      "max_height": null,
      "max_width": null,
      "min_height": null,
      "min_width": null,
      "object_fit": null,
      "object_position": null,
      "order": null,
      "overflow": null,
      "overflow_x": null,
      "overflow_y": null,
      "padding": null,
      "right": null,
      "top": null,
      "visibility": null,
      "width": null
     }
    },
    "83c2768dbcc840f39ef8a289e3297850": {
     "model_module": "@jupyter-widgets/controls",
     "model_module_version": "1.5.0",
     "model_name": "DescriptionStyleModel",
     "state": {
      "_model_module": "@jupyter-widgets/controls",
      "_model_module_version": "1.5.0",
      "_model_name": "DescriptionStyleModel",
      "_view_count": null,
      "_view_module": "@jupyter-widgets/base",
      "_view_module_version": "1.2.0",
      "_view_name": "StyleView",
      "description_width": ""
     }
    },
    "84954f7400c6493eb33c65788b9a3a42": {
     "model_module": "@jupyter-widgets/base",
     "model_module_version": "1.2.0",
     "model_name": "LayoutModel",
     "state": {
      "_model_module": "@jupyter-widgets/base",
      "_model_module_version": "1.2.0",
      "_model_name": "LayoutModel",
      "_view_count": null,
      "_view_module": "@jupyter-widgets/base",
      "_view_module_version": "1.2.0",
      "_view_name": "LayoutView",
      "align_content": null,
      "align_items": null,
      "align_self": null,
      "border": null,
      "bottom": null,
      "display": null,
      "flex": null,
      "flex_flow": null,
      "grid_area": null,
      "grid_auto_columns": null,
      "grid_auto_flow": null,
      "grid_auto_rows": null,
      "grid_column": null,
      "grid_gap": null,
      "grid_row": null,
      "grid_template_areas": null,
      "grid_template_columns": null,
      "grid_template_rows": null,
      "height": null,
      "justify_content": null,
      "justify_items": null,
      "left": null,
      "margin": null,
      "max_height": null,
      "max_width": null,
      "min_height": null,
      "min_width": null,
      "object_fit": null,
      "object_position": null,
      "order": null,
      "overflow": null,
      "overflow_x": null,
      "overflow_y": null,
      "padding": null,
      "right": null,
      "top": null,
      "visibility": null,
      "width": null
     }
    },
    "8927c5b12918446aa0c63765e1a12cf9": {
     "model_module": "@jupyter-widgets/controls",
     "model_module_version": "1.5.0",
     "model_name": "DescriptionStyleModel",
     "state": {
      "_model_module": "@jupyter-widgets/controls",
      "_model_module_version": "1.5.0",
      "_model_name": "DescriptionStyleModel",
      "_view_count": null,
      "_view_module": "@jupyter-widgets/base",
      "_view_module_version": "1.2.0",
      "_view_name": "StyleView",
      "description_width": ""
     }
    },
    "8af5690842574234a2b777a8080a6059": {
     "model_module": "@jupyter-widgets/base",
     "model_module_version": "1.2.0",
     "model_name": "LayoutModel",
     "state": {
      "_model_module": "@jupyter-widgets/base",
      "_model_module_version": "1.2.0",
      "_model_name": "LayoutModel",
      "_view_count": null,
      "_view_module": "@jupyter-widgets/base",
      "_view_module_version": "1.2.0",
      "_view_name": "LayoutView",
      "align_content": null,
      "align_items": null,
      "align_self": null,
      "border": null,
      "bottom": null,
      "display": null,
      "flex": null,
      "flex_flow": null,
      "grid_area": null,
      "grid_auto_columns": null,
      "grid_auto_flow": null,
      "grid_auto_rows": null,
      "grid_column": null,
      "grid_gap": null,
      "grid_row": null,
      "grid_template_areas": null,
      "grid_template_columns": null,
      "grid_template_rows": null,
      "height": null,
      "justify_content": null,
      "justify_items": null,
      "left": null,
      "margin": null,
      "max_height": null,
      "max_width": null,
      "min_height": null,
      "min_width": null,
      "object_fit": null,
      "object_position": null,
      "order": null,
      "overflow": null,
      "overflow_x": null,
      "overflow_y": null,
      "padding": null,
      "right": null,
      "top": null,
      "visibility": null,
      "width": null
     }
    },
    "8b75878446c3497399f3a55adc351361": {
     "model_module": "@jupyter-widgets/base",
     "model_module_version": "1.2.0",
     "model_name": "LayoutModel",
     "state": {
      "_model_module": "@jupyter-widgets/base",
      "_model_module_version": "1.2.0",
      "_model_name": "LayoutModel",
      "_view_count": null,
      "_view_module": "@jupyter-widgets/base",
      "_view_module_version": "1.2.0",
      "_view_name": "LayoutView",
      "align_content": null,
      "align_items": null,
      "align_self": null,
      "border": null,
      "bottom": null,
      "display": null,
      "flex": null,
      "flex_flow": null,
      "grid_area": null,
      "grid_auto_columns": null,
      "grid_auto_flow": null,
      "grid_auto_rows": null,
      "grid_column": null,
      "grid_gap": null,
      "grid_row": null,
      "grid_template_areas": null,
      "grid_template_columns": null,
      "grid_template_rows": null,
      "height": null,
      "justify_content": null,
      "justify_items": null,
      "left": null,
      "margin": null,
      "max_height": null,
      "max_width": null,
      "min_height": null,
      "min_width": null,
      "object_fit": null,
      "object_position": null,
      "order": null,
      "overflow": null,
      "overflow_x": null,
      "overflow_y": null,
      "padding": null,
      "right": null,
      "top": null,
      "visibility": null,
      "width": null
     }
    },
    "9122e304897e43e8ae62d921aea719b0": {
     "model_module": "@jupyter-widgets/base",
     "model_module_version": "1.2.0",
     "model_name": "LayoutModel",
     "state": {
      "_model_module": "@jupyter-widgets/base",
      "_model_module_version": "1.2.0",
      "_model_name": "LayoutModel",
      "_view_count": null,
      "_view_module": "@jupyter-widgets/base",
      "_view_module_version": "1.2.0",
      "_view_name": "LayoutView",
      "align_content": null,
      "align_items": null,
      "align_self": null,
      "border": null,
      "bottom": null,
      "display": null,
      "flex": null,
      "flex_flow": null,
      "grid_area": null,
      "grid_auto_columns": null,
      "grid_auto_flow": null,
      "grid_auto_rows": null,
      "grid_column": null,
      "grid_gap": null,
      "grid_row": null,
      "grid_template_areas": null,
      "grid_template_columns": null,
      "grid_template_rows": null,
      "height": null,
      "justify_content": null,
      "justify_items": null,
      "left": null,
      "margin": null,
      "max_height": null,
      "max_width": null,
      "min_height": null,
      "min_width": null,
      "object_fit": null,
      "object_position": null,
      "order": null,
      "overflow": null,
      "overflow_x": null,
      "overflow_y": null,
      "padding": null,
      "right": null,
      "top": null,
      "visibility": null,
      "width": null
     }
    },
    "97745fa9dd2948d28b9366a97678ced5": {
     "model_module": "@jupyter-widgets/controls",
     "model_module_version": "1.5.0",
     "model_name": "HTMLModel",
     "state": {
      "_dom_classes": [],
      "_model_module": "@jupyter-widgets/controls",
      "_model_module_version": "1.5.0",
      "_model_name": "HTMLModel",
      "_view_count": null,
      "_view_module": "@jupyter-widgets/controls",
      "_view_module_version": "1.5.0",
      "_view_name": "HTMLView",
      "description": "",
      "description_tooltip": null,
      "layout": "IPY_MODEL_bfc499de5e04477eba32d06dc374871e",
      "placeholder": "​",
      "style": "IPY_MODEL_d933b44af65645eca54a59db16c550a7",
      "value": " 133932/133932 [01:15&lt;00:00, 1643.19it/s]"
     }
    },
    "9d8d5077581346cc815062c8669641c3": {
     "model_module": "@jupyter-widgets/controls",
     "model_module_version": "1.5.0",
     "model_name": "HTMLModel",
     "state": {
      "_dom_classes": [],
      "_model_module": "@jupyter-widgets/controls",
      "_model_module_version": "1.5.0",
      "_model_name": "HTMLModel",
      "_view_count": null,
      "_view_module": "@jupyter-widgets/controls",
      "_view_module_version": "1.5.0",
      "_view_name": "HTMLView",
      "description": "",
      "description_tooltip": null,
      "layout": "IPY_MODEL_4a5d808c877d4943a8629aae32ec57d4",
      "placeholder": "​",
      "style": "IPY_MODEL_13a808becf68446a85ac06bb7efce728",
      "value": " 1/1 [00:00&lt;00:00, 13.77it/s]"
     }
    },
    "9eb29b60ac51486d8719fba1bd90b173": {
     "model_module": "@jupyter-widgets/controls",
     "model_module_version": "1.5.0",
     "model_name": "HBoxModel",
     "state": {
      "_dom_classes": [],
      "_model_module": "@jupyter-widgets/controls",
      "_model_module_version": "1.5.0",
      "_model_name": "HBoxModel",
      "_view_count": null,
      "_view_module": "@jupyter-widgets/controls",
      "_view_module_version": "1.5.0",
      "_view_name": "HBoxView",
      "box_style": "",
      "children": [
       "IPY_MODEL_c19f6f2a149a4d56b998b3ebd54179ff",
       "IPY_MODEL_fd40b9e9ba214837ae02dbd79920ed9e",
       "IPY_MODEL_9d8d5077581346cc815062c8669641c3"
      ],
      "layout": "IPY_MODEL_b8828b616e2d43ea9e25fe1e59748098"
     }
    },
    "a88ed9723f04478bb5806662a54a4441": {
     "model_module": "@jupyter-widgets/base",
     "model_module_version": "1.2.0",
     "model_name": "LayoutModel",
     "state": {
      "_model_module": "@jupyter-widgets/base",
      "_model_module_version": "1.2.0",
      "_model_name": "LayoutModel",
      "_view_count": null,
      "_view_module": "@jupyter-widgets/base",
      "_view_module_version": "1.2.0",
      "_view_name": "LayoutView",
      "align_content": null,
      "align_items": null,
      "align_self": null,
      "border": null,
      "bottom": null,
      "display": null,
      "flex": null,
      "flex_flow": null,
      "grid_area": null,
      "grid_auto_columns": null,
      "grid_auto_flow": null,
      "grid_auto_rows": null,
      "grid_column": null,
      "grid_gap": null,
      "grid_row": null,
      "grid_template_areas": null,
      "grid_template_columns": null,
      "grid_template_rows": null,
      "height": null,
      "justify_content": null,
      "justify_items": null,
      "left": null,
      "margin": null,
      "max_height": null,
      "max_width": null,
      "min_height": null,
      "min_width": null,
      "object_fit": null,
      "object_position": null,
      "order": null,
      "overflow": null,
      "overflow_x": null,
      "overflow_y": null,
      "padding": null,
      "right": null,
      "top": null,
      "visibility": null,
      "width": null
     }
    },
    "b8828b616e2d43ea9e25fe1e59748098": {
     "model_module": "@jupyter-widgets/base",
     "model_module_version": "1.2.0",
     "model_name": "LayoutModel",
     "state": {
      "_model_module": "@jupyter-widgets/base",
      "_model_module_version": "1.2.0",
      "_model_name": "LayoutModel",
      "_view_count": null,
      "_view_module": "@jupyter-widgets/base",
      "_view_module_version": "1.2.0",
      "_view_name": "LayoutView",
      "align_content": null,
      "align_items": null,
      "align_self": null,
      "border": null,
      "bottom": null,
      "display": null,
      "flex": null,
      "flex_flow": null,
      "grid_area": null,
      "grid_auto_columns": null,
      "grid_auto_flow": null,
      "grid_auto_rows": null,
      "grid_column": null,
      "grid_gap": null,
      "grid_row": null,
      "grid_template_areas": null,
      "grid_template_columns": null,
      "grid_template_rows": null,
      "height": null,
      "justify_content": null,
      "justify_items": null,
      "left": null,
      "margin": null,
      "max_height": null,
      "max_width": null,
      "min_height": null,
      "min_width": null,
      "object_fit": null,
      "object_position": null,
      "order": null,
      "overflow": null,
      "overflow_x": null,
      "overflow_y": null,
      "padding": null,
      "right": null,
      "top": null,
      "visibility": null,
      "width": null
     }
    },
    "b927e33d61244d22a6e3a147d35eccaa": {
     "model_module": "@jupyter-widgets/controls",
     "model_module_version": "1.5.0",
     "model_name": "HBoxModel",
     "state": {
      "_dom_classes": [],
      "_model_module": "@jupyter-widgets/controls",
      "_model_module_version": "1.5.0",
      "_model_name": "HBoxModel",
      "_view_count": null,
      "_view_module": "@jupyter-widgets/controls",
      "_view_module_version": "1.5.0",
      "_view_name": "HBoxView",
      "box_style": "",
      "children": [
       "IPY_MODEL_eb322314150b4f39bc1c1255750bfd34",
       "IPY_MODEL_7a18896151df482fb1508c580eb364f2",
       "IPY_MODEL_1642fdbfa4094adeabde784e4cff5e59"
      ],
      "layout": "IPY_MODEL_4c5fe3b7aab94a2aa7956a13eb441a3e"
     }
    },
    "b9d8cf98190d430683f17e0043364882": {
     "model_module": "@jupyter-widgets/base",
     "model_module_version": "1.2.0",
     "model_name": "LayoutModel",
     "state": {
      "_model_module": "@jupyter-widgets/base",
      "_model_module_version": "1.2.0",
      "_model_name": "LayoutModel",
      "_view_count": null,
      "_view_module": "@jupyter-widgets/base",
      "_view_module_version": "1.2.0",
      "_view_name": "LayoutView",
      "align_content": null,
      "align_items": null,
      "align_self": null,
      "border": null,
      "bottom": null,
      "display": null,
      "flex": null,
      "flex_flow": null,
      "grid_area": null,
      "grid_auto_columns": null,
      "grid_auto_flow": null,
      "grid_auto_rows": null,
      "grid_column": null,
      "grid_gap": null,
      "grid_row": null,
      "grid_template_areas": null,
      "grid_template_columns": null,
      "grid_template_rows": null,
      "height": null,
      "justify_content": null,
      "justify_items": null,
      "left": null,
      "margin": null,
      "max_height": null,
      "max_width": null,
      "min_height": null,
      "min_width": null,
      "object_fit": null,
      "object_position": null,
      "order": null,
      "overflow": null,
      "overflow_x": null,
      "overflow_y": null,
      "padding": null,
      "right": null,
      "top": null,
      "visibility": null,
      "width": null
     }
    },
    "ba1b6ac292994df6999796f7b647009e": {
     "model_module": "@jupyter-widgets/controls",
     "model_module_version": "1.5.0",
     "model_name": "FloatProgressModel",
     "state": {
      "_dom_classes": [],
      "_model_module": "@jupyter-widgets/controls",
      "_model_module_version": "1.5.0",
      "_model_name": "FloatProgressModel",
      "_view_count": null,
      "_view_module": "@jupyter-widgets/controls",
      "_view_module_version": "1.5.0",
      "_view_name": "ProgressView",
      "bar_style": "success",
      "description": "",
      "description_tooltip": null,
      "layout": "IPY_MODEL_73c07c8d9fa2490a9382dd0972da8e1b",
      "max": 133932,
      "min": 0,
      "orientation": "horizontal",
      "style": "IPY_MODEL_c7775a5517cc46d6ae0a8372119dab11",
      "value": 133932
     }
    },
    "bb2c652e2a0c40cb908f89ddae7ddedf": {
     "model_module": "@jupyter-widgets/controls",
     "model_module_version": "1.5.0",
     "model_name": "HTMLModel",
     "state": {
      "_dom_classes": [],
      "_model_module": "@jupyter-widgets/controls",
      "_model_module_version": "1.5.0",
      "_model_name": "HTMLModel",
      "_view_count": null,
      "_view_module": "@jupyter-widgets/controls",
      "_view_module_version": "1.5.0",
      "_view_name": "HTMLView",
      "description": "",
      "description_tooltip": null,
      "layout": "IPY_MODEL_44fc60ce71c0414babb58d24e1f61ebb",
      "placeholder": "​",
      "style": "IPY_MODEL_f95be64fe0b1402793faad2b01500684",
      "value": " 1/1 [00:00&lt;00:00, 14.90it/s]"
     }
    },
    "bfc499de5e04477eba32d06dc374871e": {
     "model_module": "@jupyter-widgets/base",
     "model_module_version": "1.2.0",
     "model_name": "LayoutModel",
     "state": {
      "_model_module": "@jupyter-widgets/base",
      "_model_module_version": "1.2.0",
      "_model_name": "LayoutModel",
      "_view_count": null,
      "_view_module": "@jupyter-widgets/base",
      "_view_module_version": "1.2.0",
      "_view_name": "LayoutView",
      "align_content": null,
      "align_items": null,
      "align_self": null,
      "border": null,
      "bottom": null,
      "display": null,
      "flex": null,
      "flex_flow": null,
      "grid_area": null,
      "grid_auto_columns": null,
      "grid_auto_flow": null,
      "grid_auto_rows": null,
      "grid_column": null,
      "grid_gap": null,
      "grid_row": null,
      "grid_template_areas": null,
      "grid_template_columns": null,
      "grid_template_rows": null,
      "height": null,
      "justify_content": null,
      "justify_items": null,
      "left": null,
      "margin": null,
      "max_height": null,
      "max_width": null,
      "min_height": null,
      "min_width": null,
      "object_fit": null,
      "object_position": null,
      "order": null,
      "overflow": null,
      "overflow_x": null,
      "overflow_y": null,
      "padding": null,
      "right": null,
      "top": null,
      "visibility": null,
      "width": null
     }
    },
    "c19f6f2a149a4d56b998b3ebd54179ff": {
     "model_module": "@jupyter-widgets/controls",
     "model_module_version": "1.5.0",
     "model_name": "HTMLModel",
     "state": {
      "_dom_classes": [],
      "_model_module": "@jupyter-widgets/controls",
      "_model_module_version": "1.5.0",
      "_model_name": "HTMLModel",
      "_view_count": null,
      "_view_module": "@jupyter-widgets/controls",
      "_view_module_version": "1.5.0",
      "_view_name": "HTMLView",
      "description": "",
      "description_tooltip": null,
      "layout": "IPY_MODEL_8af5690842574234a2b777a8080a6059",
      "placeholder": "​",
      "style": "IPY_MODEL_fa3935e34d75483a904f56da8d70ceb6",
      "value": "100%"
     }
    },
    "c1c71bee76764efa9841c1c7a322533b": {
     "model_module": "@jupyter-widgets/controls",
     "model_module_version": "1.5.0",
     "model_name": "HTMLModel",
     "state": {
      "_dom_classes": [],
      "_model_module": "@jupyter-widgets/controls",
      "_model_module_version": "1.5.0",
      "_model_name": "HTMLModel",
      "_view_count": null,
      "_view_module": "@jupyter-widgets/controls",
      "_view_module_version": "1.5.0",
      "_view_name": "HTMLView",
      "description": "",
      "description_tooltip": null,
      "layout": "IPY_MODEL_523bd29ce7ed4deda2a9854fa70ac95e",
      "placeholder": "​",
      "style": "IPY_MODEL_3883ee73ffdf4abc97338caa6f89cec9",
      "value": "100%"
     }
    },
    "c5613eb752e44d0999d9baf2d1d96125": {
     "model_module": "@jupyter-widgets/controls",
     "model_module_version": "1.5.0",
     "model_name": "DescriptionStyleModel",
     "state": {
      "_model_module": "@jupyter-widgets/controls",
      "_model_module_version": "1.5.0",
      "_model_name": "DescriptionStyleModel",
      "_view_count": null,
      "_view_module": "@jupyter-widgets/base",
      "_view_module_version": "1.2.0",
      "_view_name": "StyleView",
      "description_width": ""
     }
    },
    "c7775a5517cc46d6ae0a8372119dab11": {
     "model_module": "@jupyter-widgets/controls",
     "model_module_version": "1.5.0",
     "model_name": "ProgressStyleModel",
     "state": {
      "_model_module": "@jupyter-widgets/controls",
      "_model_module_version": "1.5.0",
      "_model_name": "ProgressStyleModel",
      "_view_count": null,
      "_view_module": "@jupyter-widgets/base",
      "_view_module_version": "1.2.0",
      "_view_name": "StyleView",
      "bar_color": null,
      "description_width": ""
     }
    },
    "c8c0818869e24aaa82c76fc77dc5c3a7": {
     "model_module": "@jupyter-widgets/controls",
     "model_module_version": "1.5.0",
     "model_name": "ProgressStyleModel",
     "state": {
      "_model_module": "@jupyter-widgets/controls",
      "_model_module_version": "1.5.0",
      "_model_name": "ProgressStyleModel",
      "_view_count": null,
      "_view_module": "@jupyter-widgets/base",
      "_view_module_version": "1.2.0",
      "_view_name": "StyleView",
      "bar_color": null,
      "description_width": ""
     }
    },
    "cc68c32e13da4fdd9c1c2c027a596410": {
     "model_module": "@jupyter-widgets/base",
     "model_module_version": "1.2.0",
     "model_name": "LayoutModel",
     "state": {
      "_model_module": "@jupyter-widgets/base",
      "_model_module_version": "1.2.0",
      "_model_name": "LayoutModel",
      "_view_count": null,
      "_view_module": "@jupyter-widgets/base",
      "_view_module_version": "1.2.0",
      "_view_name": "LayoutView",
      "align_content": null,
      "align_items": null,
      "align_self": null,
      "border": null,
      "bottom": null,
      "display": null,
      "flex": null,
      "flex_flow": null,
      "grid_area": null,
      "grid_auto_columns": null,
      "grid_auto_flow": null,
      "grid_auto_rows": null,
      "grid_column": null,
      "grid_gap": null,
      "grid_row": null,
      "grid_template_areas": null,
      "grid_template_columns": null,
      "grid_template_rows": null,
      "height": null,
      "justify_content": null,
      "justify_items": null,
      "left": null,
      "margin": null,
      "max_height": null,
      "max_width": null,
      "min_height": null,
      "min_width": null,
      "object_fit": null,
      "object_position": null,
      "order": null,
      "overflow": null,
      "overflow_x": null,
      "overflow_y": null,
      "padding": null,
      "right": null,
      "top": null,
      "visibility": null,
      "width": null
     }
    },
    "d030101cf259485db6cdbea6c8a3d3a9": {
     "model_module": "@jupyter-widgets/controls",
     "model_module_version": "1.5.0",
     "model_name": "DescriptionStyleModel",
     "state": {
      "_model_module": "@jupyter-widgets/controls",
      "_model_module_version": "1.5.0",
      "_model_name": "DescriptionStyleModel",
      "_view_count": null,
      "_view_module": "@jupyter-widgets/base",
      "_view_module_version": "1.2.0",
      "_view_name": "StyleView",
      "description_width": ""
     }
    },
    "d4021017523443729138cb98bfb2c5c0": {
     "model_module": "@jupyter-widgets/base",
     "model_module_version": "1.2.0",
     "model_name": "LayoutModel",
     "state": {
      "_model_module": "@jupyter-widgets/base",
      "_model_module_version": "1.2.0",
      "_model_name": "LayoutModel",
      "_view_count": null,
      "_view_module": "@jupyter-widgets/base",
      "_view_module_version": "1.2.0",
      "_view_name": "LayoutView",
      "align_content": null,
      "align_items": null,
      "align_self": null,
      "border": null,
      "bottom": null,
      "display": null,
      "flex": null,
      "flex_flow": null,
      "grid_area": null,
      "grid_auto_columns": null,
      "grid_auto_flow": null,
      "grid_auto_rows": null,
      "grid_column": null,
      "grid_gap": null,
      "grid_row": null,
      "grid_template_areas": null,
      "grid_template_columns": null,
      "grid_template_rows": null,
      "height": null,
      "justify_content": null,
      "justify_items": null,
      "left": null,
      "margin": null,
      "max_height": null,
      "max_width": null,
      "min_height": null,
      "min_width": null,
      "object_fit": null,
      "object_position": null,
      "order": null,
      "overflow": null,
      "overflow_x": null,
      "overflow_y": null,
      "padding": null,
      "right": null,
      "top": null,
      "visibility": null,
      "width": null
     }
    },
    "d933b44af65645eca54a59db16c550a7": {
     "model_module": "@jupyter-widgets/controls",
     "model_module_version": "1.5.0",
     "model_name": "DescriptionStyleModel",
     "state": {
      "_model_module": "@jupyter-widgets/controls",
      "_model_module_version": "1.5.0",
      "_model_name": "DescriptionStyleModel",
      "_view_count": null,
      "_view_module": "@jupyter-widgets/base",
      "_view_module_version": "1.2.0",
      "_view_name": "StyleView",
      "description_width": ""
     }
    },
    "de42634abd2e4058aea85a4b85d280ac": {
     "model_module": "@jupyter-widgets/controls",
     "model_module_version": "1.5.0",
     "model_name": "ProgressStyleModel",
     "state": {
      "_model_module": "@jupyter-widgets/controls",
      "_model_module_version": "1.5.0",
      "_model_name": "ProgressStyleModel",
      "_view_count": null,
      "_view_module": "@jupyter-widgets/base",
      "_view_module_version": "1.2.0",
      "_view_name": "StyleView",
      "bar_color": null,
      "description_width": ""
     }
    },
    "e0fc49647ccb4beab1603da16a8c1099": {
     "model_module": "@jupyter-widgets/controls",
     "model_module_version": "1.5.0",
     "model_name": "ProgressStyleModel",
     "state": {
      "_model_module": "@jupyter-widgets/controls",
      "_model_module_version": "1.5.0",
      "_model_name": "ProgressStyleModel",
      "_view_count": null,
      "_view_module": "@jupyter-widgets/base",
      "_view_module_version": "1.2.0",
      "_view_name": "StyleView",
      "bar_color": null,
      "description_width": ""
     }
    },
    "ea7bcb86097c40b1a5038ca8cf80d2cd": {
     "model_module": "@jupyter-widgets/controls",
     "model_module_version": "1.5.0",
     "model_name": "HBoxModel",
     "state": {
      "_dom_classes": [],
      "_model_module": "@jupyter-widgets/controls",
      "_model_module_version": "1.5.0",
      "_model_name": "HBoxModel",
      "_view_count": null,
      "_view_module": "@jupyter-widgets/controls",
      "_view_module_version": "1.5.0",
      "_view_name": "HBoxView",
      "box_style": "",
      "children": [
       "IPY_MODEL_c1c71bee76764efa9841c1c7a322533b",
       "IPY_MODEL_688cf617a0394d1ca993cb72e609b847",
       "IPY_MODEL_04d83c2e331d49baa42c84e47cd7198e"
      ],
      "layout": "IPY_MODEL_52aa9fbd599b43b9ade566ecf37009d5"
     }
    },
    "eb322314150b4f39bc1c1255750bfd34": {
     "model_module": "@jupyter-widgets/controls",
     "model_module_version": "1.5.0",
     "model_name": "HTMLModel",
     "state": {
      "_dom_classes": [],
      "_model_module": "@jupyter-widgets/controls",
      "_model_module_version": "1.5.0",
      "_model_name": "HTMLModel",
      "_view_count": null,
      "_view_module": "@jupyter-widgets/controls",
      "_view_module_version": "1.5.0",
      "_view_name": "HTMLView",
      "description": "",
      "description_tooltip": null,
      "layout": "IPY_MODEL_a88ed9723f04478bb5806662a54a4441",
      "placeholder": "​",
      "style": "IPY_MODEL_122fc96fcbdf431ba32318e573df05b9",
      "value": "100%"
     }
    },
    "ec16c7ece8c547548f9805fdc420647f": {
     "model_module": "@jupyter-widgets/controls",
     "model_module_version": "1.5.0",
     "model_name": "DescriptionStyleModel",
     "state": {
      "_model_module": "@jupyter-widgets/controls",
      "_model_module_version": "1.5.0",
      "_model_name": "DescriptionStyleModel",
      "_view_count": null,
      "_view_module": "@jupyter-widgets/base",
      "_view_module_version": "1.2.0",
      "_view_name": "StyleView",
      "description_width": ""
     }
    },
    "ec3e5fed182f4758be4e7b6340e7212c": {
     "model_module": "@jupyter-widgets/controls",
     "model_module_version": "1.5.0",
     "model_name": "HTMLModel",
     "state": {
      "_dom_classes": [],
      "_model_module": "@jupyter-widgets/controls",
      "_model_module_version": "1.5.0",
      "_model_name": "HTMLModel",
      "_view_count": null,
      "_view_module": "@jupyter-widgets/controls",
      "_view_module_version": "1.5.0",
      "_view_name": "HTMLView",
      "description": "",
      "description_tooltip": null,
      "layout": "IPY_MODEL_8b75878446c3497399f3a55adc351361",
      "placeholder": "​",
      "style": "IPY_MODEL_eff456113cb84d6887b6ada5862d759b",
      "value": " 133932/133932 [00:53&lt;00:00, 3691.46it/s]"
     }
    },
    "eff456113cb84d6887b6ada5862d759b": {
     "model_module": "@jupyter-widgets/controls",
     "model_module_version": "1.5.0",
     "model_name": "DescriptionStyleModel",
     "state": {
      "_model_module": "@jupyter-widgets/controls",
      "_model_module_version": "1.5.0",
      "_model_name": "DescriptionStyleModel",
      "_view_count": null,
      "_view_module": "@jupyter-widgets/base",
      "_view_module_version": "1.2.0",
      "_view_name": "StyleView",
      "description_width": ""
     }
    },
    "f4ff32d8e57649a8ab9d8274abf8c04e": {
     "model_module": "@jupyter-widgets/base",
     "model_module_version": "1.2.0",
     "model_name": "LayoutModel",
     "state": {
      "_model_module": "@jupyter-widgets/base",
      "_model_module_version": "1.2.0",
      "_model_name": "LayoutModel",
      "_view_count": null,
      "_view_module": "@jupyter-widgets/base",
      "_view_module_version": "1.2.0",
      "_view_name": "LayoutView",
      "align_content": null,
      "align_items": null,
      "align_self": null,
      "border": null,
      "bottom": null,
      "display": null,
      "flex": null,
      "flex_flow": null,
      "grid_area": null,
      "grid_auto_columns": null,
      "grid_auto_flow": null,
      "grid_auto_rows": null,
      "grid_column": null,
      "grid_gap": null,
      "grid_row": null,
      "grid_template_areas": null,
      "grid_template_columns": null,
      "grid_template_rows": null,
      "height": null,
      "justify_content": null,
      "justify_items": null,
      "left": null,
      "margin": null,
      "max_height": null,
      "max_width": null,
      "min_height": null,
      "min_width": null,
      "object_fit": null,
      "object_position": null,
      "order": null,
      "overflow": null,
      "overflow_x": null,
      "overflow_y": null,
      "padding": null,
      "right": null,
      "top": null,
      "visibility": null,
      "width": null
     }
    },
    "f95be64fe0b1402793faad2b01500684": {
     "model_module": "@jupyter-widgets/controls",
     "model_module_version": "1.5.0",
     "model_name": "DescriptionStyleModel",
     "state": {
      "_model_module": "@jupyter-widgets/controls",
      "_model_module_version": "1.5.0",
      "_model_name": "DescriptionStyleModel",
      "_view_count": null,
      "_view_module": "@jupyter-widgets/base",
      "_view_module_version": "1.2.0",
      "_view_name": "StyleView",
      "description_width": ""
     }
    },
    "fa3935e34d75483a904f56da8d70ceb6": {
     "model_module": "@jupyter-widgets/controls",
     "model_module_version": "1.5.0",
     "model_name": "DescriptionStyleModel",
     "state": {
      "_model_module": "@jupyter-widgets/controls",
      "_model_module_version": "1.5.0",
      "_model_name": "DescriptionStyleModel",
      "_view_count": null,
      "_view_module": "@jupyter-widgets/base",
      "_view_module_version": "1.2.0",
      "_view_name": "StyleView",
      "description_width": ""
     }
    },
    "fc4ce4f5ea934c819d6edb364bc4bfcf": {
     "model_module": "@jupyter-widgets/controls",
     "model_module_version": "1.5.0",
     "model_name": "HBoxModel",
     "state": {
      "_dom_classes": [],
      "_model_module": "@jupyter-widgets/controls",
      "_model_module_version": "1.5.0",
      "_model_name": "HBoxModel",
      "_view_count": null,
      "_view_module": "@jupyter-widgets/controls",
      "_view_module_version": "1.5.0",
      "_view_name": "HBoxView",
      "box_style": "",
      "children": [
       "IPY_MODEL_370c5bbb69704928bde1433d95ad71b4",
       "IPY_MODEL_7b4682a572194fd6b232ba2a5a0e1fd7",
       "IPY_MODEL_bb2c652e2a0c40cb908f89ddae7ddedf"
      ],
      "layout": "IPY_MODEL_9122e304897e43e8ae62d921aea719b0"
     }
    },
    "fd40b9e9ba214837ae02dbd79920ed9e": {
     "model_module": "@jupyter-widgets/controls",
     "model_module_version": "1.5.0",
     "model_name": "FloatProgressModel",
     "state": {
      "_dom_classes": [],
      "_model_module": "@jupyter-widgets/controls",
      "_model_module_version": "1.5.0",
      "_model_name": "FloatProgressModel",
      "_view_count": null,
      "_view_module": "@jupyter-widgets/controls",
      "_view_module_version": "1.5.0",
      "_view_name": "ProgressView",
      "bar_style": "success",
      "description": "",
      "description_tooltip": null,
      "layout": "IPY_MODEL_63560f1e79784176b5e96673789e4503",
      "max": 1,
      "min": 0,
      "orientation": "horizontal",
      "style": "IPY_MODEL_e0fc49647ccb4beab1603da16a8c1099",
      "value": 1
     }
    }
   }
  }
 },
 "nbformat": 4,
 "nbformat_minor": 5
}
